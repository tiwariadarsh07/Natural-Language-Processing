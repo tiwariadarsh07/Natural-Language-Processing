{
  "nbformat": 4,
  "nbformat_minor": 0,
  "metadata": {
    "colab": {
      "provenance": [],
      "authorship_tag": "ABX9TyPrP2ySyyx0Rz9EUoiSnnl4",
      "include_colab_link": true
    },
    "kernelspec": {
      "name": "python3",
      "display_name": "Python 3"
    },
    "language_info": {
      "name": "python"
    }
  },
  "cells": [
    {
      "cell_type": "markdown",
      "metadata": {
        "id": "view-in-github",
        "colab_type": "text"
      },
      "source": [
        "<a href=\"https://colab.research.google.com/github/tiwariadarsh07/Natural-Language-Processing/blob/main/Quora%20Insincere%20Questions%20Classification.ipynb\" target=\"_parent\"><img src=\"https://colab.research.google.com/assets/colab-badge.svg\" alt=\"Open In Colab\"/></a>"
      ]
    },
    {
      "cell_type": "code",
      "execution_count": 1,
      "metadata": {
        "colab": {
          "base_uri": "https://localhost:8080/"
        },
        "id": "LnQxRn-GzREV",
        "outputId": "dd3a5a18-3a5b-4389-9cbc-0be7211c66ae"
      },
      "outputs": [
        {
          "output_type": "stream",
          "name": "stdout",
          "text": [
            "Hello world\n"
          ]
        }
      ],
      "source": [
        "print(\"Hello world\")"
      ]
    },
    {
      "cell_type": "markdown",
      "source": [
        "# Text Classification with Bag of Words - Natural Language Processing\n",
        "\n",
        "![](https://i.imgur.com/hlEQ5X8.png)\n",
        "\n",
        "> _\"Natural language processing (NLP) is a subfield of linguistics, computer science, and artificial intelligence concerned with the interactions between computers and human language, in particular how to program computers to process and analyze large amounts of natural language data.\"_ - Wikipedia\n",
        "\n",
        "> _**Bag of Words**: The bag-of-words (BOW) model is a representation that turns arbitrary text into fixed-length vectors by counting how many times each word appears._\n",
        " \n",
        "Outline:\n",
        "\n",
        "1. Download and explore a real-world dataset\n",
        "2. Apply text preprocessing techniques\n",
        "3. Implement the bag of words model\n",
        "4. Train ML models for text classification\n",
        "5. Make predictions and submit to Kaggle\n",
        "\n",
        "\n",
        "Dataset: https://www.kaggle.com/c/quora-insincere-questions-classification\n"
      ],
      "metadata": {
        "id": "eOLuerCMM7dv"
      }
    },
    {
      "cell_type": "markdown",
      "source": [
        "## Download and Explore the Data\n",
        "\n",
        "Outline:\n",
        "\n",
        "1. Download the dataset from Kaggle to Colab\n",
        "2. Explore the data using Pandas\n",
        "3. Create a small working sample"
      ],
      "metadata": {
        "id": "TDYm26AmNBDM"
      }
    },
    {
      "cell_type": "code",
      "source": [
        "!ls"
      ],
      "metadata": {
        "colab": {
          "base_uri": "https://localhost:8080/"
        },
        "id": "iNbTYBOR0bnP",
        "outputId": "14224981-f855-42a1-f86f-04e4254331d7"
      },
      "execution_count": 2,
      "outputs": [
        {
          "output_type": "stream",
          "name": "stdout",
          "text": [
            "kaggle.json  quora-insincere-questions-classification.zip  sample_data\n"
          ]
        }
      ]
    },
    {
      "cell_type": "code",
      "source": [
        "!kaggle competitions download -c quora-insincere-questions-classification"
      ],
      "metadata": {
        "colab": {
          "base_uri": "https://localhost:8080/"
        },
        "id": "dGyRqOeh0baV",
        "outputId": "5ddc4251-d129-431e-89cd-ea72f0f09efd"
      },
      "execution_count": 3,
      "outputs": [
        {
          "output_type": "stream",
          "name": "stdout",
          "text": [
            "Traceback (most recent call last):\n",
            "  File \"/usr/local/bin/kaggle\", line 5, in <module>\n",
            "    from kaggle.cli import main\n",
            "  File \"/usr/local/lib/python3.8/dist-packages/kaggle/__init__.py\", line 23, in <module>\n",
            "    api.authenticate()\n",
            "  File \"/usr/local/lib/python3.8/dist-packages/kaggle/api/kaggle_api_extended.py\", line 164, in authenticate\n",
            "    raise IOError('Could not find {}. Make sure it\\'s located in'\n",
            "OSError: Could not find kaggle.json. Make sure it's located in /root/.kaggle. Or use the environment method.\n"
          ]
        }
      ]
    },
    {
      "cell_type": "code",
      "source": [
        "!pip install kaggle"
      ],
      "metadata": {
        "colab": {
          "base_uri": "https://localhost:8080/"
        },
        "id": "SsO-1Z690bLy",
        "outputId": "59fdf16c-83d2-45d3-81cc-fd3cb93a58c4"
      },
      "execution_count": null,
      "outputs": [
        {
          "output_type": "stream",
          "name": "stdout",
          "text": [
            "Looking in indexes: https://pypi.org/simple, https://us-python.pkg.dev/colab-wheels/public/simple/\n",
            "Requirement already satisfied: kaggle in /usr/local/lib/python3.8/dist-packages (1.5.12)\n",
            "Requirement already satisfied: python-slugify in /usr/local/lib/python3.8/dist-packages (from kaggle) (7.0.0)\n",
            "Requirement already satisfied: certifi in /usr/local/lib/python3.8/dist-packages (from kaggle) (2022.9.24)\n",
            "Requirement already satisfied: requests in /usr/local/lib/python3.8/dist-packages (from kaggle) (2.23.0)\n",
            "Requirement already satisfied: urllib3 in /usr/local/lib/python3.8/dist-packages (from kaggle) (1.24.3)\n",
            "Requirement already satisfied: tqdm in /usr/local/lib/python3.8/dist-packages (from kaggle) (4.64.1)\n",
            "Requirement already satisfied: six>=1.10 in /usr/local/lib/python3.8/dist-packages (from kaggle) (1.15.0)\n",
            "Requirement already satisfied: python-dateutil in /usr/local/lib/python3.8/dist-packages (from kaggle) (2.8.2)\n",
            "Requirement already satisfied: text-unidecode>=1.3 in /usr/local/lib/python3.8/dist-packages (from python-slugify->kaggle) (1.3)\n",
            "Requirement already satisfied: chardet<4,>=3.0.2 in /usr/local/lib/python3.8/dist-packages (from requests->kaggle) (3.0.4)\n",
            "Requirement already satisfied: idna<3,>=2.5 in /usr/local/lib/python3.8/dist-packages (from requests->kaggle) (2.10)\n"
          ]
        }
      ]
    },
    {
      "cell_type": "code",
      "source": [
        "import os"
      ],
      "metadata": {
        "id": "nlJapOuX0-rz"
      },
      "execution_count": 4,
      "outputs": []
    },
    {
      "cell_type": "code",
      "source": [
        "os.environ['KAGGLE_CONFIG_DIR'] = '.'"
      ],
      "metadata": {
        "id": "U6Q2SgQ30-n8"
      },
      "execution_count": 5,
      "outputs": []
    },
    {
      "cell_type": "code",
      "source": [
        "!kaggle competitions download -c quora-insincere-questions-classification -f train.csv -p data"
      ],
      "metadata": {
        "colab": {
          "base_uri": "https://localhost:8080/"
        },
        "id": "YUbaR3mb0-lB",
        "outputId": "60d2f6a8-72b9-4e2c-ca78-33f6c356a07c"
      },
      "execution_count": 6,
      "outputs": [
        {
          "output_type": "stream",
          "name": "stdout",
          "text": [
            "Warning: Your Kaggle API key is readable by other users on this system! To fix this, you can run 'chmod 600 ./kaggle.json'\n",
            "Downloading train.csv.zip to data\n",
            " 75% 41.0M/54.9M [00:00<00:00, 102MB/s] \n",
            "100% 54.9M/54.9M [00:00<00:00, 110MB/s]\n"
          ]
        }
      ]
    },
    {
      "cell_type": "code",
      "source": [
        "!kaggle competitions download -c quora-insincere-questions-classification -f test.csv -p data"
      ],
      "metadata": {
        "colab": {
          "base_uri": "https://localhost:8080/"
        },
        "id": "CiTu2O2l0-iO",
        "outputId": "b5a58455-0ad7-4f6d-c0db-ea72f36b5185"
      },
      "execution_count": 7,
      "outputs": [
        {
          "output_type": "stream",
          "name": "stdout",
          "text": [
            "Warning: Your Kaggle API key is readable by other users on this system! To fix this, you can run 'chmod 600 ./kaggle.json'\n",
            "Downloading test.csv.zip to data\n",
            " 32% 5.00M/15.8M [00:00<00:00, 41.3MB/s]\n",
            "100% 15.8M/15.8M [00:00<00:00, 93.4MB/s]\n"
          ]
        }
      ]
    },
    {
      "cell_type": "code",
      "source": [
        "!kaggle competitions download -c quora-insincere-questions-classification -f sample_submission.csv -p data"
      ],
      "metadata": {
        "colab": {
          "base_uri": "https://localhost:8080/"
        },
        "id": "fhGboXj40-ff",
        "outputId": "e231c950-435f-4ef5-812c-487eb11b5cfa"
      },
      "execution_count": 8,
      "outputs": [
        {
          "output_type": "stream",
          "name": "stdout",
          "text": [
            "Warning: Your Kaggle API key is readable by other users on this system! To fix this, you can run 'chmod 600 ./kaggle.json'\n",
            "Downloading sample_submission.csv.zip to data\n",
            "  0% 0.00/4.09M [00:00<?, ?B/s]\n",
            "100% 4.09M/4.09M [00:00<00:00, 158MB/s]\n"
          ]
        }
      ]
    },
    {
      "cell_type": "markdown",
      "source": [
        "## Exploring The Data"
      ],
      "metadata": {
        "id": "ksEamOUv3BHw"
      }
    },
    {
      "cell_type": "code",
      "source": [
        "train_fname = 'data/train.csv.zip'"
      ],
      "metadata": {
        "id": "cC2PXXDM0-cw"
      },
      "execution_count": 9,
      "outputs": []
    },
    {
      "cell_type": "code",
      "source": [
        "test_fname = 'data/test.csv.zip'\n",
        "sample_fname = 'data/sample_submission.csv.zip'"
      ],
      "metadata": {
        "id": "XUNW71tb0-Z5"
      },
      "execution_count": 10,
      "outputs": []
    },
    {
      "cell_type": "code",
      "source": [
        "import pandas as pd"
      ],
      "metadata": {
        "id": "fzgnDFCt0-Tf"
      },
      "execution_count": 11,
      "outputs": []
    },
    {
      "cell_type": "code",
      "source": [
        "raw_df = pd.read_csv(train_fname)\n"
      ],
      "metadata": {
        "id": "E6gYBNZd0-QP"
      },
      "execution_count": 12,
      "outputs": []
    },
    {
      "cell_type": "code",
      "source": [
        "raw_df"
      ],
      "metadata": {
        "colab": {
          "base_uri": "https://localhost:8080/",
          "height": 424
        },
        "id": "M6WuXFdd0-Nr",
        "outputId": "18829f88-1de2-4543-8ba2-929272ee14d2"
      },
      "execution_count": 13,
      "outputs": [
        {
          "output_type": "execute_result",
          "data": {
            "text/plain": [
              "                          qid  \\\n",
              "0        00002165364db923c7e6   \n",
              "1        000032939017120e6e44   \n",
              "2        0000412ca6e4628ce2cf   \n",
              "3        000042bf85aa498cd78e   \n",
              "4        0000455dfa3e01eae3af   \n",
              "...                       ...   \n",
              "1306117  ffffcc4e2331aaf1e41e   \n",
              "1306118  ffffd431801e5a2f4861   \n",
              "1306119  ffffd48fb36b63db010c   \n",
              "1306120  ffffec519fa37cf60c78   \n",
              "1306121  ffffed09fedb5088744a   \n",
              "\n",
              "                                             question_text  target  \n",
              "0        How did Quebec nationalists see their province...       0  \n",
              "1        Do you have an adopted dog, how would you enco...       0  \n",
              "2        Why does velocity affect time? Does velocity a...       0  \n",
              "3        How did Otto von Guericke used the Magdeburg h...       0  \n",
              "4        Can I convert montra helicon D to a mountain b...       0  \n",
              "...                                                    ...     ...  \n",
              "1306117  What other technical skills do you need as a c...       0  \n",
              "1306118  Does MS in ECE have good job prospects in USA ...       0  \n",
              "1306119                          Is foam insulation toxic?       0  \n",
              "1306120  How can one start a research project based on ...       0  \n",
              "1306121  Who wins in a battle between a Wolverine and a...       0  \n",
              "\n",
              "[1306122 rows x 3 columns]"
            ],
            "text/html": [
              "\n",
              "  <div id=\"df-4277e661-ab3b-423a-a853-85777de16df5\">\n",
              "    <div class=\"colab-df-container\">\n",
              "      <div>\n",
              "<style scoped>\n",
              "    .dataframe tbody tr th:only-of-type {\n",
              "        vertical-align: middle;\n",
              "    }\n",
              "\n",
              "    .dataframe tbody tr th {\n",
              "        vertical-align: top;\n",
              "    }\n",
              "\n",
              "    .dataframe thead th {\n",
              "        text-align: right;\n",
              "    }\n",
              "</style>\n",
              "<table border=\"1\" class=\"dataframe\">\n",
              "  <thead>\n",
              "    <tr style=\"text-align: right;\">\n",
              "      <th></th>\n",
              "      <th>qid</th>\n",
              "      <th>question_text</th>\n",
              "      <th>target</th>\n",
              "    </tr>\n",
              "  </thead>\n",
              "  <tbody>\n",
              "    <tr>\n",
              "      <th>0</th>\n",
              "      <td>00002165364db923c7e6</td>\n",
              "      <td>How did Quebec nationalists see their province...</td>\n",
              "      <td>0</td>\n",
              "    </tr>\n",
              "    <tr>\n",
              "      <th>1</th>\n",
              "      <td>000032939017120e6e44</td>\n",
              "      <td>Do you have an adopted dog, how would you enco...</td>\n",
              "      <td>0</td>\n",
              "    </tr>\n",
              "    <tr>\n",
              "      <th>2</th>\n",
              "      <td>0000412ca6e4628ce2cf</td>\n",
              "      <td>Why does velocity affect time? Does velocity a...</td>\n",
              "      <td>0</td>\n",
              "    </tr>\n",
              "    <tr>\n",
              "      <th>3</th>\n",
              "      <td>000042bf85aa498cd78e</td>\n",
              "      <td>How did Otto von Guericke used the Magdeburg h...</td>\n",
              "      <td>0</td>\n",
              "    </tr>\n",
              "    <tr>\n",
              "      <th>4</th>\n",
              "      <td>0000455dfa3e01eae3af</td>\n",
              "      <td>Can I convert montra helicon D to a mountain b...</td>\n",
              "      <td>0</td>\n",
              "    </tr>\n",
              "    <tr>\n",
              "      <th>...</th>\n",
              "      <td>...</td>\n",
              "      <td>...</td>\n",
              "      <td>...</td>\n",
              "    </tr>\n",
              "    <tr>\n",
              "      <th>1306117</th>\n",
              "      <td>ffffcc4e2331aaf1e41e</td>\n",
              "      <td>What other technical skills do you need as a c...</td>\n",
              "      <td>0</td>\n",
              "    </tr>\n",
              "    <tr>\n",
              "      <th>1306118</th>\n",
              "      <td>ffffd431801e5a2f4861</td>\n",
              "      <td>Does MS in ECE have good job prospects in USA ...</td>\n",
              "      <td>0</td>\n",
              "    </tr>\n",
              "    <tr>\n",
              "      <th>1306119</th>\n",
              "      <td>ffffd48fb36b63db010c</td>\n",
              "      <td>Is foam insulation toxic?</td>\n",
              "      <td>0</td>\n",
              "    </tr>\n",
              "    <tr>\n",
              "      <th>1306120</th>\n",
              "      <td>ffffec519fa37cf60c78</td>\n",
              "      <td>How can one start a research project based on ...</td>\n",
              "      <td>0</td>\n",
              "    </tr>\n",
              "    <tr>\n",
              "      <th>1306121</th>\n",
              "      <td>ffffed09fedb5088744a</td>\n",
              "      <td>Who wins in a battle between a Wolverine and a...</td>\n",
              "      <td>0</td>\n",
              "    </tr>\n",
              "  </tbody>\n",
              "</table>\n",
              "<p>1306122 rows × 3 columns</p>\n",
              "</div>\n",
              "      <button class=\"colab-df-convert\" onclick=\"convertToInteractive('df-4277e661-ab3b-423a-a853-85777de16df5')\"\n",
              "              title=\"Convert this dataframe to an interactive table.\"\n",
              "              style=\"display:none;\">\n",
              "        \n",
              "  <svg xmlns=\"http://www.w3.org/2000/svg\" height=\"24px\"viewBox=\"0 0 24 24\"\n",
              "       width=\"24px\">\n",
              "    <path d=\"M0 0h24v24H0V0z\" fill=\"none\"/>\n",
              "    <path d=\"M18.56 5.44l.94 2.06.94-2.06 2.06-.94-2.06-.94-.94-2.06-.94 2.06-2.06.94zm-11 1L8.5 8.5l.94-2.06 2.06-.94-2.06-.94L8.5 2.5l-.94 2.06-2.06.94zm10 10l.94 2.06.94-2.06 2.06-.94-2.06-.94-.94-2.06-.94 2.06-2.06.94z\"/><path d=\"M17.41 7.96l-1.37-1.37c-.4-.4-.92-.59-1.43-.59-.52 0-1.04.2-1.43.59L10.3 9.45l-7.72 7.72c-.78.78-.78 2.05 0 2.83L4 21.41c.39.39.9.59 1.41.59.51 0 1.02-.2 1.41-.59l7.78-7.78 2.81-2.81c.8-.78.8-2.07 0-2.86zM5.41 20L4 18.59l7.72-7.72 1.47 1.35L5.41 20z\"/>\n",
              "  </svg>\n",
              "      </button>\n",
              "      \n",
              "  <style>\n",
              "    .colab-df-container {\n",
              "      display:flex;\n",
              "      flex-wrap:wrap;\n",
              "      gap: 12px;\n",
              "    }\n",
              "\n",
              "    .colab-df-convert {\n",
              "      background-color: #E8F0FE;\n",
              "      border: none;\n",
              "      border-radius: 50%;\n",
              "      cursor: pointer;\n",
              "      display: none;\n",
              "      fill: #1967D2;\n",
              "      height: 32px;\n",
              "      padding: 0 0 0 0;\n",
              "      width: 32px;\n",
              "    }\n",
              "\n",
              "    .colab-df-convert:hover {\n",
              "      background-color: #E2EBFA;\n",
              "      box-shadow: 0px 1px 2px rgba(60, 64, 67, 0.3), 0px 1px 3px 1px rgba(60, 64, 67, 0.15);\n",
              "      fill: #174EA6;\n",
              "    }\n",
              "\n",
              "    [theme=dark] .colab-df-convert {\n",
              "      background-color: #3B4455;\n",
              "      fill: #D2E3FC;\n",
              "    }\n",
              "\n",
              "    [theme=dark] .colab-df-convert:hover {\n",
              "      background-color: #434B5C;\n",
              "      box-shadow: 0px 1px 3px 1px rgba(0, 0, 0, 0.15);\n",
              "      filter: drop-shadow(0px 1px 2px rgba(0, 0, 0, 0.3));\n",
              "      fill: #FFFFFF;\n",
              "    }\n",
              "  </style>\n",
              "\n",
              "      <script>\n",
              "        const buttonEl =\n",
              "          document.querySelector('#df-4277e661-ab3b-423a-a853-85777de16df5 button.colab-df-convert');\n",
              "        buttonEl.style.display =\n",
              "          google.colab.kernel.accessAllowed ? 'block' : 'none';\n",
              "\n",
              "        async function convertToInteractive(key) {\n",
              "          const element = document.querySelector('#df-4277e661-ab3b-423a-a853-85777de16df5');\n",
              "          const dataTable =\n",
              "            await google.colab.kernel.invokeFunction('convertToInteractive',\n",
              "                                                     [key], {});\n",
              "          if (!dataTable) return;\n",
              "\n",
              "          const docLinkHtml = 'Like what you see? Visit the ' +\n",
              "            '<a target=\"_blank\" href=https://colab.research.google.com/notebooks/data_table.ipynb>data table notebook</a>'\n",
              "            + ' to learn more about interactive tables.';\n",
              "          element.innerHTML = '';\n",
              "          dataTable['output_type'] = 'display_data';\n",
              "          await google.colab.output.renderOutput(dataTable, element);\n",
              "          const docLink = document.createElement('div');\n",
              "          docLink.innerHTML = docLinkHtml;\n",
              "          element.appendChild(docLink);\n",
              "        }\n",
              "      </script>\n",
              "    </div>\n",
              "  </div>\n",
              "  "
            ]
          },
          "metadata": {},
          "execution_count": 13
        }
      ]
    },
    {
      "cell_type": "code",
      "source": [
        "raw_df['target'].value_counts()"
      ],
      "metadata": {
        "colab": {
          "base_uri": "https://localhost:8080/"
        },
        "id": "ZZL7BDyF0-Kd",
        "outputId": "ee533752-56f5-4e5a-d41e-ea6cf122f4d5"
      },
      "execution_count": 14,
      "outputs": [
        {
          "output_type": "execute_result",
          "data": {
            "text/plain": [
              "0    1225312\n",
              "1      80810\n",
              "Name: target, dtype: int64"
            ]
          },
          "metadata": {},
          "execution_count": 14
        }
      ]
    },
    {
      "cell_type": "code",
      "source": [
        "sincere_df = raw_df[raw_df['target']==0]"
      ],
      "metadata": {
        "id": "nW2WfikH0-HY"
      },
      "execution_count": 15,
      "outputs": []
    },
    {
      "cell_type": "code",
      "source": [
        "sincere_df.question_text.values[:10]"
      ],
      "metadata": {
        "colab": {
          "base_uri": "https://localhost:8080/"
        },
        "id": "k2OYUeOf0-DK",
        "outputId": "6026e099-6117-436f-92d6-3cbd42d1141b"
      },
      "execution_count": 16,
      "outputs": [
        {
          "output_type": "execute_result",
          "data": {
            "text/plain": [
              "array(['How did Quebec nationalists see their province as a nation in the 1960s?',\n",
              "       'Do you have an adopted dog, how would you encourage people to adopt and not shop?',\n",
              "       'Why does velocity affect time? Does velocity affect space geometry?',\n",
              "       'How did Otto von Guericke used the Magdeburg hemispheres?',\n",
              "       'Can I convert montra helicon D to a mountain bike by just changing the tyres?',\n",
              "       'Is Gaza slowly becoming Auschwitz, Dachau or Treblinka for Palestinians?',\n",
              "       'Why does Quora automatically ban conservative opinions when reported, but does not do the same for liberal views?',\n",
              "       'Is it crazy if I wash or wipe my groceries off? Germs are everywhere.',\n",
              "       'Is there such a thing as dressing moderately, and if so, how is that different than dressing modestly?',\n",
              "       'Is it just me or have you ever been in this phase wherein you became ignorant to the people you once loved, completely disregarding their feelings/lives so you get to have something go your way and feel temporarily at ease. How did things change?'],\n",
              "      dtype=object)"
            ]
          },
          "metadata": {},
          "execution_count": 16
        }
      ]
    },
    {
      "cell_type": "code",
      "source": [
        "insincere_df = raw_df[raw_df.target == 1]"
      ],
      "metadata": {
        "id": "KtEp0isJ0-AD"
      },
      "execution_count": 17,
      "outputs": []
    },
    {
      "cell_type": "code",
      "source": [
        "insincere_df.question_text.values[:10]"
      ],
      "metadata": {
        "colab": {
          "base_uri": "https://localhost:8080/"
        },
        "id": "qsutkQIe4z2X",
        "outputId": "2229a84e-e561-4105-ec06-bd112f010f24"
      },
      "execution_count": 18,
      "outputs": [
        {
          "output_type": "execute_result",
          "data": {
            "text/plain": [
              "array(['Has the United States become the largest dictatorship in the world?',\n",
              "       'Which babies are more sweeter to their parents? Dark skin babies or light skin babies?',\n",
              "       \"If blacks support school choice and mandatory sentencing for criminals why don't they vote Republican?\",\n",
              "       'I am gay boy and I love my cousin (boy). He is sexy, but I dont know what to do. He is hot, and I want to see his di**. What should I do?',\n",
              "       'Which races have the smallest penis?',\n",
              "       'Why do females find penises ugly?',\n",
              "       'How do I marry an American woman for a Green Card? How much do they charge?',\n",
              "       \"Why do Europeans say they're the superior race, when in fact it took them over 2,000 years until mid 19th century to surpass China's largest economy?\",\n",
              "       'Did Julius Caesar bring a tyrannosaurus rex on his campaigns to frighten the Celts into submission?',\n",
              "       \"In what manner has Republican backing of 'states rights' been hypocritical and what ways have they actually restricted the ability of states to make their own laws?\"],\n",
              "      dtype=object)"
            ]
          },
          "metadata": {},
          "execution_count": 18
        }
      ]
    },
    {
      "cell_type": "code",
      "source": [
        "raw_df.target.value_counts(normalize = True)\n",
        "# ~94% questions are sincere"
      ],
      "metadata": {
        "colab": {
          "base_uri": "https://localhost:8080/"
        },
        "id": "5HZq0Vp245j0",
        "outputId": "9fcfe948-81f3-431f-f7d7-cbbf6923fd50"
      },
      "execution_count": 19,
      "outputs": [
        {
          "output_type": "execute_result",
          "data": {
            "text/plain": [
              "0    0.93813\n",
              "1    0.06187\n",
              "Name: target, dtype: float64"
            ]
          },
          "metadata": {},
          "execution_count": 19
        }
      ]
    },
    {
      "cell_type": "code",
      "source": [
        "raw_df.target.value_counts(normalize = True).plot(kind = 'pie')"
      ],
      "metadata": {
        "colab": {
          "base_uri": "https://localhost:8080/",
          "height": 265
        },
        "id": "25Z1AhaW6LPb",
        "outputId": "cb8d8fcd-2a6d-4519-82dd-cf6d891cb503"
      },
      "execution_count": 20,
      "outputs": [
        {
          "output_type": "execute_result",
          "data": {
            "text/plain": [
              "<matplotlib.axes._subplots.AxesSubplot at 0x7fc2d6dc30a0>"
            ]
          },
          "metadata": {},
          "execution_count": 20
        },
        {
          "output_type": "display_data",
          "data": {
            "text/plain": [
              "<Figure size 432x288 with 1 Axes>"
            ],
            "image/png": "[encoded data removed]"
          },
          "metadata": {}
        }
      ]
    },
    {
      "cell_type": "code",
      "source": [
        "test_df = pd.read_csv(test_fname)"
      ],
      "metadata": {
        "id": "4YmX2PdF60xP"
      },
      "execution_count": 21,
      "outputs": []
    },
    {
      "cell_type": "code",
      "source": [
        "test_df"
      ],
      "metadata": {
        "colab": {
          "base_uri": "https://localhost:8080/",
          "height": 424
        },
        "id": "GtuQ1Dnx66Tj",
        "outputId": "6fc864fa-faa4-437f-818e-0bd7c9fef835"
      },
      "execution_count": 22,
      "outputs": [
        {
          "output_type": "execute_result",
          "data": {
            "text/plain": [
              "                         qid  \\\n",
              "0       0000163e3ea7c7a74cd7   \n",
              "1       00002bd4fb5d505b9161   \n",
              "2       00007756b4a147d2b0b3   \n",
              "3       000086e4b7e1c7146103   \n",
              "4       0000c4c3fbe8785a3090   \n",
              "...                      ...   \n",
              "375801  ffff7fa746bd6d6197a9   \n",
              "375802  ffffa1be31c43046ab6b   \n",
              "375803  ffffae173b6ca6bfa563   \n",
              "375804  ffffb1f7f1a008620287   \n",
              "375805  fffff85473f4699474b0   \n",
              "\n",
              "                                            question_text  \n",
              "0       Why do so many women become so rude and arroga...  \n",
              "1       When should I apply for RV college of engineer...  \n",
              "2       What is it really like to be a nurse practitio...  \n",
              "3                                  Who are entrepreneurs?  \n",
              "4        Is education really making good people nowadays?  \n",
              "...                                                   ...  \n",
              "375801  How many countries listed in gold import in in...  \n",
              "375802  Is there an alternative to dresses on formal p...  \n",
              "375803  Where I can find best friendship quotes in Tel...  \n",
              "375804        What are the causes of refraction of light?  \n",
              "375805  Climate change is a worrying topic. How much t...  \n",
              "\n",
              "[375806 rows x 2 columns]"
            ],
            "text/html": [
              "\n",
              "  <div id=\"df-cd1856af-8c41-4a29-9b55-0bcbff531019\">\n",
              "    <div class=\"colab-df-container\">\n",
              "      <div>\n",
              "<style scoped>\n",
              "    .dataframe tbody tr th:only-of-type {\n",
              "        vertical-align: middle;\n",
              "    }\n",
              "\n",
              "    .dataframe tbody tr th {\n",
              "        vertical-align: top;\n",
              "    }\n",
              "\n",
              "    .dataframe thead th {\n",
              "        text-align: right;\n",
              "    }\n",
              "</style>\n",
              "<table border=\"1\" class=\"dataframe\">\n",
              "  <thead>\n",
              "    <tr style=\"text-align: right;\">\n",
              "      <th></th>\n",
              "      <th>qid</th>\n",
              "      <th>question_text</th>\n",
              "    </tr>\n",
              "  </thead>\n",
              "  <tbody>\n",
              "    <tr>\n",
              "      <th>0</th>\n",
              "      <td>0000163e3ea7c7a74cd7</td>\n",
              "      <td>Why do so many women become so rude and arroga...</td>\n",
              "    </tr>\n",
              "    <tr>\n",
              "      <th>1</th>\n",
              "      <td>00002bd4fb5d505b9161</td>\n",
              "      <td>When should I apply for RV college of engineer...</td>\n",
              "    </tr>\n",
              "    <tr>\n",
              "      <th>2</th>\n",
              "      <td>00007756b4a147d2b0b3</td>\n",
              "      <td>What is it really like to be a nurse practitio...</td>\n",
              "    </tr>\n",
              "    <tr>\n",
              "      <th>3</th>\n",
              "      <td>000086e4b7e1c7146103</td>\n",
              "      <td>Who are entrepreneurs?</td>\n",
              "    </tr>\n",
              "    <tr>\n",
              "      <th>4</th>\n",
              "      <td>0000c4c3fbe8785a3090</td>\n",
              "      <td>Is education really making good people nowadays?</td>\n",
              "    </tr>\n",
              "    <tr>\n",
              "      <th>...</th>\n",
              "      <td>...</td>\n",
              "      <td>...</td>\n",
              "    </tr>\n",
              "    <tr>\n",
              "      <th>375801</th>\n",
              "      <td>ffff7fa746bd6d6197a9</td>\n",
              "      <td>How many countries listed in gold import in in...</td>\n",
              "    </tr>\n",
              "    <tr>\n",
              "      <th>375802</th>\n",
              "      <td>ffffa1be31c43046ab6b</td>\n",
              "      <td>Is there an alternative to dresses on formal p...</td>\n",
              "    </tr>\n",
              "    <tr>\n",
              "      <th>375803</th>\n",
              "      <td>ffffae173b6ca6bfa563</td>\n",
              "      <td>Where I can find best friendship quotes in Tel...</td>\n",
              "    </tr>\n",
              "    <tr>\n",
              "      <th>375804</th>\n",
              "      <td>ffffb1f7f1a008620287</td>\n",
              "      <td>What are the causes of refraction of light?</td>\n",
              "    </tr>\n",
              "    <tr>\n",
              "      <th>375805</th>\n",
              "      <td>fffff85473f4699474b0</td>\n",
              "      <td>Climate change is a worrying topic. How much t...</td>\n",
              "    </tr>\n",
              "  </tbody>\n",
              "</table>\n",
              "<p>375806 rows × 2 columns</p>\n",
              "</div>\n",
              "      <button class=\"colab-df-convert\" onclick=\"convertToInteractive('df-cd1856af-8c41-4a29-9b55-0bcbff531019')\"\n",
              "              title=\"Convert this dataframe to an interactive table.\"\n",
              "              style=\"display:none;\">\n",
              "        \n",
              "  <svg xmlns=\"http://www.w3.org/2000/svg\" height=\"24px\"viewBox=\"0 0 24 24\"\n",
              "       width=\"24px\">\n",
              "    <path d=\"M0 0h24v24H0V0z\" fill=\"none\"/>\n",
              "    <path d=\"M18.56 5.44l.94 2.06.94-2.06 2.06-.94-2.06-.94-.94-2.06-.94 2.06-2.06.94zm-11 1L8.5 8.5l.94-2.06 2.06-.94-2.06-.94L8.5 2.5l-.94 2.06-2.06.94zm10 10l.94 2.06.94-2.06 2.06-.94-2.06-.94-.94-2.06-.94 2.06-2.06.94z\"/><path d=\"M17.41 7.96l-1.37-1.37c-.4-.4-.92-.59-1.43-.59-.52 0-1.04.2-1.43.59L10.3 9.45l-7.72 7.72c-.78.78-.78 2.05 0 2.83L4 21.41c.39.39.9.59 1.41.59.51 0 1.02-.2 1.41-.59l7.78-7.78 2.81-2.81c.8-.78.8-2.07 0-2.86zM5.41 20L4 18.59l7.72-7.72 1.47 1.35L5.41 20z\"/>\n",
              "  </svg>\n",
              "      </button>\n",
              "      \n",
              "  <style>\n",
              "    .colab-df-container {\n",
              "      display:flex;\n",
              "      flex-wrap:wrap;\n",
              "      gap: 12px;\n",
              "    }\n",
              "\n",
              "    .colab-df-convert {\n",
              "      background-color: #E8F0FE;\n",
              "      border: none;\n",
              "      border-radius: 50%;\n",
              "      cursor: pointer;\n",
              "      display: none;\n",
              "      fill: #1967D2;\n",
              "      height: 32px;\n",
              "      padding: 0 0 0 0;\n",
              "      width: 32px;\n",
              "    }\n",
              "\n",
              "    .colab-df-convert:hover {\n",
              "      background-color: #E2EBFA;\n",
              "      box-shadow: 0px 1px 2px rgba(60, 64, 67, 0.3), 0px 1px 3px 1px rgba(60, 64, 67, 0.15);\n",
              "      fill: #174EA6;\n",
              "    }\n",
              "\n",
              "    [theme=dark] .colab-df-convert {\n",
              "      background-color: #3B4455;\n",
              "      fill: #D2E3FC;\n",
              "    }\n",
              "\n",
              "    [theme=dark] .colab-df-convert:hover {\n",
              "      background-color: #434B5C;\n",
              "      box-shadow: 0px 1px 3px 1px rgba(0, 0, 0, 0.15);\n",
              "      filter: drop-shadow(0px 1px 2px rgba(0, 0, 0, 0.3));\n",
              "      fill: #FFFFFF;\n",
              "    }\n",
              "  </style>\n",
              "\n",
              "      <script>\n",
              "        const buttonEl =\n",
              "          document.querySelector('#df-cd1856af-8c41-4a29-9b55-0bcbff531019 button.colab-df-convert');\n",
              "        buttonEl.style.display =\n",
              "          google.colab.kernel.accessAllowed ? 'block' : 'none';\n",
              "\n",
              "        async function convertToInteractive(key) {\n",
              "          const element = document.querySelector('#df-cd1856af-8c41-4a29-9b55-0bcbff531019');\n",
              "          const dataTable =\n",
              "            await google.colab.kernel.invokeFunction('convertToInteractive',\n",
              "                                                     [key], {});\n",
              "          if (!dataTable) return;\n",
              "\n",
              "          const docLinkHtml = 'Like what you see? Visit the ' +\n",
              "            '<a target=\"_blank\" href=https://colab.research.google.com/notebooks/data_table.ipynb>data table notebook</a>'\n",
              "            + ' to learn more about interactive tables.';\n",
              "          element.innerHTML = '';\n",
              "          dataTable['output_type'] = 'display_data';\n",
              "          await google.colab.output.renderOutput(dataTable, element);\n",
              "          const docLink = document.createElement('div');\n",
              "          docLink.innerHTML = docLinkHtml;\n",
              "          element.appendChild(docLink);\n",
              "        }\n",
              "      </script>\n",
              "    </div>\n",
              "  </div>\n",
              "  "
            ]
          },
          "metadata": {},
          "execution_count": 22
        }
      ]
    },
    {
      "cell_type": "code",
      "source": [
        "sub_df = pd.read_csv(sample_fname)"
      ],
      "metadata": {
        "id": "TUY-R26767tU"
      },
      "execution_count": 23,
      "outputs": []
    },
    {
      "cell_type": "code",
      "source": [
        "sub_df"
      ],
      "metadata": {
        "colab": {
          "base_uri": "https://localhost:8080/",
          "height": 424
        },
        "id": "5ZKSx_aU7MqR",
        "outputId": "f7e307ef-4c22-45df-b2e0-f029defef0f8"
      },
      "execution_count": 24,
      "outputs": [
        {
          "output_type": "execute_result",
          "data": {
            "text/plain": [
              "                         qid  prediction\n",
              "0       0000163e3ea7c7a74cd7           0\n",
              "1       00002bd4fb5d505b9161           0\n",
              "2       00007756b4a147d2b0b3           0\n",
              "3       000086e4b7e1c7146103           0\n",
              "4       0000c4c3fbe8785a3090           0\n",
              "...                      ...         ...\n",
              "375801  ffff7fa746bd6d6197a9           0\n",
              "375802  ffffa1be31c43046ab6b           0\n",
              "375803  ffffae173b6ca6bfa563           0\n",
              "375804  ffffb1f7f1a008620287           0\n",
              "375805  fffff85473f4699474b0           0\n",
              "\n",
              "[375806 rows x 2 columns]"
            ],
            "text/html": [
              "\n",
              "  <div id=\"df-c978cb81-2f6a-4f5d-9263-1640d4c58988\">\n",
              "    <div class=\"colab-df-container\">\n",
              "      <div>\n",
              "<style scoped>\n",
              "    .dataframe tbody tr th:only-of-type {\n",
              "        vertical-align: middle;\n",
              "    }\n",
              "\n",
              "    .dataframe tbody tr th {\n",
              "        vertical-align: top;\n",
              "    }\n",
              "\n",
              "    .dataframe thead th {\n",
              "        text-align: right;\n",
              "    }\n",
              "</style>\n",
              "<table border=\"1\" class=\"dataframe\">\n",
              "  <thead>\n",
              "    <tr style=\"text-align: right;\">\n",
              "      <th></th>\n",
              "      <th>qid</th>\n",
              "      <th>prediction</th>\n",
              "    </tr>\n",
              "  </thead>\n",
              "  <tbody>\n",
              "    <tr>\n",
              "      <th>0</th>\n",
              "      <td>0000163e3ea7c7a74cd7</td>\n",
              "      <td>0</td>\n",
              "    </tr>\n",
              "    <tr>\n",
              "      <th>1</th>\n",
              "      <td>00002bd4fb5d505b9161</td>\n",
              "      <td>0</td>\n",
              "    </tr>\n",
              "    <tr>\n",
              "      <th>2</th>\n",
              "      <td>00007756b4a147d2b0b3</td>\n",
              "      <td>0</td>\n",
              "    </tr>\n",
              "    <tr>\n",
              "      <th>3</th>\n",
              "      <td>000086e4b7e1c7146103</td>\n",
              "      <td>0</td>\n",
              "    </tr>\n",
              "    <tr>\n",
              "      <th>4</th>\n",
              "      <td>0000c4c3fbe8785a3090</td>\n",
              "      <td>0</td>\n",
              "    </tr>\n",
              "    <tr>\n",
              "      <th>...</th>\n",
              "      <td>...</td>\n",
              "      <td>...</td>\n",
              "    </tr>\n",
              "    <tr>\n",
              "      <th>375801</th>\n",
              "      <td>ffff7fa746bd6d6197a9</td>\n",
              "      <td>0</td>\n",
              "    </tr>\n",
              "    <tr>\n",
              "      <th>375802</th>\n",
              "      <td>ffffa1be31c43046ab6b</td>\n",
              "      <td>0</td>\n",
              "    </tr>\n",
              "    <tr>\n",
              "      <th>375803</th>\n",
              "      <td>ffffae173b6ca6bfa563</td>\n",
              "      <td>0</td>\n",
              "    </tr>\n",
              "    <tr>\n",
              "      <th>375804</th>\n",
              "      <td>ffffb1f7f1a008620287</td>\n",
              "      <td>0</td>\n",
              "    </tr>\n",
              "    <tr>\n",
              "      <th>375805</th>\n",
              "      <td>fffff85473f4699474b0</td>\n",
              "      <td>0</td>\n",
              "    </tr>\n",
              "  </tbody>\n",
              "</table>\n",
              "<p>375806 rows × 2 columns</p>\n",
              "</div>\n",
              "      <button class=\"colab-df-convert\" onclick=\"convertToInteractive('df-c978cb81-2f6a-4f5d-9263-1640d4c58988')\"\n",
              "              title=\"Convert this dataframe to an interactive table.\"\n",
              "              style=\"display:none;\">\n",
              "        \n",
              "  <svg xmlns=\"http://www.w3.org/2000/svg\" height=\"24px\"viewBox=\"0 0 24 24\"\n",
              "       width=\"24px\">\n",
              "    <path d=\"M0 0h24v24H0V0z\" fill=\"none\"/>\n",
              "    <path d=\"M18.56 5.44l.94 2.06.94-2.06 2.06-.94-2.06-.94-.94-2.06-.94 2.06-2.06.94zm-11 1L8.5 8.5l.94-2.06 2.06-.94-2.06-.94L8.5 2.5l-.94 2.06-2.06.94zm10 10l.94 2.06.94-2.06 2.06-.94-2.06-.94-.94-2.06-.94 2.06-2.06.94z\"/><path d=\"M17.41 7.96l-1.37-1.37c-.4-.4-.92-.59-1.43-.59-.52 0-1.04.2-1.43.59L10.3 9.45l-7.72 7.72c-.78.78-.78 2.05 0 2.83L4 21.41c.39.39.9.59 1.41.59.51 0 1.02-.2 1.41-.59l7.78-7.78 2.81-2.81c.8-.78.8-2.07 0-2.86zM5.41 20L4 18.59l7.72-7.72 1.47 1.35L5.41 20z\"/>\n",
              "  </svg>\n",
              "      </button>\n",
              "      \n",
              "  <style>\n",
              "    .colab-df-container {\n",
              "      display:flex;\n",
              "      flex-wrap:wrap;\n",
              "      gap: 12px;\n",
              "    }\n",
              "\n",
              "    .colab-df-convert {\n",
              "      background-color: #E8F0FE;\n",
              "      border: none;\n",
              "      border-radius: 50%;\n",
              "      cursor: pointer;\n",
              "      display: none;\n",
              "      fill: #1967D2;\n",
              "      height: 32px;\n",
              "      padding: 0 0 0 0;\n",
              "      width: 32px;\n",
              "    }\n",
              "\n",
              "    .colab-df-convert:hover {\n",
              "      background-color: #E2EBFA;\n",
              "      box-shadow: 0px 1px 2px rgba(60, 64, 67, 0.3), 0px 1px 3px 1px rgba(60, 64, 67, 0.15);\n",
              "      fill: #174EA6;\n",
              "    }\n",
              "\n",
              "    [theme=dark] .colab-df-convert {\n",
              "      background-color: #3B4455;\n",
              "      fill: #D2E3FC;\n",
              "    }\n",
              "\n",
              "    [theme=dark] .colab-df-convert:hover {\n",
              "      background-color: #434B5C;\n",
              "      box-shadow: 0px 1px 3px 1px rgba(0, 0, 0, 0.15);\n",
              "      filter: drop-shadow(0px 1px 2px rgba(0, 0, 0, 0.3));\n",
              "      fill: #FFFFFF;\n",
              "    }\n",
              "  </style>\n",
              "\n",
              "      <script>\n",
              "        const buttonEl =\n",
              "          document.querySelector('#df-c978cb81-2f6a-4f5d-9263-1640d4c58988 button.colab-df-convert');\n",
              "        buttonEl.style.display =\n",
              "          google.colab.kernel.accessAllowed ? 'block' : 'none';\n",
              "\n",
              "        async function convertToInteractive(key) {\n",
              "          const element = document.querySelector('#df-c978cb81-2f6a-4f5d-9263-1640d4c58988');\n",
              "          const dataTable =\n",
              "            await google.colab.kernel.invokeFunction('convertToInteractive',\n",
              "                                                     [key], {});\n",
              "          if (!dataTable) return;\n",
              "\n",
              "          const docLinkHtml = 'Like what you see? Visit the ' +\n",
              "            '<a target=\"_blank\" href=https://colab.research.google.com/notebooks/data_table.ipynb>data table notebook</a>'\n",
              "            + ' to learn more about interactive tables.';\n",
              "          element.innerHTML = '';\n",
              "          dataTable['output_type'] = 'display_data';\n",
              "          await google.colab.output.renderOutput(dataTable, element);\n",
              "          const docLink = document.createElement('div');\n",
              "          docLink.innerHTML = docLinkHtml;\n",
              "          element.appendChild(docLink);\n",
              "        }\n",
              "      </script>\n",
              "    </div>\n",
              "  </div>\n",
              "  "
            ]
          },
          "metadata": {},
          "execution_count": 24
        }
      ]
    },
    {
      "cell_type": "code",
      "source": [
        "sub_df.prediction.value_counts()"
      ],
      "metadata": {
        "colab": {
          "base_uri": "https://localhost:8080/"
        },
        "id": "bnHMOuSg7OBv",
        "outputId": "30d04bef-3d6a-45b8-93eb-3eb9a2b6a206"
      },
      "execution_count": 25,
      "outputs": [
        {
          "output_type": "execute_result",
          "data": {
            "text/plain": [
              "0    375806\n",
              "Name: prediction, dtype: int64"
            ]
          },
          "metadata": {},
          "execution_count": 25
        }
      ]
    },
    {
      "cell_type": "markdown",
      "source": [
        "## Creating a Working Sample"
      ],
      "metadata": {
        "id": "cwCkCKpd7nI2"
      }
    },
    {
      "cell_type": "code",
      "source": [
        "sample_size = 100_000 # i.e. 1,00,000"
      ],
      "metadata": {
        "id": "yYCjt0g67geW"
      },
      "execution_count": 26,
      "outputs": []
    },
    {
      "cell_type": "code",
      "source": [
        "sample_df = raw_df.sample(sample_size, random_state= 42)"
      ],
      "metadata": {
        "id": "YIiJw93a72Aa"
      },
      "execution_count": 27,
      "outputs": []
    },
    {
      "cell_type": "code",
      "source": [
        "sample_df "
      ],
      "metadata": {
        "colab": {
          "base_uri": "https://localhost:8080/",
          "height": 0
        },
        "id": "Bp68omXQ8Kuy",
        "outputId": "7c77a3d6-bf98-4307-9e57-eeacff7eab39"
      },
      "execution_count": 28,
      "outputs": [
        {
          "output_type": "execute_result",
          "data": {
            "text/plain": [
              "                          qid  \\\n",
              "443046   56d324bb1e2c29f43b12   \n",
              "947549   b9ad893dc78c577f8a63   \n",
              "523769   6689ebaeeb65b209a412   \n",
              "949821   ba1e2c4a0fef09671516   \n",
              "1030397  c9ea2b69bf0d74626f46   \n",
              "...                       ...   \n",
              "998930   c3c03a307a29c69971b4   \n",
              "66641    0d119aba95ee6684f506   \n",
              "90024    11a46cd148a104b271cf   \n",
              "130113   1973e6e2111a0c93193a   \n",
              "1137     0037ed037520d82393c0   \n",
              "\n",
              "                                             question_text  target  \n",
              "443046   What is the most effective classroom managemen...       0  \n",
              "947549   Can I study abroad after 10th class from Bangl...       0  \n",
              "523769         How can I make friends as a college junior?       0  \n",
              "949821   How do I download free APK Minecraft: Pocket E...       0  \n",
              "1030397  Like Kuvera, is \"Groww\" also a free online inv...       0  \n",
              "...                                                    ...     ...  \n",
              "998930   How do I research list of reliable charcoal im...       0  \n",
              "66641    What are petroleum products, and what is petro...       0  \n",
              "90024    What are some services that will let you quick...       0  \n",
              "130113   What credit card processors do online marketpl...       0  \n",
              "1137          On which number system does a computer work?       0  \n",
              "\n",
              "[100000 rows x 3 columns]"
            ],
            "text/html": [
              "\n",
              "  <div id=\"df-364d427e-04a5-4277-b997-05dcb039cb42\">\n",
              "    <div class=\"colab-df-container\">\n",
              "      <div>\n",
              "<style scoped>\n",
              "    .dataframe tbody tr th:only-of-type {\n",
              "        vertical-align: middle;\n",
              "    }\n",
              "\n",
              "    .dataframe tbody tr th {\n",
              "        vertical-align: top;\n",
              "    }\n",
              "\n",
              "    .dataframe thead th {\n",
              "        text-align: right;\n",
              "    }\n",
              "</style>\n",
              "<table border=\"1\" class=\"dataframe\">\n",
              "  <thead>\n",
              "    <tr style=\"text-align: right;\">\n",
              "      <th></th>\n",
              "      <th>qid</th>\n",
              "      <th>question_text</th>\n",
              "      <th>target</th>\n",
              "    </tr>\n",
              "  </thead>\n",
              "  <tbody>\n",
              "    <tr>\n",
              "      <th>443046</th>\n",
              "      <td>56d324bb1e2c29f43b12</td>\n",
              "      <td>What is the most effective classroom managemen...</td>\n",
              "      <td>0</td>\n",
              "    </tr>\n",
              "    <tr>\n",
              "      <th>947549</th>\n",
              "      <td>b9ad893dc78c577f8a63</td>\n",
              "      <td>Can I study abroad after 10th class from Bangl...</td>\n",
              "      <td>0</td>\n",
              "    </tr>\n",
              "    <tr>\n",
              "      <th>523769</th>\n",
              "      <td>6689ebaeeb65b209a412</td>\n",
              "      <td>How can I make friends as a college junior?</td>\n",
              "      <td>0</td>\n",
              "    </tr>\n",
              "    <tr>\n",
              "      <th>949821</th>\n",
              "      <td>ba1e2c4a0fef09671516</td>\n",
              "      <td>How do I download free APK Minecraft: Pocket E...</td>\n",
              "      <td>0</td>\n",
              "    </tr>\n",
              "    <tr>\n",
              "      <th>1030397</th>\n",
              "      <td>c9ea2b69bf0d74626f46</td>\n",
              "      <td>Like Kuvera, is \"Groww\" also a free online inv...</td>\n",
              "      <td>0</td>\n",
              "    </tr>\n",
              "    <tr>\n",
              "      <th>...</th>\n",
              "      <td>...</td>\n",
              "      <td>...</td>\n",
              "      <td>...</td>\n",
              "    </tr>\n",
              "    <tr>\n",
              "      <th>998930</th>\n",
              "      <td>c3c03a307a29c69971b4</td>\n",
              "      <td>How do I research list of reliable charcoal im...</td>\n",
              "      <td>0</td>\n",
              "    </tr>\n",
              "    <tr>\n",
              "      <th>66641</th>\n",
              "      <td>0d119aba95ee6684f506</td>\n",
              "      <td>What are petroleum products, and what is petro...</td>\n",
              "      <td>0</td>\n",
              "    </tr>\n",
              "    <tr>\n",
              "      <th>90024</th>\n",
              "      <td>11a46cd148a104b271cf</td>\n",
              "      <td>What are some services that will let you quick...</td>\n",
              "      <td>0</td>\n",
              "    </tr>\n",
              "    <tr>\n",
              "      <th>130113</th>\n",
              "      <td>1973e6e2111a0c93193a</td>\n",
              "      <td>What credit card processors do online marketpl...</td>\n",
              "      <td>0</td>\n",
              "    </tr>\n",
              "    <tr>\n",
              "      <th>1137</th>\n",
              "      <td>0037ed037520d82393c0</td>\n",
              "      <td>On which number system does a computer work?</td>\n",
              "      <td>0</td>\n",
              "    </tr>\n",
              "  </tbody>\n",
              "</table>\n",
              "<p>100000 rows × 3 columns</p>\n",
              "</div>\n",
              "      <button class=\"colab-df-convert\" onclick=\"convertToInteractive('df-364d427e-04a5-4277-b997-05dcb039cb42')\"\n",
              "              title=\"Convert this dataframe to an interactive table.\"\n",
              "              style=\"display:none;\">\n",
              "        \n",
              "  <svg xmlns=\"http://www.w3.org/2000/svg\" height=\"24px\"viewBox=\"0 0 24 24\"\n",
              "       width=\"24px\">\n",
              "    <path d=\"M0 0h24v24H0V0z\" fill=\"none\"/>\n",
              "    <path d=\"M18.56 5.44l.94 2.06.94-2.06 2.06-.94-2.06-.94-.94-2.06-.94 2.06-2.06.94zm-11 1L8.5 8.5l.94-2.06 2.06-.94-2.06-.94L8.5 2.5l-.94 2.06-2.06.94zm10 10l.94 2.06.94-2.06 2.06-.94-2.06-.94-.94-2.06-.94 2.06-2.06.94z\"/><path d=\"M17.41 7.96l-1.37-1.37c-.4-.4-.92-.59-1.43-.59-.52 0-1.04.2-1.43.59L10.3 9.45l-7.72 7.72c-.78.78-.78 2.05 0 2.83L4 21.41c.39.39.9.59 1.41.59.51 0 1.02-.2 1.41-.59l7.78-7.78 2.81-2.81c.8-.78.8-2.07 0-2.86zM5.41 20L4 18.59l7.72-7.72 1.47 1.35L5.41 20z\"/>\n",
              "  </svg>\n",
              "      </button>\n",
              "      \n",
              "  <style>\n",
              "    .colab-df-container {\n",
              "      display:flex;\n",
              "      flex-wrap:wrap;\n",
              "      gap: 12px;\n",
              "    }\n",
              "\n",
              "    .colab-df-convert {\n",
              "      background-color: #E8F0FE;\n",
              "      border: none;\n",
              "      border-radius: 50%;\n",
              "      cursor: pointer;\n",
              "      display: none;\n",
              "      fill: #1967D2;\n",
              "      height: 32px;\n",
              "      padding: 0 0 0 0;\n",
              "      width: 32px;\n",
              "    }\n",
              "\n",
              "    .colab-df-convert:hover {\n",
              "      background-color: #E2EBFA;\n",
              "      box-shadow: 0px 1px 2px rgba(60, 64, 67, 0.3), 0px 1px 3px 1px rgba(60, 64, 67, 0.15);\n",
              "      fill: #174EA6;\n",
              "    }\n",
              "\n",
              "    [theme=dark] .colab-df-convert {\n",
              "      background-color: #3B4455;\n",
              "      fill: #D2E3FC;\n",
              "    }\n",
              "\n",
              "    [theme=dark] .colab-df-convert:hover {\n",
              "      background-color: #434B5C;\n",
              "      box-shadow: 0px 1px 3px 1px rgba(0, 0, 0, 0.15);\n",
              "      filter: drop-shadow(0px 1px 2px rgba(0, 0, 0, 0.3));\n",
              "      fill: #FFFFFF;\n",
              "    }\n",
              "  </style>\n",
              "\n",
              "      <script>\n",
              "        const buttonEl =\n",
              "          document.querySelector('#df-364d427e-04a5-4277-b997-05dcb039cb42 button.colab-df-convert');\n",
              "        buttonEl.style.display =\n",
              "          google.colab.kernel.accessAllowed ? 'block' : 'none';\n",
              "\n",
              "        async function convertToInteractive(key) {\n",
              "          const element = document.querySelector('#df-364d427e-04a5-4277-b997-05dcb039cb42');\n",
              "          const dataTable =\n",
              "            await google.colab.kernel.invokeFunction('convertToInteractive',\n",
              "                                                     [key], {});\n",
              "          if (!dataTable) return;\n",
              "\n",
              "          const docLinkHtml = 'Like what you see? Visit the ' +\n",
              "            '<a target=\"_blank\" href=https://colab.research.google.com/notebooks/data_table.ipynb>data table notebook</a>'\n",
              "            + ' to learn more about interactive tables.';\n",
              "          element.innerHTML = '';\n",
              "          dataTable['output_type'] = 'display_data';\n",
              "          await google.colab.output.renderOutput(dataTable, element);\n",
              "          const docLink = document.createElement('div');\n",
              "          docLink.innerHTML = docLinkHtml;\n",
              "          element.appendChild(docLink);\n",
              "        }\n",
              "      </script>\n",
              "    </div>\n",
              "  </div>\n",
              "  "
            ]
          },
          "metadata": {},
          "execution_count": 28
        }
      ]
    },
    {
      "cell_type": "code",
      "source": [
        "sample_df.target.value_counts(normalize = True)"
      ],
      "metadata": {
        "colab": {
          "base_uri": "https://localhost:8080/"
        },
        "id": "XLX9blif8Myj",
        "outputId": "476250e3-a2f0-4f98-9226-06bc90c67bd7"
      },
      "execution_count": 29,
      "outputs": [
        {
          "output_type": "execute_result",
          "data": {
            "text/plain": [
              "0    0.93962\n",
              "1    0.06038\n",
              "Name: target, dtype: float64"
            ]
          },
          "metadata": {},
          "execution_count": 29
        }
      ]
    },
    {
      "cell_type": "markdown",
      "source": [
        "## Text Preprocessing Technique\n",
        " - What is Bag of Word\n",
        " - Tokenization\n",
        " - Stop Word Removal\n",
        " - Stemming"
      ],
      "metadata": {
        "id": "wcvhQe8H8qR5"
      }
    },
    {
      "cell_type": "markdown",
      "source": [
        "### Bag of Words Intuition\n",
        "\n",
        "1. Create a list of all the words across all the text documents\n",
        "2. You convert each document into vector counts of each word\n",
        "\n",
        "\n",
        "Limitations:\n",
        "1. There may be too many words in the dataset\n",
        "2. Some words may occur too frequently\n",
        "3. Some words may occur very rarely or only once\n",
        "4. A single word may have many forms (go, gone, going or bird vs. birds)\n",
        "\n",
        "![image.png](data:image/png;base64,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)"
      ],
      "metadata": {
        "id": "0P1z0txx-CkI"
      }
    },
    {
      "cell_type": "markdown",
      "source": [
        "### Tokenization\n",
        "\n",
        "splitting a document into words and separators"
      ],
      "metadata": {
        "id": "gBniP0gv-754"
      }
    },
    {
      "cell_type": "code",
      "source": [
        "q0 = sincere_df.question_text.values[1]"
      ],
      "metadata": {
        "id": "n2oSYZqf8MHI"
      },
      "execution_count": 30,
      "outputs": []
    },
    {
      "cell_type": "code",
      "source": [
        "q0"
      ],
      "metadata": {
        "colab": {
          "base_uri": "https://localhost:8080/",
          "height": 0
        },
        "id": "34Bxc0lO_26z",
        "outputId": "0eceb444-b997-4a52-dc0c-77cd799ff003"
      },
      "execution_count": 31,
      "outputs": [
        {
          "output_type": "execute_result",
          "data": {
            "text/plain": [
              "'Do you have an adopted dog, how would you encourage people to adopt and not shop?'"
            ],
            "application/vnd.google.colaboratory.intrinsic+json": {
              "type": "string"
            }
          },
          "metadata": {},
          "execution_count": 31
        }
      ]
    },
    {
      "cell_type": "code",
      "source": [
        "q1 = insincere_df.question_text.values[0]"
      ],
      "metadata": {
        "id": "G6kRshF__4Fz"
      },
      "execution_count": 32,
      "outputs": []
    },
    {
      "cell_type": "code",
      "source": [
        "q1"
      ],
      "metadata": {
        "colab": {
          "base_uri": "https://localhost:8080/",
          "height": 0
        },
        "id": "Il1YEdDCAF60",
        "outputId": "7b76b5b0-1b6f-417c-e8d6-f1c1f4bb6538"
      },
      "execution_count": 33,
      "outputs": [
        {
          "output_type": "execute_result",
          "data": {
            "text/plain": [
              "'Has the United States become the largest dictatorship in the world?'"
            ],
            "application/vnd.google.colaboratory.intrinsic+json": {
              "type": "string"
            }
          },
          "metadata": {},
          "execution_count": 33
        }
      ]
    },
    {
      "cell_type": "markdown",
      "source": [
        "### Reference Material\n",
        "https://www.nltk.org/api/nltk.tokenize.html"
      ],
      "metadata": {
        "id": "pYHAeU94AXmb"
      }
    },
    {
      "cell_type": "code",
      "source": [
        "import nltk"
      ],
      "metadata": {
        "id": "uwRY946SBE8I"
      },
      "execution_count": 34,
      "outputs": []
    },
    {
      "cell_type": "code",
      "source": [
        "from nltk.tokenize import word_tokenize"
      ],
      "metadata": {
        "id": "F3aQrJuBAHm9"
      },
      "execution_count": 35,
      "outputs": []
    },
    {
      "cell_type": "code",
      "source": [
        "nltk.download('punkt')"
      ],
      "metadata": {
        "colab": {
          "base_uri": "https://localhost:8080/"
        },
        "id": "0WvYsi9QBLl7",
        "outputId": "b76ad841-0f0c-4b35-e852-fdd5e2c3423b"
      },
      "execution_count": 36,
      "outputs": [
        {
          "output_type": "stream",
          "name": "stderr",
          "text": [
            "[nltk_data] Downloading package punkt to /root/nltk_data...\n",
            "[nltk_data]   Unzipping tokenizers/punkt.zip.\n"
          ]
        },
        {
          "output_type": "execute_result",
          "data": {
            "text/plain": [
              "True"
            ]
          },
          "metadata": {},
          "execution_count": 36
        }
      ]
    },
    {
      "cell_type": "markdown",
      "source": [],
      "metadata": {
        "id": "FPX9e9eLrUKy"
      }
    },
    {
      "cell_type": "code",
      "source": [
        "q0"
      ],
      "metadata": {
        "colab": {
          "base_uri": "https://localhost:8080/",
          "height": 35
        },
        "id": "Bm7gj8NEAh1f",
        "outputId": "82837f54-821d-40b3-fb86-dbe346287322"
      },
      "execution_count": 37,
      "outputs": [
        {
          "output_type": "execute_result",
          "data": {
            "text/plain": [
              "'Do you have an adopted dog, how would you encourage people to adopt and not shop?'"
            ],
            "application/vnd.google.colaboratory.intrinsic+json": {
              "type": "string"
            }
          },
          "metadata": {},
          "execution_count": 37
        }
      ]
    },
    {
      "cell_type": "code",
      "source": [
        "word_tokenize(q0)"
      ],
      "metadata": {
        "colab": {
          "base_uri": "https://localhost:8080/"
        },
        "id": "H7x9Xu3-Aohz",
        "outputId": "68331580-f4f1-48a0-a1e3-cdf169a5cac2"
      },
      "execution_count": 38,
      "outputs": [
        {
          "output_type": "execute_result",
          "data": {
            "text/plain": [
              "['Do',\n",
              " 'you',\n",
              " 'have',\n",
              " 'an',\n",
              " 'adopted',\n",
              " 'dog',\n",
              " ',',\n",
              " 'how',\n",
              " 'would',\n",
              " 'you',\n",
              " 'encourage',\n",
              " 'people',\n",
              " 'to',\n",
              " 'adopt',\n",
              " 'and',\n",
              " 'not',\n",
              " 'shop',\n",
              " '?']"
            ]
          },
          "metadata": {},
          "execution_count": 38
        }
      ]
    },
    {
      "cell_type": "code",
      "source": [
        "word_tokenize(q1)"
      ],
      "metadata": {
        "colab": {
          "base_uri": "https://localhost:8080/"
        },
        "id": "OwP1TulyBjJI",
        "outputId": "5ee3830a-be33-43a5-9785-23380e1845f4"
      },
      "execution_count": 39,
      "outputs": [
        {
          "output_type": "execute_result",
          "data": {
            "text/plain": [
              "['Has',\n",
              " 'the',\n",
              " 'United',\n",
              " 'States',\n",
              " 'become',\n",
              " 'the',\n",
              " 'largest',\n",
              " 'dictatorship',\n",
              " 'in',\n",
              " 'the',\n",
              " 'world',\n",
              " '?']"
            ]
          },
          "metadata": {},
          "execution_count": 39
        }
      ]
    },
    {
      "cell_type": "code",
      "source": [
        "q0_tok = word_tokenize(q0)"
      ],
      "metadata": {
        "id": "GQGyEmIrEy_X"
      },
      "execution_count": 40,
      "outputs": []
    },
    {
      "cell_type": "code",
      "source": [
        "q1_tok = word_tokenize(q1)"
      ],
      "metadata": {
        "id": "--HdHGXRE_-d"
      },
      "execution_count": 41,
      "outputs": []
    },
    {
      "cell_type": "markdown",
      "source": [
        "### Stop Word Removal\n",
        "Removing commonly occuring words\n",
        "\n"
      ],
      "metadata": {
        "id": "w017XGG9FJTF"
      }
    },
    {
      "cell_type": "code",
      "source": [
        "q1_tok"
      ],
      "metadata": {
        "colab": {
          "base_uri": "https://localhost:8080/"
        },
        "id": "nGoScMdMFEQp",
        "outputId": "5db4cb4d-fbeb-48e1-e633-98df7c6dc58f"
      },
      "execution_count": 42,
      "outputs": [
        {
          "output_type": "execute_result",
          "data": {
            "text/plain": [
              "['Has',\n",
              " 'the',\n",
              " 'United',\n",
              " 'States',\n",
              " 'become',\n",
              " 'the',\n",
              " 'largest',\n",
              " 'dictatorship',\n",
              " 'in',\n",
              " 'the',\n",
              " 'world',\n",
              " '?']"
            ]
          },
          "metadata": {},
          "execution_count": 42
        }
      ]
    },
    {
      "cell_type": "code",
      "source": [
        "from nltk.corpus import stopwords"
      ],
      "metadata": {
        "id": "71piTT7DFlXk"
      },
      "execution_count": 43,
      "outputs": []
    },
    {
      "cell_type": "code",
      "source": [
        "nltk.download('stopwords')"
      ],
      "metadata": {
        "colab": {
          "base_uri": "https://localhost:8080/"
        },
        "id": "4d_2QZQ2G0J-",
        "outputId": "5933250c-d4bc-4ca3-8e59-eb627f4275dc"
      },
      "execution_count": 44,
      "outputs": [
        {
          "output_type": "stream",
          "name": "stderr",
          "text": [
            "[nltk_data] Downloading package stopwords to /root/nltk_data...\n",
            "[nltk_data]   Unzipping corpora/stopwords.zip.\n"
          ]
        },
        {
          "output_type": "execute_result",
          "data": {
            "text/plain": [
              "True"
            ]
          },
          "metadata": {},
          "execution_count": 44
        }
      ]
    },
    {
      "cell_type": "code",
      "source": [
        "english_stopwords = stopwords.words('english')"
      ],
      "metadata": {
        "id": "4kRiI0E8GKOV"
      },
      "execution_count": 45,
      "outputs": []
    },
    {
      "cell_type": "code",
      "source": [
        "english_stopwords"
      ],
      "metadata": {
        "colab": {
          "base_uri": "https://localhost:8080/"
        },
        "id": "Ed88oXkZGqWl",
        "outputId": "ef730af2-978b-4531-a301-5442123e2228"
      },
      "execution_count": 46,
      "outputs": [
        {
          "output_type": "execute_result",
          "data": {
            "text/plain": [
              "['i',\n",
              " 'me',\n",
              " 'my',\n",
              " 'myself',\n",
              " 'we',\n",
              " 'our',\n",
              " 'ours',\n",
              " 'ourselves',\n",
              " 'you',\n",
              " \"you're\",\n",
              " \"you've\",\n",
              " \"you'll\",\n",
              " \"you'd\",\n",
              " 'your',\n",
              " 'yours',\n",
              " 'yourself',\n",
              " 'yourselves',\n",
              " 'he',\n",
              " 'him',\n",
              " 'his',\n",
              " 'himself',\n",
              " 'she',\n",
              " \"she's\",\n",
              " 'her',\n",
              " 'hers',\n",
              " 'herself',\n",
              " 'it',\n",
              " \"it's\",\n",
              " 'its',\n",
              " 'itself',\n",
              " 'they',\n",
              " 'them',\n",
              " 'their',\n",
              " 'theirs',\n",
              " 'themselves',\n",
              " 'what',\n",
              " 'which',\n",
              " 'who',\n",
              " 'whom',\n",
              " 'this',\n",
              " 'that',\n",
              " \"that'll\",\n",
              " 'these',\n",
              " 'those',\n",
              " 'am',\n",
              " 'is',\n",
              " 'are',\n",
              " 'was',\n",
              " 'were',\n",
              " 'be',\n",
              " 'been',\n",
              " 'being',\n",
              " 'have',\n",
              " 'has',\n",
              " 'had',\n",
              " 'having',\n",
              " 'do',\n",
              " 'does',\n",
              " 'did',\n",
              " 'doing',\n",
              " 'a',\n",
              " 'an',\n",
              " 'the',\n",
              " 'and',\n",
              " 'but',\n",
              " 'if',\n",
              " 'or',\n",
              " 'because',\n",
              " 'as',\n",
              " 'until',\n",
              " 'while',\n",
              " 'of',\n",
              " 'at',\n",
              " 'by',\n",
              " 'for',\n",
              " 'with',\n",
              " 'about',\n",
              " 'against',\n",
              " 'between',\n",
              " 'into',\n",
              " 'through',\n",
              " 'during',\n",
              " 'before',\n",
              " 'after',\n",
              " 'above',\n",
              " 'below',\n",
              " 'to',\n",
              " 'from',\n",
              " 'up',\n",
              " 'down',\n",
              " 'in',\n",
              " 'out',\n",
              " 'on',\n",
              " 'off',\n",
              " 'over',\n",
              " 'under',\n",
              " 'again',\n",
              " 'further',\n",
              " 'then',\n",
              " 'once',\n",
              " 'here',\n",
              " 'there',\n",
              " 'when',\n",
              " 'where',\n",
              " 'why',\n",
              " 'how',\n",
              " 'all',\n",
              " 'any',\n",
              " 'both',\n",
              " 'each',\n",
              " 'few',\n",
              " 'more',\n",
              " 'most',\n",
              " 'other',\n",
              " 'some',\n",
              " 'such',\n",
              " 'no',\n",
              " 'nor',\n",
              " 'not',\n",
              " 'only',\n",
              " 'own',\n",
              " 'same',\n",
              " 'so',\n",
              " 'than',\n",
              " 'too',\n",
              " 'very',\n",
              " 's',\n",
              " 't',\n",
              " 'can',\n",
              " 'will',\n",
              " 'just',\n",
              " 'don',\n",
              " \"don't\",\n",
              " 'should',\n",
              " \"should've\",\n",
              " 'now',\n",
              " 'd',\n",
              " 'll',\n",
              " 'm',\n",
              " 'o',\n",
              " 're',\n",
              " 've',\n",
              " 'y',\n",
              " 'ain',\n",
              " 'aren',\n",
              " \"aren't\",\n",
              " 'couldn',\n",
              " \"couldn't\",\n",
              " 'didn',\n",
              " \"didn't\",\n",
              " 'doesn',\n",
              " \"doesn't\",\n",
              " 'hadn',\n",
              " \"hadn't\",\n",
              " 'hasn',\n",
              " \"hasn't\",\n",
              " 'haven',\n",
              " \"haven't\",\n",
              " 'isn',\n",
              " \"isn't\",\n",
              " 'ma',\n",
              " 'mightn',\n",
              " \"mightn't\",\n",
              " 'mustn',\n",
              " \"mustn't\",\n",
              " 'needn',\n",
              " \"needn't\",\n",
              " 'shan',\n",
              " \"shan't\",\n",
              " 'shouldn',\n",
              " \"shouldn't\",\n",
              " 'wasn',\n",
              " \"wasn't\",\n",
              " 'weren',\n",
              " \"weren't\",\n",
              " 'won',\n",
              " \"won't\",\n",
              " 'wouldn',\n",
              " \"wouldn't\"]"
            ]
          },
          "metadata": {},
          "execution_count": 46
        }
      ]
    },
    {
      "cell_type": "code",
      "source": [
        "\",\".join(english_stopwords)"
      ],
      "metadata": {
        "colab": {
          "base_uri": "https://localhost:8080/",
          "height": 122
        },
        "id": "y5xqEMzjHAcl",
        "outputId": "64822806-40e5-49d0-9bd0-804495297f04"
      },
      "execution_count": 47,
      "outputs": [
        {
          "output_type": "execute_result",
          "data": {
            "text/plain": [
              "\"i,me,my,myself,we,our,ours,ourselves,you,you're,you've,you'll,you'd,your,yours,yourself,yourselves,he,him,his,himself,she,she's,her,hers,herself,it,it's,its,itself,they,them,their,theirs,themselves,what,which,who,whom,this,that,that'll,these,those,am,is,are,was,were,be,been,being,have,has,had,having,do,does,did,doing,a,an,the,and,but,if,or,because,as,until,while,of,at,by,for,with,about,against,between,into,through,during,before,after,above,below,to,from,up,down,in,out,on,off,over,under,again,further,then,once,here,there,when,where,why,how,all,any,both,each,few,more,most,other,some,such,no,nor,not,only,own,same,so,than,too,very,s,t,can,will,just,don,don't,should,should've,now,d,ll,m,o,re,ve,y,ain,aren,aren't,couldn,couldn't,didn,didn't,doesn,doesn't,hadn,hadn't,hasn,hasn't,haven,haven't,isn,isn't,ma,mightn,mightn't,mustn,mustn't,needn,needn't,shan,shan't,shouldn,shouldn't,wasn,wasn't,weren,weren't,won,won't,wouldn,wouldn't\""
            ],
            "application/vnd.google.colaboratory.intrinsic+json": {
              "type": "string"
            }
          },
          "metadata": {},
          "execution_count": 47
        }
      ]
    },
    {
      "cell_type": "code",
      "source": [
        "def remove_stopwords(tokens):\n",
        "  return [word for word in tokens if word.lower() not in english_stopwords]"
      ],
      "metadata": {
        "id": "srrEtHq0HOBd"
      },
      "execution_count": 48,
      "outputs": []
    },
    {
      "cell_type": "code",
      "source": [
        "q0_tok"
      ],
      "metadata": {
        "colab": {
          "base_uri": "https://localhost:8080/"
        },
        "id": "yufoPp21IFsw",
        "outputId": "893ee369-d5c6-4b9c-86e7-e5b66efbd16d"
      },
      "execution_count": 49,
      "outputs": [
        {
          "output_type": "execute_result",
          "data": {
            "text/plain": [
              "['Do',\n",
              " 'you',\n",
              " 'have',\n",
              " 'an',\n",
              " 'adopted',\n",
              " 'dog',\n",
              " ',',\n",
              " 'how',\n",
              " 'would',\n",
              " 'you',\n",
              " 'encourage',\n",
              " 'people',\n",
              " 'to',\n",
              " 'adopt',\n",
              " 'and',\n",
              " 'not',\n",
              " 'shop',\n",
              " '?']"
            ]
          },
          "metadata": {},
          "execution_count": 49
        }
      ]
    },
    {
      "cell_type": "code",
      "source": [
        "q0_stp = remove_stopwords(q0_tok)"
      ],
      "metadata": {
        "id": "K5u8Q6SrII0M"
      },
      "execution_count": 50,
      "outputs": []
    },
    {
      "cell_type": "code",
      "source": [
        "\", \".join(q0_stp)"
      ],
      "metadata": {
        "colab": {
          "base_uri": "https://localhost:8080/",
          "height": 35
        },
        "id": "lVAFzKugINn4",
        "outputId": "b944eaa0-31a4-4987-d4c3-16918b9b2aee"
      },
      "execution_count": 51,
      "outputs": [
        {
          "output_type": "execute_result",
          "data": {
            "text/plain": [
              "'adopted, dog, ,, would, encourage, people, adopt, shop, ?'"
            ],
            "application/vnd.google.colaboratory.intrinsic+json": {
              "type": "string"
            }
          },
          "metadata": {},
          "execution_count": 51
        }
      ]
    },
    {
      "cell_type": "code",
      "source": [
        "q1_stp = remove_stopwords(q1_tok)"
      ],
      "metadata": {
        "id": "UncD-WfoIXoU"
      },
      "execution_count": 52,
      "outputs": []
    },
    {
      "cell_type": "code",
      "source": [
        "q1_stp"
      ],
      "metadata": {
        "colab": {
          "base_uri": "https://localhost:8080/"
        },
        "id": "gt7419g9I_2Q",
        "outputId": "68d41bc6-176c-4693-b141-13b0522b4e6f"
      },
      "execution_count": 53,
      "outputs": [
        {
          "output_type": "execute_result",
          "data": {
            "text/plain": [
              "['United', 'States', 'become', 'largest', 'dictatorship', 'world', '?']"
            ]
          },
          "metadata": {},
          "execution_count": 53
        }
      ]
    },
    {
      "cell_type": "markdown",
      "source": [
        "### Stemming\n",
        "\n",
        "\"go\", \"gone\", \"going\" -> \"go\"\n",
        "\"birds\", \"bird\" -> \"bird\"\n",
        "https://www.nltk.org/howto/stem.html"
      ],
      "metadata": {
        "id": "W-o12IugJLJh"
      }
    },
    {
      "cell_type": "code",
      "source": [
        "from nltk.stem.snowball import SnowballStemmer"
      ],
      "metadata": {
        "id": "QyuDfwxuJA4Y"
      },
      "execution_count": 54,
      "outputs": []
    },
    {
      "cell_type": "code",
      "source": [
        "stemmer = SnowballStemmer(language = 'english')"
      ],
      "metadata": {
        "id": "CS9BXRJ1JZvU"
      },
      "execution_count": 55,
      "outputs": []
    },
    {
      "cell_type": "code",
      "source": [
        "stemmer.stem(\"going\")"
      ],
      "metadata": {
        "colab": {
          "base_uri": "https://localhost:8080/",
          "height": 35
        },
        "id": "Pq4doS_0JuD_",
        "outputId": "67e9b939-c263-40f2-ea96-4ebc20c8939c"
      },
      "execution_count": 56,
      "outputs": [
        {
          "output_type": "execute_result",
          "data": {
            "text/plain": [
              "'go'"
            ],
            "application/vnd.google.colaboratory.intrinsic+json": {
              "type": "string"
            }
          },
          "metadata": {},
          "execution_count": 56
        }
      ]
    },
    {
      "cell_type": "code",
      "source": [
        "stemmer.stem('went')"
      ],
      "metadata": {
        "colab": {
          "base_uri": "https://localhost:8080/",
          "height": 35
        },
        "id": "p342RPQyJ2Rp",
        "outputId": "883fdc91-81e8-4a90-9c8a-a90ee434df94"
      },
      "execution_count": 57,
      "outputs": [
        {
          "output_type": "execute_result",
          "data": {
            "text/plain": [
              "'went'"
            ],
            "application/vnd.google.colaboratory.intrinsic+json": {
              "type": "string"
            }
          },
          "metadata": {},
          "execution_count": 57
        }
      ]
    },
    {
      "cell_type": "code",
      "source": [
        "stemmer.stem('gone')"
      ],
      "metadata": {
        "colab": {
          "base_uri": "https://localhost:8080/",
          "height": 35
        },
        "id": "aue2TJ_nJ4q2",
        "outputId": "9fddc2bc-e892-4efc-fad1-a1a2d17d934a"
      },
      "execution_count": 58,
      "outputs": [
        {
          "output_type": "execute_result",
          "data": {
            "text/plain": [
              "'gone'"
            ],
            "application/vnd.google.colaboratory.intrinsic+json": {
              "type": "string"
            }
          },
          "metadata": {},
          "execution_count": 58
        }
      ]
    },
    {
      "cell_type": "code",
      "source": [
        "stemmer.stem('go')"
      ],
      "metadata": {
        "colab": {
          "base_uri": "https://localhost:8080/",
          "height": 35
        },
        "id": "Rv576Xa6KJUw",
        "outputId": "5e3d07dc-60b2-4211-a7d0-06f5d7262b16"
      },
      "execution_count": 59,
      "outputs": [
        {
          "output_type": "execute_result",
          "data": {
            "text/plain": [
              "'go'"
            ],
            "application/vnd.google.colaboratory.intrinsic+json": {
              "type": "string"
            }
          },
          "metadata": {},
          "execution_count": 59
        }
      ]
    },
    {
      "cell_type": "code",
      "source": [
        "stemmer.stem('hypothetically')"
      ],
      "metadata": {
        "colab": {
          "base_uri": "https://localhost:8080/",
          "height": 35
        },
        "id": "LpjIzgQmKLNL",
        "outputId": "0da7534e-b79b-4748-8cf3-447ca4360036"
      },
      "execution_count": 60,
      "outputs": [
        {
          "output_type": "execute_result",
          "data": {
            "text/plain": [
              "'hypothet'"
            ],
            "application/vnd.google.colaboratory.intrinsic+json": {
              "type": "string"
            }
          },
          "metadata": {},
          "execution_count": 60
        }
      ]
    },
    {
      "cell_type": "code",
      "source": [
        "q0_stem = [stemmer.stem(i) for i in q0_stp]"
      ],
      "metadata": {
        "id": "jOTrG1qjKaXY"
      },
      "execution_count": 61,
      "outputs": []
    },
    {
      "cell_type": "code",
      "source": [
        "q0_stp"
      ],
      "metadata": {
        "colab": {
          "base_uri": "https://localhost:8080/"
        },
        "id": "GWOgB4suK0Y5",
        "outputId": "fe0a540a-4181-47b5-cd21-b762d474f1b3"
      },
      "execution_count": 62,
      "outputs": [
        {
          "output_type": "execute_result",
          "data": {
            "text/plain": [
              "['adopted', 'dog', ',', 'would', 'encourage', 'people', 'adopt', 'shop', '?']"
            ]
          },
          "metadata": {},
          "execution_count": 62
        }
      ]
    },
    {
      "cell_type": "code",
      "source": [
        "q0_stem"
      ],
      "metadata": {
        "colab": {
          "base_uri": "https://localhost:8080/"
        },
        "id": "cUGlQwEvK11A",
        "outputId": "b2d8da8f-4b59-46e3-c821-16106e11f183"
      },
      "execution_count": 63,
      "outputs": [
        {
          "output_type": "execute_result",
          "data": {
            "text/plain": [
              "['adopt', 'dog', ',', 'would', 'encourag', 'peopl', 'adopt', 'shop', '?']"
            ]
          },
          "metadata": {},
          "execution_count": 63
        }
      ]
    },
    {
      "cell_type": "code",
      "source": [
        "q1_stem = [stemmer.stem(i) for i in q1_stp]"
      ],
      "metadata": {
        "id": "l2wOlwG7LR__"
      },
      "execution_count": 64,
      "outputs": []
    },
    {
      "cell_type": "code",
      "source": [
        "q1_stp"
      ],
      "metadata": {
        "colab": {
          "base_uri": "https://localhost:8080/"
        },
        "id": "GvoQrEtPLqgA",
        "outputId": "354f9c61-53f4-4d3d-8184-308498606762"
      },
      "execution_count": 65,
      "outputs": [
        {
          "output_type": "execute_result",
          "data": {
            "text/plain": [
              "['United', 'States', 'become', 'largest', 'dictatorship', 'world', '?']"
            ]
          },
          "metadata": {},
          "execution_count": 65
        }
      ]
    },
    {
      "cell_type": "code",
      "source": [
        "q1_stem"
      ],
      "metadata": {
        "colab": {
          "base_uri": "https://localhost:8080/"
        },
        "id": "Vnyviu9QLsIF",
        "outputId": "9dc13fbf-8a8e-43b9-e92a-517b9cb6b82e"
      },
      "execution_count": 66,
      "outputs": [
        {
          "output_type": "execute_result",
          "data": {
            "text/plain": [
              "['unit', 'state', 'becom', 'largest', 'dictatorship', 'world', '?']"
            ]
          },
          "metadata": {},
          "execution_count": 66
        }
      ]
    },
    {
      "cell_type": "markdown",
      "source": [
        "### What is Lemmatization?\n",
        "\n",
        "\"love\" -> \"love\"\n",
        "\"loving\" -> \"love\"\n",
        "\"lovable\" -> \"love\""
      ],
      "metadata": {
        "id": "S2sv2ZXWMHpO"
      }
    },
    {
      "cell_type": "markdown",
      "source": [
        "## Implement Bag of Words \n",
        "\n",
        "\n",
        "Outline:\n",
        "\n",
        "1. Create a vocabulary using Count Vectorizer\n",
        "2. Transform text to vectors using Count Vectorizer\n",
        "3. Configure text preprocessing in Count Vectorizer"
      ],
      "metadata": {
        "id": "8az1UOW9MvOH"
      }
    },
    {
      "cell_type": "code",
      "source": [
        "sample_df"
      ],
      "metadata": {
        "colab": {
          "base_uri": "https://localhost:8080/",
          "height": 424
        },
        "id": "7bvsBNtuLtUD",
        "outputId": "69052822-9f43-4ea2-d77b-3c76c9131a27"
      },
      "execution_count": 67,
      "outputs": [
        {
          "output_type": "execute_result",
          "data": {
            "text/plain": [
              "                          qid  \\\n",
              "443046   56d324bb1e2c29f43b12   \n",
              "947549   b9ad893dc78c577f8a63   \n",
              "523769   6689ebaeeb65b209a412   \n",
              "949821   ba1e2c4a0fef09671516   \n",
              "1030397  c9ea2b69bf0d74626f46   \n",
              "...                       ...   \n",
              "998930   c3c03a307a29c69971b4   \n",
              "66641    0d119aba95ee6684f506   \n",
              "90024    11a46cd148a104b271cf   \n",
              "130113   1973e6e2111a0c93193a   \n",
              "1137     0037ed037520d82393c0   \n",
              "\n",
              "                                             question_text  target  \n",
              "443046   What is the most effective classroom managemen...       0  \n",
              "947549   Can I study abroad after 10th class from Bangl...       0  \n",
              "523769         How can I make friends as a college junior?       0  \n",
              "949821   How do I download free APK Minecraft: Pocket E...       0  \n",
              "1030397  Like Kuvera, is \"Groww\" also a free online inv...       0  \n",
              "...                                                    ...     ...  \n",
              "998930   How do I research list of reliable charcoal im...       0  \n",
              "66641    What are petroleum products, and what is petro...       0  \n",
              "90024    What are some services that will let you quick...       0  \n",
              "130113   What credit card processors do online marketpl...       0  \n",
              "1137          On which number system does a computer work?       0  \n",
              "\n",
              "[100000 rows x 3 columns]"
            ],
            "text/html": [
              "\n",
              "  <div id=\"df-ab71cf03-f141-45f8-8636-3503042948fa\">\n",
              "    <div class=\"colab-df-container\">\n",
              "      <div>\n",
              "<style scoped>\n",
              "    .dataframe tbody tr th:only-of-type {\n",
              "        vertical-align: middle;\n",
              "    }\n",
              "\n",
              "    .dataframe tbody tr th {\n",
              "        vertical-align: top;\n",
              "    }\n",
              "\n",
              "    .dataframe thead th {\n",
              "        text-align: right;\n",
              "    }\n",
              "</style>\n",
              "<table border=\"1\" class=\"dataframe\">\n",
              "  <thead>\n",
              "    <tr style=\"text-align: right;\">\n",
              "      <th></th>\n",
              "      <th>qid</th>\n",
              "      <th>question_text</th>\n",
              "      <th>target</th>\n",
              "    </tr>\n",
              "  </thead>\n",
              "  <tbody>\n",
              "    <tr>\n",
              "      <th>443046</th>\n",
              "      <td>56d324bb1e2c29f43b12</td>\n",
              "      <td>What is the most effective classroom managemen...</td>\n",
              "      <td>0</td>\n",
              "    </tr>\n",
              "    <tr>\n",
              "      <th>947549</th>\n",
              "      <td>b9ad893dc78c577f8a63</td>\n",
              "      <td>Can I study abroad after 10th class from Bangl...</td>\n",
              "      <td>0</td>\n",
              "    </tr>\n",
              "    <tr>\n",
              "      <th>523769</th>\n",
              "      <td>6689ebaeeb65b209a412</td>\n",
              "      <td>How can I make friends as a college junior?</td>\n",
              "      <td>0</td>\n",
              "    </tr>\n",
              "    <tr>\n",
              "      <th>949821</th>\n",
              "      <td>ba1e2c4a0fef09671516</td>\n",
              "      <td>How do I download free APK Minecraft: Pocket E...</td>\n",
              "      <td>0</td>\n",
              "    </tr>\n",
              "    <tr>\n",
              "      <th>1030397</th>\n",
              "      <td>c9ea2b69bf0d74626f46</td>\n",
              "      <td>Like Kuvera, is \"Groww\" also a free online inv...</td>\n",
              "      <td>0</td>\n",
              "    </tr>\n",
              "    <tr>\n",
              "      <th>...</th>\n",
              "      <td>...</td>\n",
              "      <td>...</td>\n",
              "      <td>...</td>\n",
              "    </tr>\n",
              "    <tr>\n",
              "      <th>998930</th>\n",
              "      <td>c3c03a307a29c69971b4</td>\n",
              "      <td>How do I research list of reliable charcoal im...</td>\n",
              "      <td>0</td>\n",
              "    </tr>\n",
              "    <tr>\n",
              "      <th>66641</th>\n",
              "      <td>0d119aba95ee6684f506</td>\n",
              "      <td>What are petroleum products, and what is petro...</td>\n",
              "      <td>0</td>\n",
              "    </tr>\n",
              "    <tr>\n",
              "      <th>90024</th>\n",
              "      <td>11a46cd148a104b271cf</td>\n",
              "      <td>What are some services that will let you quick...</td>\n",
              "      <td>0</td>\n",
              "    </tr>\n",
              "    <tr>\n",
              "      <th>130113</th>\n",
              "      <td>1973e6e2111a0c93193a</td>\n",
              "      <td>What credit card processors do online marketpl...</td>\n",
              "      <td>0</td>\n",
              "    </tr>\n",
              "    <tr>\n",
              "      <th>1137</th>\n",
              "      <td>0037ed037520d82393c0</td>\n",
              "      <td>On which number system does a computer work?</td>\n",
              "      <td>0</td>\n",
              "    </tr>\n",
              "  </tbody>\n",
              "</table>\n",
              "<p>100000 rows × 3 columns</p>\n",
              "</div>\n",
              "      <button class=\"colab-df-convert\" onclick=\"convertToInteractive('df-ab71cf03-f141-45f8-8636-3503042948fa')\"\n",
              "              title=\"Convert this dataframe to an interactive table.\"\n",
              "              style=\"display:none;\">\n",
              "        \n",
              "  <svg xmlns=\"http://www.w3.org/2000/svg\" height=\"24px\"viewBox=\"0 0 24 24\"\n",
              "       width=\"24px\">\n",
              "    <path d=\"M0 0h24v24H0V0z\" fill=\"none\"/>\n",
              "    <path d=\"M18.56 5.44l.94 2.06.94-2.06 2.06-.94-2.06-.94-.94-2.06-.94 2.06-2.06.94zm-11 1L8.5 8.5l.94-2.06 2.06-.94-2.06-.94L8.5 2.5l-.94 2.06-2.06.94zm10 10l.94 2.06.94-2.06 2.06-.94-2.06-.94-.94-2.06-.94 2.06-2.06.94z\"/><path d=\"M17.41 7.96l-1.37-1.37c-.4-.4-.92-.59-1.43-.59-.52 0-1.04.2-1.43.59L10.3 9.45l-7.72 7.72c-.78.78-.78 2.05 0 2.83L4 21.41c.39.39.9.59 1.41.59.51 0 1.02-.2 1.41-.59l7.78-7.78 2.81-2.81c.8-.78.8-2.07 0-2.86zM5.41 20L4 18.59l7.72-7.72 1.47 1.35L5.41 20z\"/>\n",
              "  </svg>\n",
              "      </button>\n",
              "      \n",
              "  <style>\n",
              "    .colab-df-container {\n",
              "      display:flex;\n",
              "      flex-wrap:wrap;\n",
              "      gap: 12px;\n",
              "    }\n",
              "\n",
              "    .colab-df-convert {\n",
              "      background-color: #E8F0FE;\n",
              "      border: none;\n",
              "      border-radius: 50%;\n",
              "      cursor: pointer;\n",
              "      display: none;\n",
              "      fill: #1967D2;\n",
              "      height: 32px;\n",
              "      padding: 0 0 0 0;\n",
              "      width: 32px;\n",
              "    }\n",
              "\n",
              "    .colab-df-convert:hover {\n",
              "      background-color: #E2EBFA;\n",
              "      box-shadow: 0px 1px 2px rgba(60, 64, 67, 0.3), 0px 1px 3px 1px rgba(60, 64, 67, 0.15);\n",
              "      fill: #174EA6;\n",
              "    }\n",
              "\n",
              "    [theme=dark] .colab-df-convert {\n",
              "      background-color: #3B4455;\n",
              "      fill: #D2E3FC;\n",
              "    }\n",
              "\n",
              "    [theme=dark] .colab-df-convert:hover {\n",
              "      background-color: #434B5C;\n",
              "      box-shadow: 0px 1px 3px 1px rgba(0, 0, 0, 0.15);\n",
              "      filter: drop-shadow(0px 1px 2px rgba(0, 0, 0, 0.3));\n",
              "      fill: #FFFFFF;\n",
              "    }\n",
              "  </style>\n",
              "\n",
              "      <script>\n",
              "        const buttonEl =\n",
              "          document.querySelector('#df-ab71cf03-f141-45f8-8636-3503042948fa button.colab-df-convert');\n",
              "        buttonEl.style.display =\n",
              "          google.colab.kernel.accessAllowed ? 'block' : 'none';\n",
              "\n",
              "        async function convertToInteractive(key) {\n",
              "          const element = document.querySelector('#df-ab71cf03-f141-45f8-8636-3503042948fa');\n",
              "          const dataTable =\n",
              "            await google.colab.kernel.invokeFunction('convertToInteractive',\n",
              "                                                     [key], {});\n",
              "          if (!dataTable) return;\n",
              "\n",
              "          const docLinkHtml = 'Like what you see? Visit the ' +\n",
              "            '<a target=\"_blank\" href=https://colab.research.google.com/notebooks/data_table.ipynb>data table notebook</a>'\n",
              "            + ' to learn more about interactive tables.';\n",
              "          element.innerHTML = '';\n",
              "          dataTable['output_type'] = 'display_data';\n",
              "          await google.colab.output.renderOutput(dataTable, element);\n",
              "          const docLink = document.createElement('div');\n",
              "          docLink.innerHTML = docLinkHtml;\n",
              "          element.appendChild(docLink);\n",
              "        }\n",
              "      </script>\n",
              "    </div>\n",
              "  </div>\n",
              "  "
            ]
          },
          "metadata": {},
          "execution_count": 67
        }
      ]
    },
    {
      "cell_type": "code",
      "source": [
        "small_df = sample_df[:5]"
      ],
      "metadata": {
        "id": "cNZ9AsFro3MU"
      },
      "execution_count": 68,
      "outputs": []
    },
    {
      "cell_type": "code",
      "source": [
        "small_df"
      ],
      "metadata": {
        "colab": {
          "base_uri": "https://localhost:8080/",
          "height": 206
        },
        "id": "uo--EFLwpTn1",
        "outputId": "2de88f8c-8a77-4a39-c27c-b945606b1216"
      },
      "execution_count": 71,
      "outputs": [
        {
          "output_type": "execute_result",
          "data": {
            "text/plain": [
              "                          qid  \\\n",
              "443046   56d324bb1e2c29f43b12   \n",
              "947549   b9ad893dc78c577f8a63   \n",
              "523769   6689ebaeeb65b209a412   \n",
              "949821   ba1e2c4a0fef09671516   \n",
              "1030397  c9ea2b69bf0d74626f46   \n",
              "\n",
              "                                             question_text  target  \n",
              "443046   What is the most effective classroom managemen...       0  \n",
              "947549   Can I study abroad after 10th class from Bangl...       0  \n",
              "523769         How can I make friends as a college junior?       0  \n",
              "949821   How do I download free APK Minecraft: Pocket E...       0  \n",
              "1030397  Like Kuvera, is \"Groww\" also a free online inv...       0  "
            ],
            "text/html": [
              "\n",
              "  <div id=\"df-a3999cbd-6c52-4f56-85f0-0b0c172d20a8\">\n",
              "    <div class=\"colab-df-container\">\n",
              "      <div>\n",
              "<style scoped>\n",
              "    .dataframe tbody tr th:only-of-type {\n",
              "        vertical-align: middle;\n",
              "    }\n",
              "\n",
              "    .dataframe tbody tr th {\n",
              "        vertical-align: top;\n",
              "    }\n",
              "\n",
              "    .dataframe thead th {\n",
              "        text-align: right;\n",
              "    }\n",
              "</style>\n",
              "<table border=\"1\" class=\"dataframe\">\n",
              "  <thead>\n",
              "    <tr style=\"text-align: right;\">\n",
              "      <th></th>\n",
              "      <th>qid</th>\n",
              "      <th>question_text</th>\n",
              "      <th>target</th>\n",
              "    </tr>\n",
              "  </thead>\n",
              "  <tbody>\n",
              "    <tr>\n",
              "      <th>443046</th>\n",
              "      <td>56d324bb1e2c29f43b12</td>\n",
              "      <td>What is the most effective classroom managemen...</td>\n",
              "      <td>0</td>\n",
              "    </tr>\n",
              "    <tr>\n",
              "      <th>947549</th>\n",
              "      <td>b9ad893dc78c577f8a63</td>\n",
              "      <td>Can I study abroad after 10th class from Bangl...</td>\n",
              "      <td>0</td>\n",
              "    </tr>\n",
              "    <tr>\n",
              "      <th>523769</th>\n",
              "      <td>6689ebaeeb65b209a412</td>\n",
              "      <td>How can I make friends as a college junior?</td>\n",
              "      <td>0</td>\n",
              "    </tr>\n",
              "    <tr>\n",
              "      <th>949821</th>\n",
              "      <td>ba1e2c4a0fef09671516</td>\n",
              "      <td>How do I download free APK Minecraft: Pocket E...</td>\n",
              "      <td>0</td>\n",
              "    </tr>\n",
              "    <tr>\n",
              "      <th>1030397</th>\n",
              "      <td>c9ea2b69bf0d74626f46</td>\n",
              "      <td>Like Kuvera, is \"Groww\" also a free online inv...</td>\n",
              "      <td>0</td>\n",
              "    </tr>\n",
              "  </tbody>\n",
              "</table>\n",
              "</div>\n",
              "      <button class=\"colab-df-convert\" onclick=\"convertToInteractive('df-a3999cbd-6c52-4f56-85f0-0b0c172d20a8')\"\n",
              "              title=\"Convert this dataframe to an interactive table.\"\n",
              "              style=\"display:none;\">\n",
              "        \n",
              "  <svg xmlns=\"http://www.w3.org/2000/svg\" height=\"24px\"viewBox=\"0 0 24 24\"\n",
              "       width=\"24px\">\n",
              "    <path d=\"M0 0h24v24H0V0z\" fill=\"none\"/>\n",
              "    <path d=\"M18.56 5.44l.94 2.06.94-2.06 2.06-.94-2.06-.94-.94-2.06-.94 2.06-2.06.94zm-11 1L8.5 8.5l.94-2.06 2.06-.94-2.06-.94L8.5 2.5l-.94 2.06-2.06.94zm10 10l.94 2.06.94-2.06 2.06-.94-2.06-.94-.94-2.06-.94 2.06-2.06.94z\"/><path d=\"M17.41 7.96l-1.37-1.37c-.4-.4-.92-.59-1.43-.59-.52 0-1.04.2-1.43.59L10.3 9.45l-7.72 7.72c-.78.78-.78 2.05 0 2.83L4 21.41c.39.39.9.59 1.41.59.51 0 1.02-.2 1.41-.59l7.78-7.78 2.81-2.81c.8-.78.8-2.07 0-2.86zM5.41 20L4 18.59l7.72-7.72 1.47 1.35L5.41 20z\"/>\n",
              "  </svg>\n",
              "      </button>\n",
              "      \n",
              "  <style>\n",
              "    .colab-df-container {\n",
              "      display:flex;\n",
              "      flex-wrap:wrap;\n",
              "      gap: 12px;\n",
              "    }\n",
              "\n",
              "    .colab-df-convert {\n",
              "      background-color: #E8F0FE;\n",
              "      border: none;\n",
              "      border-radius: 50%;\n",
              "      cursor: pointer;\n",
              "      display: none;\n",
              "      fill: #1967D2;\n",
              "      height: 32px;\n",
              "      padding: 0 0 0 0;\n",
              "      width: 32px;\n",
              "    }\n",
              "\n",
              "    .colab-df-convert:hover {\n",
              "      background-color: #E2EBFA;\n",
              "      box-shadow: 0px 1px 2px rgba(60, 64, 67, 0.3), 0px 1px 3px 1px rgba(60, 64, 67, 0.15);\n",
              "      fill: #174EA6;\n",
              "    }\n",
              "\n",
              "    [theme=dark] .colab-df-convert {\n",
              "      background-color: #3B4455;\n",
              "      fill: #D2E3FC;\n",
              "    }\n",
              "\n",
              "    [theme=dark] .colab-df-convert:hover {\n",
              "      background-color: #434B5C;\n",
              "      box-shadow: 0px 1px 3px 1px rgba(0, 0, 0, 0.15);\n",
              "      filter: drop-shadow(0px 1px 2px rgba(0, 0, 0, 0.3));\n",
              "      fill: #FFFFFF;\n",
              "    }\n",
              "  </style>\n",
              "\n",
              "      <script>\n",
              "        const buttonEl =\n",
              "          document.querySelector('#df-a3999cbd-6c52-4f56-85f0-0b0c172d20a8 button.colab-df-convert');\n",
              "        buttonEl.style.display =\n",
              "          google.colab.kernel.accessAllowed ? 'block' : 'none';\n",
              "\n",
              "        async function convertToInteractive(key) {\n",
              "          const element = document.querySelector('#df-a3999cbd-6c52-4f56-85f0-0b0c172d20a8');\n",
              "          const dataTable =\n",
              "            await google.colab.kernel.invokeFunction('convertToInteractive',\n",
              "                                                     [key], {});\n",
              "          if (!dataTable) return;\n",
              "\n",
              "          const docLinkHtml = 'Like what you see? Visit the ' +\n",
              "            '<a target=\"_blank\" href=https://colab.research.google.com/notebooks/data_table.ipynb>data table notebook</a>'\n",
              "            + ' to learn more about interactive tables.';\n",
              "          element.innerHTML = '';\n",
              "          dataTable['output_type'] = 'display_data';\n",
              "          await google.colab.output.renderOutput(dataTable, element);\n",
              "          const docLink = document.createElement('div');\n",
              "          docLink.innerHTML = docLinkHtml;\n",
              "          element.appendChild(docLink);\n",
              "        }\n",
              "      </script>\n",
              "    </div>\n",
              "  </div>\n",
              "  "
            ]
          },
          "metadata": {},
          "execution_count": 71
        }
      ]
    },
    {
      "cell_type": "code",
      "source": [
        "small_df.question_text.values"
      ],
      "metadata": {
        "colab": {
          "base_uri": "https://localhost:8080/"
        },
        "id": "ckPgshkmpDvh",
        "outputId": "c9b3b854-0be6-454f-a862-bae2f9210f0a"
      },
      "execution_count": 70,
      "outputs": [
        {
          "output_type": "execute_result",
          "data": {
            "text/plain": [
              "array(['What is the most effective classroom management skill/technique to create a good learning environment?',\n",
              "       'Can I study abroad after 10th class from Bangladesh?',\n",
              "       'How can I make friends as a college junior?',\n",
              "       'How do I download free APK Minecraft: Pocket Edition for iOS (iPhone)?',\n",
              "       'Like Kuvera, is \"Groww\" also a free online investment platform where I can invest in direct mutual funds?'],\n",
              "      dtype=object)"
            ]
          },
          "metadata": {},
          "execution_count": 70
        }
      ]
    },
    {
      "cell_type": "markdown",
      "source": [
        "### Create a Vocabulary"
      ],
      "metadata": {
        "id": "Uvu6W62KpZ-V"
      }
    },
    {
      "cell_type": "code",
      "source": [
        "from sklearn.feature_extraction.text import CountVectorizer"
      ],
      "metadata": {
        "id": "esnP5xltpZlx"
      },
      "execution_count": 72,
      "outputs": []
    },
    {
      "cell_type": "code",
      "source": [
        "small_vect = CountVectorizer()"
      ],
      "metadata": {
        "id": "MZ3pkP54pEvH"
      },
      "execution_count": 73,
      "outputs": []
    },
    {
      "cell_type": "code",
      "source": [
        "small_vect.fit(small_df.question_text)"
      ],
      "metadata": {
        "colab": {
          "base_uri": "https://localhost:8080/"
        },
        "id": "4az_OY5rqDbO",
        "outputId": "3a90bbd3-4aee-43be-8f1d-6795b06ef8a0"
      },
      "execution_count": 75,
      "outputs": [
        {
          "output_type": "execute_result",
          "data": {
            "text/plain": [
              "CountVectorizer()"
            ]
          },
          "metadata": {},
          "execution_count": 75
        }
      ]
    },
    {
      "cell_type": "code",
      "source": [
        "small_vect.vocabulary_"
      ],
      "metadata": {
        "colab": {
          "base_uri": "https://localhost:8080/"
        },
        "id": "sokdFs0KqMbU",
        "outputId": "74be7d70-407d-4536-c45b-a442227dc466"
      },
      "execution_count": 76,
      "outputs": [
        {
          "output_type": "execute_result",
          "data": {
            "text/plain": [
              "{'what': 49,\n",
              " 'is': 31,\n",
              " 'the': 47,\n",
              " 'most': 39,\n",
              " 'effective': 16,\n",
              " 'classroom': 9,\n",
              " 'management': 37,\n",
              " 'skill': 44,\n",
              " 'technique': 46,\n",
              " 'to': 48,\n",
              " 'create': 11,\n",
              " 'good': 23,\n",
              " 'learning': 34,\n",
              " 'environment': 17,\n",
              " 'can': 7,\n",
              " 'study': 45,\n",
              " 'abroad': 1,\n",
              " 'after': 2,\n",
              " '10th': 0,\n",
              " 'class': 8,\n",
              " 'from': 21,\n",
              " 'bangladesh': 6,\n",
              " 'how': 25,\n",
              " 'make': 36,\n",
              " 'friends': 20,\n",
              " 'as': 5,\n",
              " 'college': 10,\n",
              " 'junior': 32,\n",
              " 'do': 13,\n",
              " 'download': 14,\n",
              " 'free': 19,\n",
              " 'apk': 4,\n",
              " 'minecraft': 38,\n",
              " 'pocket': 43,\n",
              " 'edition': 15,\n",
              " 'for': 18,\n",
              " 'ios': 29,\n",
              " 'iphone': 30,\n",
              " 'like': 35,\n",
              " 'kuvera': 33,\n",
              " 'groww': 24,\n",
              " 'also': 3,\n",
              " 'online': 41,\n",
              " 'investment': 28,\n",
              " 'platform': 42,\n",
              " 'where': 50,\n",
              " 'invest': 27,\n",
              " 'in': 26,\n",
              " 'direct': 12,\n",
              " 'mutual': 40,\n",
              " 'funds': 22}"
            ]
          },
          "metadata": {},
          "execution_count": 76
        }
      ]
    },
    {
      "cell_type": "code",
      "source": [
        "small_vect.get_feature_names_out()"
      ],
      "metadata": {
        "colab": {
          "base_uri": "https://localhost:8080/"
        },
        "id": "mBURA28zqZmo",
        "outputId": "b0451e10-9b10-4095-c882-9f3866f75c7e"
      },
      "execution_count": 78,
      "outputs": [
        {
          "output_type": "execute_result",
          "data": {
            "text/plain": [
              "array(['10th', 'abroad', 'after', 'also', 'apk', 'as', 'bangladesh',\n",
              "       'can', 'class', 'classroom', 'college', 'create', 'direct', 'do',\n",
              "       'download', 'edition', 'effective', 'environment', 'for', 'free',\n",
              "       'friends', 'from', 'funds', 'good', 'groww', 'how', 'in', 'invest',\n",
              "       'investment', 'ios', 'iphone', 'is', 'junior', 'kuvera',\n",
              "       'learning', 'like', 'make', 'management', 'minecraft', 'most',\n",
              "       'mutual', 'online', 'platform', 'pocket', 'skill', 'study',\n",
              "       'technique', 'the', 'to', 'what', 'where'], dtype=object)"
            ]
          },
          "metadata": {},
          "execution_count": 78
        }
      ]
    },
    {
      "cell_type": "markdown",
      "source": [
        "### Transform documents into Vectors\n"
      ],
      "metadata": {
        "id": "h0DFQAWKrHFo"
      }
    },
    {
      "cell_type": "code",
      "source": [
        "vectors = small_vect.transform(small_df.question_text)"
      ],
      "metadata": {
        "id": "qoxZ3YY3qxLH"
      },
      "execution_count": 79,
      "outputs": []
    },
    {
      "cell_type": "code",
      "source": [
        "vectors"
      ],
      "metadata": {
        "colab": {
          "base_uri": "https://localhost:8080/"
        },
        "id": "gpivI9Rkr6YG",
        "outputId": "274cd308-50a6-46fe-ed5c-bc0b549de53e"
      },
      "execution_count": 80,
      "outputs": [
        {
          "output_type": "execute_result",
          "data": {
            "text/plain": [
              "<5x51 sparse matrix of type '<class 'numpy.int64'>'\n",
              "\twith 56 stored elements in Compressed Sparse Row format>"
            ]
          },
          "metadata": {},
          "execution_count": 80
        }
      ]
    },
    {
      "cell_type": "code",
      "source": [
        "vectors.shape"
      ],
      "metadata": {
        "colab": {
          "base_uri": "https://localhost:8080/"
        },
        "id": "D8VveimusM4G",
        "outputId": "17483b3e-67a8-4090-8173-d46b3c507b99"
      },
      "execution_count": 82,
      "outputs": [
        {
          "output_type": "execute_result",
          "data": {
            "text/plain": [
              "(5, 51)"
            ]
          },
          "metadata": {},
          "execution_count": 82
        }
      ]
    },
    {
      "cell_type": "code",
      "source": [
        "vectors.toarray()"
      ],
      "metadata": {
        "colab": {
          "base_uri": "https://localhost:8080/"
        },
        "id": "E7Zdjkbzr78R",
        "outputId": "e5a1ae2d-9274-43db-aec7-dac42a2ef9ea"
      },
      "execution_count": 81,
      "outputs": [
        {
          "output_type": "execute_result",
          "data": {
            "text/plain": [
              "array([[0, 0, 0, 0, 0, 0, 0, 0, 0, 1, 0, 1, 0, 0, 0, 0, 1, 1, 0, 0, 0, 0,\n",
              "        0, 1, 0, 0, 0, 0, 0, 0, 0, 1, 0, 0, 1, 0, 0, 1, 0, 1, 0, 0, 0, 0,\n",
              "        1, 0, 1, 1, 1, 1, 0],\n",
              "       [1, 1, 1, 0, 0, 0, 1, 1, 1, 0, 0, 0, 0, 0, 0, 0, 0, 0, 0, 0, 0, 1,\n",
              "        0, 0, 0, 0, 0, 0, 0, 0, 0, 0, 0, 0, 0, 0, 0, 0, 0, 0, 0, 0, 0, 0,\n",
              "        0, 1, 0, 0, 0, 0, 0],\n",
              "       [0, 0, 0, 0, 0, 1, 0, 1, 0, 0, 1, 0, 0, 0, 0, 0, 0, 0, 0, 0, 1, 0,\n",
              "        0, 0, 0, 1, 0, 0, 0, 0, 0, 0, 1, 0, 0, 0, 1, 0, 0, 0, 0, 0, 0, 0,\n",
              "        0, 0, 0, 0, 0, 0, 0],\n",
              "       [0, 0, 0, 0, 1, 0, 0, 0, 0, 0, 0, 0, 0, 1, 1, 1, 0, 0, 1, 1, 0, 0,\n",
              "        0, 0, 0, 1, 0, 0, 0, 1, 1, 0, 0, 0, 0, 0, 0, 0, 1, 0, 0, 0, 0, 1,\n",
              "        0, 0, 0, 0, 0, 0, 0],\n",
              "       [0, 0, 0, 1, 0, 0, 0, 1, 0, 0, 0, 0, 1, 0, 0, 0, 0, 0, 0, 1, 0, 0,\n",
              "        1, 0, 1, 0, 1, 1, 1, 0, 0, 1, 0, 1, 0, 1, 0, 0, 0, 0, 1, 1, 1, 0,\n",
              "        0, 0, 0, 0, 0, 0, 1]])"
            ]
          },
          "metadata": {},
          "execution_count": 81
        }
      ]
    },
    {
      "cell_type": "markdown",
      "source": [
        "### Configure Count Vectorizer Parameters"
      ],
      "metadata": {
        "id": "TPKeiJFqsrCK"
      }
    },
    {
      "cell_type": "code",
      "source": [
        "stemmer = SnowballStemmer(language = 'english')"
      ],
      "metadata": {
        "id": "DuKmyhuRvcVB"
      },
      "execution_count": 87,
      "outputs": []
    },
    {
      "cell_type": "code",
      "source": [
        "def tokenizer(text):\n",
        "  return[ stemmer.stem(word) for word in word_tokenize(text)]\n"
      ],
      "metadata": {
        "id": "HLhstD0TtsbJ"
      },
      "execution_count": 88,
      "outputs": []
    },
    {
      "cell_type": "code",
      "source": [
        "tokenizer(\"hey! what's the real (dealing) here?\")"
      ],
      "metadata": {
        "colab": {
          "base_uri": "https://localhost:8080/"
        },
        "id": "l__NSjJ_uemm",
        "outputId": "6c186e81-eb0e-49ea-c613-1b22947e5497"
      },
      "execution_count": 89,
      "outputs": [
        {
          "output_type": "execute_result",
          "data": {
            "text/plain": [
              "['hey', '!', 'what', \"'s\", 'the', 'real', '(', 'deal', ')', 'here', '?']"
            ]
          },
          "metadata": {},
          "execution_count": 89
        }
      ]
    },
    {
      "cell_type": "code",
      "source": [
        "vectorizer = CountVectorizer(lowercase = True,\n",
        "                             tokenizer = tokenizer,\n",
        "                             stop_words = english_stopwords,\n",
        "                             max_features = 1000)"
      ],
      "metadata": {
        "id": "r5FyDtimsJDB"
      },
      "execution_count": 90,
      "outputs": []
    },
    {
      "cell_type": "code",
      "source": [
        "sample_df"
      ],
      "metadata": {
        "colab": {
          "base_uri": "https://localhost:8080/",
          "height": 424
        },
        "id": "EtRVDMxF2hmS",
        "outputId": "f61c7f32-b910-458c-c6b5-85c74d0db6df"
      },
      "execution_count": 91,
      "outputs": [
        {
          "output_type": "execute_result",
          "data": {
            "text/plain": [
              "                          qid  \\\n",
              "443046   56d324bb1e2c29f43b12   \n",
              "947549   b9ad893dc78c577f8a63   \n",
              "523769   6689ebaeeb65b209a412   \n",
              "949821   ba1e2c4a0fef09671516   \n",
              "1030397  c9ea2b69bf0d74626f46   \n",
              "...                       ...   \n",
              "998930   c3c03a307a29c69971b4   \n",
              "66641    0d119aba95ee6684f506   \n",
              "90024    11a46cd148a104b271cf   \n",
              "130113   1973e6e2111a0c93193a   \n",
              "1137     0037ed037520d82393c0   \n",
              "\n",
              "                                             question_text  target  \n",
              "443046   What is the most effective classroom managemen...       0  \n",
              "947549   Can I study abroad after 10th class from Bangl...       0  \n",
              "523769         How can I make friends as a college junior?       0  \n",
              "949821   How do I download free APK Minecraft: Pocket E...       0  \n",
              "1030397  Like Kuvera, is \"Groww\" also a free online inv...       0  \n",
              "...                                                    ...     ...  \n",
              "998930   How do I research list of reliable charcoal im...       0  \n",
              "66641    What are petroleum products, and what is petro...       0  \n",
              "90024    What are some services that will let you quick...       0  \n",
              "130113   What credit card processors do online marketpl...       0  \n",
              "1137          On which number system does a computer work?       0  \n",
              "\n",
              "[100000 rows x 3 columns]"
            ],
            "text/html": [
              "\n",
              "  <div id=\"df-519d1d22-7d1c-44bf-bacf-7abbf3802ce2\">\n",
              "    <div class=\"colab-df-container\">\n",
              "      <div>\n",
              "<style scoped>\n",
              "    .dataframe tbody tr th:only-of-type {\n",
              "        vertical-align: middle;\n",
              "    }\n",
              "\n",
              "    .dataframe tbody tr th {\n",
              "        vertical-align: top;\n",
              "    }\n",
              "\n",
              "    .dataframe thead th {\n",
              "        text-align: right;\n",
              "    }\n",
              "</style>\n",
              "<table border=\"1\" class=\"dataframe\">\n",
              "  <thead>\n",
              "    <tr style=\"text-align: right;\">\n",
              "      <th></th>\n",
              "      <th>qid</th>\n",
              "      <th>question_text</th>\n",
              "      <th>target</th>\n",
              "    </tr>\n",
              "  </thead>\n",
              "  <tbody>\n",
              "    <tr>\n",
              "      <th>443046</th>\n",
              "      <td>56d324bb1e2c29f43b12</td>\n",
              "      <td>What is the most effective classroom managemen...</td>\n",
              "      <td>0</td>\n",
              "    </tr>\n",
              "    <tr>\n",
              "      <th>947549</th>\n",
              "      <td>b9ad893dc78c577f8a63</td>\n",
              "      <td>Can I study abroad after 10th class from Bangl...</td>\n",
              "      <td>0</td>\n",
              "    </tr>\n",
              "    <tr>\n",
              "      <th>523769</th>\n",
              "      <td>6689ebaeeb65b209a412</td>\n",
              "      <td>How can I make friends as a college junior?</td>\n",
              "      <td>0</td>\n",
              "    </tr>\n",
              "    <tr>\n",
              "      <th>949821</th>\n",
              "      <td>ba1e2c4a0fef09671516</td>\n",
              "      <td>How do I download free APK Minecraft: Pocket E...</td>\n",
              "      <td>0</td>\n",
              "    </tr>\n",
              "    <tr>\n",
              "      <th>1030397</th>\n",
              "      <td>c9ea2b69bf0d74626f46</td>\n",
              "      <td>Like Kuvera, is \"Groww\" also a free online inv...</td>\n",
              "      <td>0</td>\n",
              "    </tr>\n",
              "    <tr>\n",
              "      <th>...</th>\n",
              "      <td>...</td>\n",
              "      <td>...</td>\n",
              "      <td>...</td>\n",
              "    </tr>\n",
              "    <tr>\n",
              "      <th>998930</th>\n",
              "      <td>c3c03a307a29c69971b4</td>\n",
              "      <td>How do I research list of reliable charcoal im...</td>\n",
              "      <td>0</td>\n",
              "    </tr>\n",
              "    <tr>\n",
              "      <th>66641</th>\n",
              "      <td>0d119aba95ee6684f506</td>\n",
              "      <td>What are petroleum products, and what is petro...</td>\n",
              "      <td>0</td>\n",
              "    </tr>\n",
              "    <tr>\n",
              "      <th>90024</th>\n",
              "      <td>11a46cd148a104b271cf</td>\n",
              "      <td>What are some services that will let you quick...</td>\n",
              "      <td>0</td>\n",
              "    </tr>\n",
              "    <tr>\n",
              "      <th>130113</th>\n",
              "      <td>1973e6e2111a0c93193a</td>\n",
              "      <td>What credit card processors do online marketpl...</td>\n",
              "      <td>0</td>\n",
              "    </tr>\n",
              "    <tr>\n",
              "      <th>1137</th>\n",
              "      <td>0037ed037520d82393c0</td>\n",
              "      <td>On which number system does a computer work?</td>\n",
              "      <td>0</td>\n",
              "    </tr>\n",
              "  </tbody>\n",
              "</table>\n",
              "<p>100000 rows × 3 columns</p>\n",
              "</div>\n",
              "      <button class=\"colab-df-convert\" onclick=\"convertToInteractive('df-519d1d22-7d1c-44bf-bacf-7abbf3802ce2')\"\n",
              "              title=\"Convert this dataframe to an interactive table.\"\n",
              "              style=\"display:none;\">\n",
              "        \n",
              "  <svg xmlns=\"http://www.w3.org/2000/svg\" height=\"24px\"viewBox=\"0 0 24 24\"\n",
              "       width=\"24px\">\n",
              "    <path d=\"M0 0h24v24H0V0z\" fill=\"none\"/>\n",
              "    <path d=\"M18.56 5.44l.94 2.06.94-2.06 2.06-.94-2.06-.94-.94-2.06-.94 2.06-2.06.94zm-11 1L8.5 8.5l.94-2.06 2.06-.94-2.06-.94L8.5 2.5l-.94 2.06-2.06.94zm10 10l.94 2.06.94-2.06 2.06-.94-2.06-.94-.94-2.06-.94 2.06-2.06.94z\"/><path d=\"M17.41 7.96l-1.37-1.37c-.4-.4-.92-.59-1.43-.59-.52 0-1.04.2-1.43.59L10.3 9.45l-7.72 7.72c-.78.78-.78 2.05 0 2.83L4 21.41c.39.39.9.59 1.41.59.51 0 1.02-.2 1.41-.59l7.78-7.78 2.81-2.81c.8-.78.8-2.07 0-2.86zM5.41 20L4 18.59l7.72-7.72 1.47 1.35L5.41 20z\"/>\n",
              "  </svg>\n",
              "      </button>\n",
              "      \n",
              "  <style>\n",
              "    .colab-df-container {\n",
              "      display:flex;\n",
              "      flex-wrap:wrap;\n",
              "      gap: 12px;\n",
              "    }\n",
              "\n",
              "    .colab-df-convert {\n",
              "      background-color: #E8F0FE;\n",
              "      border: none;\n",
              "      border-radius: 50%;\n",
              "      cursor: pointer;\n",
              "      display: none;\n",
              "      fill: #1967D2;\n",
              "      height: 32px;\n",
              "      padding: 0 0 0 0;\n",
              "      width: 32px;\n",
              "    }\n",
              "\n",
              "    .colab-df-convert:hover {\n",
              "      background-color: #E2EBFA;\n",
              "      box-shadow: 0px 1px 2px rgba(60, 64, 67, 0.3), 0px 1px 3px 1px rgba(60, 64, 67, 0.15);\n",
              "      fill: #174EA6;\n",
              "    }\n",
              "\n",
              "    [theme=dark] .colab-df-convert {\n",
              "      background-color: #3B4455;\n",
              "      fill: #D2E3FC;\n",
              "    }\n",
              "\n",
              "    [theme=dark] .colab-df-convert:hover {\n",
              "      background-color: #434B5C;\n",
              "      box-shadow: 0px 1px 3px 1px rgba(0, 0, 0, 0.15);\n",
              "      filter: drop-shadow(0px 1px 2px rgba(0, 0, 0, 0.3));\n",
              "      fill: #FFFFFF;\n",
              "    }\n",
              "  </style>\n",
              "\n",
              "      <script>\n",
              "        const buttonEl =\n",
              "          document.querySelector('#df-519d1d22-7d1c-44bf-bacf-7abbf3802ce2 button.colab-df-convert');\n",
              "        buttonEl.style.display =\n",
              "          google.colab.kernel.accessAllowed ? 'block' : 'none';\n",
              "\n",
              "        async function convertToInteractive(key) {\n",
              "          const element = document.querySelector('#df-519d1d22-7d1c-44bf-bacf-7abbf3802ce2');\n",
              "          const dataTable =\n",
              "            await google.colab.kernel.invokeFunction('convertToInteractive',\n",
              "                                                     [key], {});\n",
              "          if (!dataTable) return;\n",
              "\n",
              "          const docLinkHtml = 'Like what you see? Visit the ' +\n",
              "            '<a target=\"_blank\" href=https://colab.research.google.com/notebooks/data_table.ipynb>data table notebook</a>'\n",
              "            + ' to learn more about interactive tables.';\n",
              "          element.innerHTML = '';\n",
              "          dataTable['output_type'] = 'display_data';\n",
              "          await google.colab.output.renderOutput(dataTable, element);\n",
              "          const docLink = document.createElement('div');\n",
              "          docLink.innerHTML = docLinkHtml;\n",
              "          element.appendChild(docLink);\n",
              "        }\n",
              "      </script>\n",
              "    </div>\n",
              "  </div>\n",
              "  "
            ]
          },
          "metadata": {},
          "execution_count": 91
        }
      ]
    },
    {
      "cell_type": "code",
      "source": [
        "%%time\n",
        "vectorizer.fit(sample_df.question_text)"
      ],
      "metadata": {
        "colab": {
          "base_uri": "https://localhost:8080/"
        },
        "id": "5Mu-tht42kji",
        "outputId": "e6e947af-2d54-4a45-b7d1-4e929a2abb87"
      },
      "execution_count": 93,
      "outputs": [
        {
          "output_type": "stream",
          "name": "stderr",
          "text": [
            "/usr/local/lib/python3.8/dist-packages/sklearn/feature_extraction/text.py:516: UserWarning: The parameter 'token_pattern' will not be used since 'tokenizer' is not None'\n",
            "  warnings.warn(\n"
          ]
        },
        {
          "output_type": "stream",
          "name": "stdout",
          "text": [
            "CPU times: user 29.8 s, sys: 63 ms, total: 29.9 s\n",
            "Wall time: 29.9 s\n"
          ]
        },
        {
          "output_type": "execute_result",
          "data": {
            "text/plain": [
              "CountVectorizer(max_features=1000,\n",
              "                stop_words=['i', 'me', 'my', 'myself', 'we', 'our', 'ours',\n",
              "                            'ourselves', 'you', \"you're\", \"you've\", \"you'll\",\n",
              "                            \"you'd\", 'your', 'yours', 'yourself', 'yourselves',\n",
              "                            'he', 'him', 'his', 'himself', 'she', \"she's\",\n",
              "                            'her', 'hers', 'herself', 'it', \"it's\", 'its',\n",
              "                            'itself', ...],\n",
              "                tokenizer=<function tokenizer at 0x7fc2c09654c0>)"
            ]
          },
          "metadata": {},
          "execution_count": 93
        }
      ]
    },
    {
      "cell_type": "code",
      "source": [
        "vectorizer.vocabulary_"
      ],
      "metadata": {
        "colab": {
          "base_uri": "https://localhost:8080/"
        },
        "id": "ObPK__Uh2thh",
        "outputId": "9f3b3700-bc96-4ca6-f9a7-739406a0615e"
      },
      "execution_count": 94,
      "outputs": [
        {
          "output_type": "execute_result",
          "data": {
            "text/plain": [
              "{'effect': 300,\n",
              " 'manag': 547,\n",
              " 'creat': 235,\n",
              " 'good': 402,\n",
              " 'learn': 509,\n",
              " '?': 30,\n",
              " 'studi': 870,\n",
              " 'abroad': 35,\n",
              " 'class': 195,\n",
              " 'make': 544,\n",
              " 'friend': 381,\n",
              " 'colleg': 203,\n",
              " 'download': 282,\n",
              " 'free': 379,\n",
              " ':': 29,\n",
              " '(': 8,\n",
              " 'iphon': 478,\n",
              " ')': 9,\n",
              " 'like': 522,\n",
              " ',': 10,\n",
              " '``': 33,\n",
              " \"''\": 5,\n",
              " 'also': 66,\n",
              " 'onlin': 635,\n",
              " 'invest': 476,\n",
              " 'platform': 677,\n",
              " 'direct': 273,\n",
              " 'fund': 384,\n",
              " 'record': 745,\n",
              " 'read': 737,\n",
              " 'term': 899,\n",
              " \"'s\": 7,\n",
              " 'role': 772,\n",
              " 'get': 394,\n",
              " 'univers': 937,\n",
              " 'germani': 393,\n",
              " 'new': 612,\n",
              " 'skill': 827,\n",
              " 'anyth': 81,\n",
              " 'old': 631,\n",
              " 'english': 312,\n",
              " 'militari': 578,\n",
              " 'capit': 160,\n",
              " 'way': 957,\n",
              " 'earn': 291,\n",
              " 'money': 587,\n",
              " 'use': 941,\n",
              " 'brand': 144,\n",
              " 'car': 161,\n",
              " 'whi': 967,\n",
              " 'alway': 68,\n",
              " 'prefer': 694,\n",
              " 'player': 679,\n",
              " 'india': 456,\n",
              " 'play': 678,\n",
              " 'need': 607,\n",
              " 'purchas': 720,\n",
              " 'insur': 467,\n",
              " 'educ': 299,\n",
              " 'technolog': 896,\n",
              " 'compani': 211,\n",
              " 'come': 205,\n",
              " 'economi': 298,\n",
              " 'pursu': 722,\n",
              " 'mba': 561,\n",
              " 'activ': 45,\n",
              " 'place': 672,\n",
              " 'citizen': 192,\n",
              " \"'\": 4,\n",
              " 'featur': 353,\n",
              " 'air': 61,\n",
              " 'intern': 471,\n",
              " 'applic': 87,\n",
              " 'countri': 231,\n",
              " 'one': 633,\n",
              " 'movi': 592,\n",
              " 'actual': 47,\n",
              " 'rich': 768,\n",
              " 'peopl': 660,\n",
              " \"n't\": 600,\n",
              " 'care': 163,\n",
              " 'world': 981,\n",
              " 'issu': 482,\n",
              " 'affect': 56,\n",
              " 'poor': 685,\n",
              " 'deal': 252,\n",
              " 'problem': 703,\n",
              " 'life': 520,\n",
              " 'doe': 278,\n",
              " 'mean': 562,\n",
              " 'fear': 352,\n",
              " 'achiev': 42,\n",
              " 'success': 874,\n",
              " 'busi': 150,\n",
              " 'say': 783,\n",
              " 'mass': 554,\n",
              " 'shoot': 813,\n",
              " 'look': 533,\n",
              " 'start': 856,\n",
              " 'program': 711,\n",
              " 'year': 990,\n",
              " '.': 12,\n",
              " 'job': 488,\n",
              " 'offer': 625,\n",
              " 'special': 848,\n",
              " 'iit': 446,\n",
              " 'time': 909,\n",
              " 'anyon': 80,\n",
              " 'part': 654,\n",
              " 'bodi': 137,\n",
              " 'social': 833,\n",
              " 'help': 428,\n",
              " 'consid': 218,\n",
              " 'document': 277,\n",
              " 'child': 185,\n",
              " 'media': 565,\n",
              " 'feel': 355,\n",
              " 'leav': 511,\n",
              " 'determin': 266,\n",
              " 'area': 90,\n",
              " 'water': 956,\n",
              " 'left': 512,\n",
              " 'month': 588,\n",
              " 'safe': 778,\n",
              " 'drink': 284,\n",
              " 'better': 125,\n",
              " 'tip': 910,\n",
              " 'write': 985,\n",
              " 'email': 305,\n",
              " 'japanes': 484,\n",
              " 'first': 366,\n",
              " 'charact': 178,\n",
              " 'civil': 193,\n",
              " 'select': 798,\n",
              " 'financi': 363,\n",
              " 'certif': 173,\n",
              " 'requir': 759,\n",
              " 'admiss': 51,\n",
              " '2018': 22,\n",
              " 'ani': 75,\n",
              " 'see': 795,\n",
              " 'quora': 726,\n",
              " 'app': 83,\n",
              " 'onli': 634,\n",
              " 'show': 816,\n",
              " 'question': 725,\n",
              " 'south': 845,\n",
              " 'indian': 457,\n",
              " 'men': 570,\n",
              " 'dark': 247,\n",
              " 'becaus': 117,\n",
              " 'realli': 740,\n",
              " 'keep': 490,\n",
              " 'face': 338,\n",
              " 'day': 250,\n",
              " 'long': 532,\n",
              " 'institut': 466,\n",
              " 'market': 551,\n",
              " 'exist': 331,\n",
              " 'noth': 619,\n",
              " 'stop': 863,\n",
              " 'back': 108,\n",
              " 'ever': 322,\n",
              " 'pakistan': 650,\n",
              " 'becom': 118,\n",
              " 'state': 858,\n",
              " 'iq': 479,\n",
              " 'person': 666,\n",
              " 'known': 497,\n",
              " 'someon': 838,\n",
              " 'black': 131,\n",
              " 'video': 946,\n",
              " 'hand': 416,\n",
              " 'away': 105,\n",
              " 'themselv': 902,\n",
              " 'someth': 839,\n",
              " 'normal': 617,\n",
              " 'fee': 354,\n",
              " 'win': 971,\n",
              " 'war': 954,\n",
              " 'gate': 388,\n",
              " 'import': 451,\n",
              " 'jew': 487,\n",
              " 'type': 932,\n",
              " 'measur': 563,\n",
              " 'current': 242,\n",
              " 'main': 542,\n",
              " 'advantag': 54,\n",
              " 'network': 610,\n",
              " 'secur': 794,\n",
              " 'moment': 586,\n",
              " 'young': 993,\n",
              " 'student': 869,\n",
              " 'would': 984,\n",
              " 'move': 591,\n",
              " 'school': 784,\n",
              " 'appli': 86,\n",
              " 'internship': 473,\n",
              " 'eat': 296,\n",
              " 'even': 320,\n",
              " 'though': 906,\n",
              " 'healthi': 424,\n",
              " 'facebook': 339,\n",
              " 'regard': 749,\n",
              " 'list': 526,\n",
              " 'detail': 265,\n",
              " 'relat': 750,\n",
              " 'adult': 52,\n",
              " 'thing': 904,\n",
              " 'girl': 395,\n",
              " 'fall': 344,\n",
              " 'love': 538,\n",
              " 'guy': 414,\n",
              " 'call': 155,\n",
              " 'russian': 777,\n",
              " 'attack': 98,\n",
              " 'internet': 472,\n",
              " 'work': 980,\n",
              " 'everi': 323,\n",
              " 'chang': 176,\n",
              " 'happen': 418,\n",
              " 'best': 124,\n",
              " 'scienc': 785,\n",
              " 'age': 59,\n",
              " 'electron': 303,\n",
              " 'middl': 576,\n",
              " 'east': 295,\n",
              " 'hard': 420,\n",
              " 'find': 364,\n",
              " 'true': 926,\n",
              " 'much': 594,\n",
              " 'spend': 851,\n",
              " 'energi': 310,\n",
              " 'ca': 153,\n",
              " 'machin': 540,\n",
              " 'instead': 465,\n",
              " 'level': 517,\n",
              " 'size': 826,\n",
              " 'googl': 403,\n",
              " '1': 13,\n",
              " 'number': 622,\n",
              " 'dure': 289,\n",
              " 'jee': 486,\n",
              " 'ball': 110,\n",
              " 'possibl': 689,\n",
              " 'cost': 229,\n",
              " 'light': 521,\n",
              " 'calcul': 154,\n",
              " 'big': 126,\n",
              " 'fast': 348,\n",
              " 'board': 136,\n",
              " 'exam': 328,\n",
              " 'process': 705,\n",
              " 'us': 939,\n",
              " 'bad': 109,\n",
              " 'law': 507,\n",
              " 'watch': 955,\n",
              " 'engin': 311,\n",
              " 'low': 539,\n",
              " 'power': 692,\n",
              " 'stock': 862,\n",
              " 'trade': 919,\n",
              " 'option': 640,\n",
              " 'differ': 270,\n",
              " 'muslim': 598,\n",
              " 'american': 71,\n",
              " 'women': 978,\n",
              " 'veri': 945,\n",
              " 'open': 636,\n",
              " 'rape': 731,\n",
              " 'tri': 925,\n",
              " 'want': 953,\n",
              " 'answer': 78,\n",
              " 'communic': 209,\n",
              " 'within': 974,\n",
              " 'could': 230,\n",
              " 'act': 43,\n",
              " 'sever': 809,\n",
              " 'star': 855,\n",
              " 'scientif': 786,\n",
              " 'procedur': 704,\n",
              " 'reduc': 747,\n",
              " 'worst': 982,\n",
              " 'high': 429,\n",
              " 'support': 880,\n",
              " 'softwar': 835,\n",
              " 'sourc': 844,\n",
              " 'reason': 741,\n",
              " 'wear': 959,\n",
              " 'real': 738,\n",
              " 'food': 373,\n",
              " 'whole': 969,\n",
              " 'data': 248,\n",
              " 'defin': 256,\n",
              " 'polit': 684,\n",
              " 'decis': 255,\n",
              " 'dream': 283,\n",
              " 'convert': 226,\n",
              " 'standard': 854,\n",
              " 'yes': 991,\n",
              " 'done': 281,\n",
              " 'pay': 659,\n",
              " 'tax': 889,\n",
              " 'cut': 244,\n",
              " 'without': 975,\n",
              " 'polic': 682,\n",
              " 'offic': 626,\n",
              " 'b': 106,\n",
              " 'commit': 207,\n",
              " 'crime': 237,\n",
              " 'common': 208,\n",
              " 'think': 905,\n",
              " 'late': 505,\n",
              " 'outsid': 644,\n",
              " 'mani': 548,\n",
              " 'die': 269,\n",
              " 'trump': 927,\n",
              " 'ask': 95,\n",
              " 'interview': 474,\n",
              " 'test': 900,\n",
              " 'check': 182,\n",
              " 'cancer': 158,\n",
              " 'interest': 470,\n",
              " 'rate': 732,\n",
              " 'full': 382,\n",
              " 'tv': 930,\n",
              " 'seri': 805,\n",
              " 'next': 614,\n",
              " 'generat': 391,\n",
              " 'order': 641,\n",
              " 'understand': 935,\n",
              " 'stori': 865,\n",
              " 'citi': 191,\n",
              " 'claim': 194,\n",
              " 'hire': 432,\n",
              " 'share': 812,\n",
              " 'candid': 159,\n",
              " 'tell': 898,\n",
              " 'famili': 345,\n",
              " 'improv': 452,\n",
              " 'parent': 653,\n",
              " 'boy': 140,\n",
              " 'almost': 63,\n",
              " 'appear': 84,\n",
              " 'gay': 389,\n",
              " 'hate': 421,\n",
              " 'carri': 165,\n",
              " 'usa': 940,\n",
              " 'non': 616,\n",
              " 'constant': 219,\n",
              " 'legal': 513,\n",
              " '7': 27,\n",
              " 'event': 321,\n",
              " 'sudden': 875,\n",
              " 'earth': 292,\n",
              " 'dead': 251,\n",
              " 'major': 543,\n",
              " 'sign': 818,\n",
              " 'take': 885,\n",
              " 'websit': 961,\n",
              " 'comput': 214,\n",
              " 'tamil': 888,\n",
              " 'compar': 212,\n",
              " 'fix': 368,\n",
              " 'teach': 890,\n",
              " 'speak': 847,\n",
              " 'eye': 337,\n",
              " 'right': 770,\n",
              " 'sexual': 811,\n",
              " 'abus': 36,\n",
              " 'atheist': 97,\n",
              " 'got': 404,\n",
              " 'function': 383,\n",
              " 'organ': 642,\n",
              " 'serv': 806,\n",
              " 'psycholog': 717,\n",
              " 'group': 410,\n",
              " 'mumbai': 596,\n",
              " 'score': 789,\n",
              " 'motiv': 590,\n",
              " '&': 3,\n",
              " '$': 1,\n",
              " 'paid': 648,\n",
              " 'buy': 151,\n",
              " '8': 28,\n",
              " 'integr': 468,\n",
              " 'mechan': 564,\n",
              " 'relationship': 751,\n",
              " 'break': 145,\n",
              " 'end': 309,\n",
              " 'grade': 406,\n",
              " 'mark': 550,\n",
              " 'matter': 559,\n",
              " 'canada': 157,\n",
              " 'red': 746,\n",
              " 'drop': 286,\n",
              " 'form': 377,\n",
              " 'uk': 934,\n",
              " 'onc': 632,\n",
              " 'turn': 929,\n",
              " 'realiz': 739,\n",
              " 'hitler': 435,\n",
              " 'shop': 814,\n",
              " 'accomplish': 39,\n",
              " '’': 997,\n",
              " 'chanc': 175,\n",
              " 'father': 350,\n",
              " 'medic': 566,\n",
              " 'fit': 367,\n",
              " 'go': 400,\n",
              " 'rank': 730,\n",
              " 'expect': 332,\n",
              " 'advanc': 53,\n",
              " '2017': 21,\n",
              " 'actor': 46,\n",
              " 'model': 582,\n",
              " 'join': 489,\n",
              " 'week': 962,\n",
              " 'complet': 213,\n",
              " 'north': 618,\n",
              " 'lead': 508,\n",
              " 'taken': 886,\n",
              " 'kind': 494,\n",
              " 'asian': 94,\n",
              " 'give': 397,\n",
              " 'sleep': 829,\n",
              " 'pleas': 680,\n",
              " 'foreign': 376,\n",
              " 'languag': 501,\n",
              " 'cours': 232,\n",
              " 'career': 164,\n",
              " 'opportun': 639,\n",
              " 'smoke': 832,\n",
              " 'singl': 822,\n",
              " 'exampl': 329,\n",
              " 'vs': 951,\n",
              " 'access': 38,\n",
              " 'mind': 580,\n",
              " 'lose': 534,\n",
              " 'result': 765,\n",
              " 'loss': 535,\n",
              " 'well': 964,\n",
              " 'correct': 228,\n",
              " 'french': 380,\n",
              " 'bring': 146,\n",
              " 'european': 319,\n",
              " 'kill': 493,\n",
              " '4': 24,\n",
              " 'australia': 101,\n",
              " 'system': 884,\n",
              " 'connect': 216,\n",
              " 'emot': 306,\n",
              " 'signific': 819,\n",
              " 'electr': 302,\n",
              " \"'m\": 6,\n",
              " 'wo': 976,\n",
              " '10': 14,\n",
              " '%': 2,\n",
              " 'includ': 453,\n",
              " 'past': 658,\n",
              " '5': 25,\n",
              " 'avail': 102,\n",
              " 'societi': 834,\n",
              " 'ok': 629,\n",
              " 'extrem': 336,\n",
              " 'phd': 667,\n",
              " 'produc': 706,\n",
              " 'conserv': 217,\n",
              " 'sinc': 821,\n",
              " 'choos': 189,\n",
              " 'condit': 215,\n",
              " 'focus': 371,\n",
              " 'anim': 76,\n",
              " 'bitcoin': 130,\n",
              " 'enjoy': 313,\n",
              " 'topic': 916,\n",
              " '“': 998,\n",
              " 'enough': 314,\n",
              " 'lie': 519,\n",
              " '”': 999,\n",
              " 'know': 495,\n",
              " 'let': 515,\n",
              " 'pictur': 671,\n",
              " 'ban': 111,\n",
              " 'kid': 492,\n",
              " 'arab': 89,\n",
              " 'africa': 57,\n",
              " 'govern': 405,\n",
              " 'must': 599,\n",
              " 'respect': 762,\n",
              " 'befor': 119,\n",
              " 'heart': 426,\n",
              " 'space': 846,\n",
              " 'secret': 793,\n",
              " 'wish': 973,\n",
              " 'describ': 262,\n",
              " 'devic': 268,\n",
              " 'fact': 340,\n",
              " 'mathemat': 558,\n",
              " 'never': 611,\n",
              " 'solv': 837,\n",
              " 'basic': 115,\n",
              " 'salari': 780,\n",
              " 'theori': 903,\n",
              " 'math': 557,\n",
              " 'web': 960,\n",
              " 'design': 263,\n",
              " 'teacher': 891,\n",
              " 'home': 437,\n",
              " 'pressur': 699,\n",
              " 'invent': 475,\n",
              " 'product': 707,\n",
              " 'line': 524,\n",
              " 'wrong': 988,\n",
              " 'stay': 859,\n",
              " 'narcissist': 602,\n",
              " 'valu': 944,\n",
              " 'small': 830,\n",
              " 'usual': 943,\n",
              " 'similar': 820,\n",
              " 'experi': 334,\n",
              " 'visit': 949,\n",
              " 'intellig': 469,\n",
              " 'drive': 285,\n",
              " 'unit': 936,\n",
              " '2': 19,\n",
              " 'releas': 752,\n",
              " 'game': 387,\n",
              " 'inspir': 463,\n",
              " 'book': 138,\n",
              " 'master': 555,\n",
              " 'locat': 531,\n",
              " 'develop': 267,\n",
              " 'metal': 574,\n",
              " 'case': 166,\n",
              " 'bit': 129,\n",
              " 'summer': 879,\n",
              " 'china': 187,\n",
              " 'sometim': 840,\n",
              " 'korea': 498,\n",
              " 'russia': 776,\n",
              " 'present': 697,\n",
              " 'presid': 698,\n",
              " 'immigr': 449,\n",
              " 'per': 661,\n",
              " 'natur': 604,\n",
              " 'death': 253,\n",
              " 'exact': 327,\n",
              " 'idea': 444,\n",
              " 'god': 401,\n",
              " 'begin': 120,\n",
              " 'servic': 807,\n",
              " 'alreadi': 65,\n",
              " 'attract': 100,\n",
              " 'talk': 887,\n",
              " 'prevent': 700,\n",
              " 'opinion': 638,\n",
              " 'stand': 853,\n",
              " 'name': 601,\n",
              " 'point': 681,\n",
              " 'made': 541,\n",
              " 'side': 817,\n",
              " 'coach': 200,\n",
              " 'prepar': 696,\n",
              " 'korean': 499,\n",
              " 'son': 841,\n",
              " 'girlfriend': 396,\n",
              " 'base': 114,\n",
              " 'final': 361,\n",
              " 'recommend': 744,\n",
              " 'letter': 516,\n",
              " 'futur': 385,\n",
              " 'style': 872,\n",
              " 'might': 577,\n",
              " 'higher': 430,\n",
              " 'rather': 733,\n",
              " 'allow': 62,\n",
              " 'post': 690,\n",
              " 'save': 782,\n",
              " 'nation': 603,\n",
              " 'apart': 82,\n",
              " 'price': 701,\n",
              " 'self': 799,\n",
              " 'sound': 843,\n",
              " 'digit': 272,\n",
              " 'multipl': 595,\n",
              " 'account': 41,\n",
              " 'materi': 556,\n",
              " 'android': 74,\n",
              " 'purpos': 721,\n",
              " 'believ': 122,\n",
              " 'great': 408,\n",
              " 'placement': 673,\n",
              " 'drug': 287,\n",
              " 'marri': 552,\n",
              " 'delhi': 259,\n",
              " 'factor': 341,\n",
              " 'babi': 107,\n",
              " 'anxieti': 79,\n",
              " 'night': 615,\n",
              " 'alon': 64,\n",
              " 'certain': 172,\n",
              " 'yet': 992,\n",
              " 'expens': 333,\n",
              " 'techniqu': 895,\n",
              " 'novel': 620,\n",
              " 'degre': 257,\n",
              " 'privat': 702,\n",
              " 'limit': 523,\n",
              " 'word': 979,\n",
              " 'abl': 34,\n",
              " 'physic': 670,\n",
              " 'view': 947,\n",
              " 'advic': 55,\n",
              " 'man': 546,\n",
              " 'wife': 970,\n",
              " 'woman': 977,\n",
              " 'ex': 326,\n",
              " 'boyfriend': 141,\n",
              " 'fail': 342,\n",
              " 'subject': 873,\n",
              " 'sell': 800,\n",
              " 'bank': 113,\n",
              " 'beauti': 116,\n",
              " 'gun': 413,\n",
              " 'cultur': 241,\n",
              " 'less': 514,\n",
              " 'smart': 831,\n",
              " 'surviv': 882,\n",
              " 'lot': 537,\n",
              " 'distanc': 275,\n",
              " 'solut': 836,\n",
              " 'continu': 222,\n",
              " 'live': 529,\n",
              " 'treat': 923,\n",
              " 'page': 647,\n",
              " 'favorit': 351,\n",
              " 'least': 510,\n",
              " 'java': 485,\n",
              " 'perform': 664,\n",
              " 'accord': 40,\n",
              " 'health': 423,\n",
              " 'perfect': 663,\n",
              " '15': 18,\n",
              " 'chines': 188,\n",
              " 'speed': 850,\n",
              " 'said': 779,\n",
              " 'profil': 709,\n",
              " 'altern': 67,\n",
              " 'inform': 461,\n",
              " 'larg': 503,\n",
              " 'paper': 652,\n",
              " 'team': 892,\n",
              " 'follow': 372,\n",
              " 'overcom': 645,\n",
              " 'profession': 708,\n",
              " 'camera': 156,\n",
              " 'dog': 279,\n",
              " 'benefit': 123,\n",
              " 'control': 224,\n",
              " 'contact': 220,\n",
              " 'liber': 518,\n",
              " 'parti': 655,\n",
              " 'sure': 881,\n",
              " 'popul': 686,\n",
              " 'donald': 280,\n",
              " 'provid': 716,\n",
              " 'avoid': 104,\n",
              " 'necessari': 606,\n",
              " 'remov': 755,\n",
              " 'influenc': 460,\n",
              " 'blue': 135,\n",
              " 'branch': 143,\n",
              " '3': 23,\n",
              " 'famous': 346,\n",
              " 'bangalor': 112,\n",
              " 'room': 773,\n",
              " 'explain': 335,\n",
              " 'given': 398,\n",
              " 'tool': 914,\n",
              " 'hous': 440,\n",
              " 'footbal': 374,\n",
              " 'phone': 668,\n",
              " 'decid': 254,\n",
              " 'return': 766,\n",
              " 'destroy': 264,\n",
              " 'ignor': 445,\n",
              " 'two': 931,\n",
              " 'togeth': 912,\n",
              " 'replac': 756,\n",
              " 'rule': 774,\n",
              " 'build': 149,\n",
              " 'averag': 103,\n",
              " 'structur': 868,\n",
              " 'chemic': 183,\n",
              " 'properti': 713,\n",
              " 'found': 378,\n",
              " 'human': 441,\n",
              " 'around': 92,\n",
              " 'behind': 121,\n",
              " 'respons': 763,\n",
              " 'put': 723,\n",
              " 'public': 718,\n",
              " 'song': 842,\n",
              " 'today': 911,\n",
              " 'treatment': 924,\n",
              " 'approach': 88,\n",
              " 'trust': 928,\n",
              " 'illeg': 447,\n",
              " 'delet': 258,\n",
              " 'written': 987,\n",
              " 'set': 808,\n",
              " 'green': 409,\n",
              " 'card': 162,\n",
              " 'suffer': 876,\n",
              " 'seem': 796,\n",
              " 'photo': 669,\n",
              " 'histori': 433,\n",
              " 'sentenc': 803,\n",
              " 'mobil': 581,\n",
              " 'visa': 948,\n",
              " 'cell': 171,\n",
              " 'memori': 569,\n",
              " 'date': 249,\n",
              " 'hear': 425,\n",
              " 'thought': 907,\n",
              " 'recent': 743,\n",
              " 'color': 204,\n",
              " 'scope': 788,\n",
              " 'code': 201,\n",
              " 'charg': 180,\n",
              " 'posit': 688,\n",
              " 'near': 605,\n",
              " 'cat': 167,\n",
              " 'etc': 317,\n",
              " 'sex': 810,\n",
              " 'travel': 922,\n",
              " 'chemistri': 184,\n",
              " 'skin': 828,\n",
              " 'step': 860,\n",
              " 'youtub': 994,\n",
              " 'graduat': 407,\n",
              " 'econom': 297,\n",
              " 'still': 861,\n",
              " 'field': 357,\n",
              " 'financ': 362,\n",
              " 'daili': 245,\n",
              " 'fight': 358,\n",
              " 'individu': 458,\n",
              " 'rais': 729,\n",
              " 'agre': 60,\n",
              " 'exercis': 330,\n",
              " 'worth': 983,\n",
              " 'due': 288,\n",
              " 'white': 968,\n",
              " 'film': 360,\n",
              " 'project': 712,\n",
              " 'often': 627,\n",
              " 'fake': 343,\n",
              " 'news': 613,\n",
              " 'resourc': 761,\n",
              " 'meet': 567,\n",
              " '6': 26,\n",
              " 'weight': 963,\n",
              " 'accept': 37,\n",
              " 'messag': 572,\n",
              " 'cold': 202,\n",
              " 'far': 347,\n",
              " '20': 20,\n",
              " 'scientist': 787,\n",
              " 'everyon': 324,\n",
              " 'appl': 85,\n",
              " 'impact': 450,\n",
              " 'handl': 417,\n",
              " 'period': 665,\n",
              " 'crack': 234,\n",
              " 'upsc': 938,\n",
              " '100': 15,\n",
              " 'train': 920,\n",
              " 'transfer': 921,\n",
              " 'contribut': 223,\n",
              " 'cbse': 169,\n",
              " 'x': 989,\n",
              " 'last': 504,\n",
              " 'negat': 609,\n",
              " 'file': 359,\n",
              " 'qualiti': 724,\n",
              " 'blood': 134,\n",
              " 'pass': 657,\n",
              " 'oper': 637,\n",
              " 'head': 422,\n",
              " 'insid': 462,\n",
              " 'potenti': 691,\n",
              " 'marriag': 553,\n",
              " 'music': 597,\n",
              " 'plan': 674,\n",
              " 'tech': 893,\n",
              " 'startup': 857,\n",
              " 'children': 186,\n",
              " 'fire': 365,\n",
              " 'amount': 72,\n",
              " 'mother': 589,\n",
              " 'percentag': 662,\n",
              " 'laptop': 502,\n",
              " 'three': 908,\n",
              " 'british': 147,\n",
              " 'member': 568,\n",
              " 'islam': 480,\n",
              " 'suggest': 877,\n",
              " 'obama': 623,\n",
              " 'art': 93,\n",
              " 'sens': 802,\n",
              " 'strong': 867,\n",
              " 'hit': 434,\n",
              " 'male': 545,\n",
              " 'mental': 571,\n",
              " 'may': 560,\n",
              " 'convers': 225,\n",
              " 'strategi': 866,\n",
              " 'instagram': 464,\n",
              " 'anoth': 77,\n",
              " 'refer': 748,\n",
              " 'seat': 791,\n",
              " 'general': 390,\n",
              " 'cover': 233,\n",
              " 'cloth': 199,\n",
              " 'top': 915,\n",
              " 'disord': 274,\n",
              " 'especi': 316,\n",
              " 'israel': 481,\n",
              " 'clean': 196,\n",
              " 'oil': 628,\n",
              " 'hair': 415,\n",
              " 'western': 966,\n",
              " 'danger': 246,\n",
              " 'increas': 455,\n",
              " 'plant': 676,\n",
              " 'forc': 375,\n",
              " 'gain': 386,\n",
              " 'million': 579,\n",
              " 'europ': 318,\n",
              " 'religi': 753,\n",
              " 'specif': 849,\n",
              " 'doctor': 276,\n",
              " 'send': 801,\n",
              " 'caus': 168,\n",
              " 'challeng': 174,\n",
              " 'hotel': 438,\n",
              " 'search': 790,\n",
              " 'attend': 99,\n",
              " 'site': 824,\n",
              " 'christian': 190,\n",
              " 'toward': 918,\n",
              " 'west': 965,\n",
              " 'knowledg': 496,\n",
              " 'address': 50,\n",
              " 'second': 792,\n",
              " 'okay': 630,\n",
              " 'democrat': 260,\n",
              " 'republican': 758,\n",
              " 'switch': 883,\n",
              " 'nuclear': 621,\n",
              " 'difficult': 271,\n",
              " 'prove': 715,\n",
              " 'everyth': 325,\n",
              " 'teenag': 897,\n",
              " 'brother': 148,\n",
              " 'german': 392,\n",
              " 'japan': 483,\n",
              " 'armi': 91,\n",
              " 'husband': 443,\n",
              " 'react': 735,\n",
              " 'global': 399,\n",
              " 'receiv': 742,\n",
              " 'close': 198,\n",
              " 'separ': 804,\n",
              " 'method': 575,\n",
              " 'pakistani': 651,\n",
              " 'rest': 764,\n",
              " 'total': 917,\n",
              " 'analysi': 73,\n",
              " 'industri': 459,\n",
              " 'equal': 315,\n",
              " 'manufactur': 549,\n",
              " 'run': 775,\n",
              " '-': 11,\n",
              " 'origin': 643,\n",
              " 'african': 58,\n",
              " 'femal': 356,\n",
              " 'custom': 243,\n",
              " 'depress': 261,\n",
              " 'modern': 583,\n",
              " 'partner': 656,\n",
              " 'vote': 950,\n",
              " '12': 16,\n",
              " 'employ': 307,\n",
              " 'amazon': 69,\n",
              " 'u.s.': 933,\n",
              " 'america': 70,\n",
              " 'characterist': 179,\n",
              " 'window': 972,\n",
              " 'hold': 436,\n",
              " 'cs': 239,\n",
              " 'neet': 608,\n",
              " 'review': 767,\n",
              " 'brain': 142,\n",
              " 'mom': 585,\n",
              " 'writer': 986,\n",
              " '[': 31,\n",
              " ']': 32,\n",
              " 'hour': 439,\n",
              " 'grow': 411,\n",
              " 'reaction': 736,\n",
              " 'elect': 301,\n",
              " 'bill': 128,\n",
              " 'c': 152,\n",
              " 'stupid': 871,\n",
              " 'text': 901,\n",
              " 'easi': 293,\n",
              " 'crush': 238,\n",
              " 'seen': 797,\n",
              " 'flight': 370,\n",
              " 'pregnant': 695,\n",
              " 'action': 44,\n",
              " 'clear': 197,\n",
              " 'cheat': 181,\n",
              " 'pain': 649,\n",
              " 'hurt': 442,\n",
              " 'modi': 584,\n",
              " 'technic': 894,\n",
              " 'employe': 308,\n",
              " 'blog': 133,\n",
              " 'object': 624,\n",
              " 'popular': 687,\n",
              " 'littl': 528,\n",
              " 'fli': 369,\n",
              " 'reach': 734,\n",
              " 'suicid': 878,\n",
              " 'block': 132,\n",
              " 'born': 139,\n",
              " 'later': 506,\n",
              " 'key': 491,\n",
              " 'protect': 714,\n",
              " 'walk': 952,\n",
              " 'hindi': 431,\n",
              " 'growth': 412,\n",
              " 'profit': 710,\n",
              " 'told': 913,\n",
              " 'easili': 294,\n",
              " 'research': 760,\n",
              " 'packag': 646,\n",
              " 'lost': 536,\n",
              " 'land': 500,\n",
              " 'racist': 728,\n",
              " 'sale': 781,\n",
              " 'celebr': 170,\n",
              " 'pune': 719,\n",
              " 'associ': 96,\n",
              " 'short': 815,\n",
              " 'race': 727,\n",
              " 'practic': 693,\n",
              " '12th': 17,\n",
              " 'add': 49,\n",
              " 'biggest': 127,\n",
              " 'met': 573,\n",
              " 'religion': 754,\n",
              " 'sister': 823,\n",
              " 'user': 942,\n",
              " 'store': 864,\n",
              " 'polici': 683,\n",
              " 'heat': 427,\n",
              " 'els': 304,\n",
              " 'risk': 771,\n",
              " 'rid': 769,\n",
              " 'happi': 419,\n",
              " 'situat': 825,\n",
              " 'content': 221,\n",
              " 'link': 525,\n",
              " 'weapon': 958,\n",
              " 'sport': 852,\n",
              " 'cse': 240,\n",
              " 'ms': 593,\n",
              " 'comment': 206,\n",
              " 'credit': 236,\n",
              " 'imag': 448,\n",
              " '!': 0,\n",
              " 'communiti': 210,\n",
              " 'ad': 48,\n",
              " 'channel': 177,\n",
              " '{': 995,\n",
              " '}': 996,\n",
              " 'fat': 349,\n",
              " 'incom': 454,\n",
              " 'earli': 290,\n",
              " 'listen': 527,\n",
              " 'loan': 530,\n",
              " 'report': 757,\n",
              " 'convinc': 227,\n",
              " 'involv': 477,\n",
              " 'planet': 675}"
            ]
          },
          "metadata": {},
          "execution_count": 94
        }
      ]
    },
    {
      "cell_type": "code",
      "source": [
        "len(vectorizer.vocabulary_)"
      ],
      "metadata": {
        "colab": {
          "base_uri": "https://localhost:8080/"
        },
        "id": "7pep8BD_3G0h",
        "outputId": "61c338e7-4583-4a13-8d54-3e2fce0323e7"
      },
      "execution_count": 96,
      "outputs": [
        {
          "output_type": "execute_result",
          "data": {
            "text/plain": [
              "1000"
            ]
          },
          "metadata": {},
          "execution_count": 96
        }
      ]
    },
    {
      "cell_type": "code",
      "source": [
        "vectorizer.get_feature_names_out()"
      ],
      "metadata": {
        "colab": {
          "base_uri": "https://localhost:8080/"
        },
        "id": "IWus6FXn3R5_",
        "outputId": "3b2c6f01-1d31-494e-a930-89d1a6c2c8ef"
      },
      "execution_count": 98,
      "outputs": [
        {
          "output_type": "execute_result",
          "data": {
            "text/plain": [
              "array(['!', '$', '%', '&', \"'\", \"''\", \"'m\", \"'s\", '(', ')', ',', '-', '.',\n",
              "       '1', '10', '100', '12', '12th', '15', '2', '20', '2017', '2018',\n",
              "       '3', '4', '5', '6', '7', '8', ':', '?', '[', ']', '``', 'abl',\n",
              "       'abroad', 'abus', 'accept', 'access', 'accomplish', 'accord',\n",
              "       'account', 'achiev', 'act', 'action', 'activ', 'actor', 'actual',\n",
              "       'ad', 'add', 'address', 'admiss', 'adult', 'advanc', 'advantag',\n",
              "       'advic', 'affect', 'africa', 'african', 'age', 'agre', 'air',\n",
              "       'allow', 'almost', 'alon', 'alreadi', 'also', 'altern', 'alway',\n",
              "       'amazon', 'america', 'american', 'amount', 'analysi', 'android',\n",
              "       'ani', 'anim', 'anoth', 'answer', 'anxieti', 'anyon', 'anyth',\n",
              "       'apart', 'app', 'appear', 'appl', 'appli', 'applic', 'approach',\n",
              "       'arab', 'area', 'armi', 'around', 'art', 'asian', 'ask', 'associ',\n",
              "       'atheist', 'attack', 'attend', 'attract', 'australia', 'avail',\n",
              "       'averag', 'avoid', 'away', 'b', 'babi', 'back', 'bad', 'ball',\n",
              "       'ban', 'bangalor', 'bank', 'base', 'basic', 'beauti', 'becaus',\n",
              "       'becom', 'befor', 'begin', 'behind', 'believ', 'benefit', 'best',\n",
              "       'better', 'big', 'biggest', 'bill', 'bit', 'bitcoin', 'black',\n",
              "       'block', 'blog', 'blood', 'blue', 'board', 'bodi', 'book', 'born',\n",
              "       'boy', 'boyfriend', 'brain', 'branch', 'brand', 'break', 'bring',\n",
              "       'british', 'brother', 'build', 'busi', 'buy', 'c', 'ca', 'calcul',\n",
              "       'call', 'camera', 'canada', 'cancer', 'candid', 'capit', 'car',\n",
              "       'card', 'care', 'career', 'carri', 'case', 'cat', 'caus', 'cbse',\n",
              "       'celebr', 'cell', 'certain', 'certif', 'challeng', 'chanc',\n",
              "       'chang', 'channel', 'charact', 'characterist', 'charg', 'cheat',\n",
              "       'check', 'chemic', 'chemistri', 'child', 'children', 'china',\n",
              "       'chines', 'choos', 'christian', 'citi', 'citizen', 'civil',\n",
              "       'claim', 'class', 'clean', 'clear', 'close', 'cloth', 'coach',\n",
              "       'code', 'cold', 'colleg', 'color', 'come', 'comment', 'commit',\n",
              "       'common', 'communic', 'communiti', 'compani', 'compar', 'complet',\n",
              "       'comput', 'condit', 'connect', 'conserv', 'consid', 'constant',\n",
              "       'contact', 'content', 'continu', 'contribut', 'control', 'convers',\n",
              "       'convert', 'convinc', 'correct', 'cost', 'could', 'countri',\n",
              "       'cours', 'cover', 'crack', 'creat', 'credit', 'crime', 'crush',\n",
              "       'cs', 'cse', 'cultur', 'current', 'custom', 'cut', 'daili',\n",
              "       'danger', 'dark', 'data', 'date', 'day', 'dead', 'deal', 'death',\n",
              "       'decid', 'decis', 'defin', 'degre', 'delet', 'delhi', 'democrat',\n",
              "       'depress', 'describ', 'design', 'destroy', 'detail', 'determin',\n",
              "       'develop', 'devic', 'die', 'differ', 'difficult', 'digit',\n",
              "       'direct', 'disord', 'distanc', 'doctor', 'document', 'doe', 'dog',\n",
              "       'donald', 'done', 'download', 'dream', 'drink', 'drive', 'drop',\n",
              "       'drug', 'due', 'dure', 'earli', 'earn', 'earth', 'easi', 'easili',\n",
              "       'east', 'eat', 'econom', 'economi', 'educ', 'effect', 'elect',\n",
              "       'electr', 'electron', 'els', 'email', 'emot', 'employ', 'employe',\n",
              "       'end', 'energi', 'engin', 'english', 'enjoy', 'enough', 'equal',\n",
              "       'especi', 'etc', 'europ', 'european', 'even', 'event', 'ever',\n",
              "       'everi', 'everyon', 'everyth', 'ex', 'exact', 'exam', 'exampl',\n",
              "       'exercis', 'exist', 'expect', 'expens', 'experi', 'explain',\n",
              "       'extrem', 'eye', 'face', 'facebook', 'fact', 'factor', 'fail',\n",
              "       'fake', 'fall', 'famili', 'famous', 'far', 'fast', 'fat', 'father',\n",
              "       'favorit', 'fear', 'featur', 'fee', 'feel', 'femal', 'field',\n",
              "       'fight', 'file', 'film', 'final', 'financ', 'financi', 'find',\n",
              "       'fire', 'first', 'fit', 'fix', 'fli', 'flight', 'focus', 'follow',\n",
              "       'food', 'footbal', 'forc', 'foreign', 'form', 'found', 'free',\n",
              "       'french', 'friend', 'full', 'function', 'fund', 'futur', 'gain',\n",
              "       'game', 'gate', 'gay', 'general', 'generat', 'german', 'germani',\n",
              "       'get', 'girl', 'girlfriend', 'give', 'given', 'global', 'go',\n",
              "       'god', 'good', 'googl', 'got', 'govern', 'grade', 'graduat',\n",
              "       'great', 'green', 'group', 'grow', 'growth', 'gun', 'guy', 'hair',\n",
              "       'hand', 'handl', 'happen', 'happi', 'hard', 'hate', 'head',\n",
              "       'health', 'healthi', 'hear', 'heart', 'heat', 'help', 'high',\n",
              "       'higher', 'hindi', 'hire', 'histori', 'hit', 'hitler', 'hold',\n",
              "       'home', 'hotel', 'hour', 'hous', 'human', 'hurt', 'husband',\n",
              "       'idea', 'ignor', 'iit', 'illeg', 'imag', 'immigr', 'impact',\n",
              "       'import', 'improv', 'includ', 'incom', 'increas', 'india',\n",
              "       'indian', 'individu', 'industri', 'influenc', 'inform', 'insid',\n",
              "       'inspir', 'instagram', 'instead', 'institut', 'insur', 'integr',\n",
              "       'intellig', 'interest', 'intern', 'internet', 'internship',\n",
              "       'interview', 'invent', 'invest', 'involv', 'iphon', 'iq', 'islam',\n",
              "       'israel', 'issu', 'japan', 'japanes', 'java', 'jee', 'jew', 'job',\n",
              "       'join', 'keep', 'key', 'kid', 'kill', 'kind', 'know', 'knowledg',\n",
              "       'known', 'korea', 'korean', 'land', 'languag', 'laptop', 'larg',\n",
              "       'last', 'late', 'later', 'law', 'lead', 'learn', 'least', 'leav',\n",
              "       'left', 'legal', 'less', 'let', 'letter', 'level', 'liber', 'lie',\n",
              "       'life', 'light', 'like', 'limit', 'line', 'link', 'list', 'listen',\n",
              "       'littl', 'live', 'loan', 'locat', 'long', 'look', 'lose', 'loss',\n",
              "       'lost', 'lot', 'love', 'low', 'machin', 'made', 'main', 'major',\n",
              "       'make', 'male', 'man', 'manag', 'mani', 'manufactur', 'mark',\n",
              "       'market', 'marri', 'marriag', 'mass', 'master', 'materi', 'math',\n",
              "       'mathemat', 'matter', 'may', 'mba', 'mean', 'measur', 'mechan',\n",
              "       'media', 'medic', 'meet', 'member', 'memori', 'men', 'mental',\n",
              "       'messag', 'met', 'metal', 'method', 'middl', 'might', 'militari',\n",
              "       'million', 'mind', 'mobil', 'model', 'modern', 'modi', 'mom',\n",
              "       'moment', 'money', 'month', 'mother', 'motiv', 'move', 'movi',\n",
              "       'ms', 'much', 'multipl', 'mumbai', 'music', 'muslim', 'must',\n",
              "       \"n't\", 'name', 'narcissist', 'nation', 'natur', 'near',\n",
              "       'necessari', 'need', 'neet', 'negat', 'network', 'never', 'new',\n",
              "       'news', 'next', 'night', 'non', 'normal', 'north', 'noth', 'novel',\n",
              "       'nuclear', 'number', 'obama', 'object', 'offer', 'offic', 'often',\n",
              "       'oil', 'ok', 'okay', 'old', 'onc', 'one', 'onli', 'onlin', 'open',\n",
              "       'oper', 'opinion', 'opportun', 'option', 'order', 'organ',\n",
              "       'origin', 'outsid', 'overcom', 'packag', 'page', 'paid', 'pain',\n",
              "       'pakistan', 'pakistani', 'paper', 'parent', 'part', 'parti',\n",
              "       'partner', 'pass', 'past', 'pay', 'peopl', 'per', 'percentag',\n",
              "       'perfect', 'perform', 'period', 'person', 'phd', 'phone', 'photo',\n",
              "       'physic', 'pictur', 'place', 'placement', 'plan', 'planet',\n",
              "       'plant', 'platform', 'play', 'player', 'pleas', 'point', 'polic',\n",
              "       'polici', 'polit', 'poor', 'popul', 'popular', 'posit', 'possibl',\n",
              "       'post', 'potenti', 'power', 'practic', 'prefer', 'pregnant',\n",
              "       'prepar', 'present', 'presid', 'pressur', 'prevent', 'price',\n",
              "       'privat', 'problem', 'procedur', 'process', 'produc', 'product',\n",
              "       'profession', 'profil', 'profit', 'program', 'project', 'properti',\n",
              "       'protect', 'prove', 'provid', 'psycholog', 'public', 'pune',\n",
              "       'purchas', 'purpos', 'pursu', 'put', 'qualiti', 'question',\n",
              "       'quora', 'race', 'racist', 'rais', 'rank', 'rape', 'rate',\n",
              "       'rather', 'reach', 'react', 'reaction', 'read', 'real', 'realiz',\n",
              "       'realli', 'reason', 'receiv', 'recent', 'recommend', 'record',\n",
              "       'red', 'reduc', 'refer', 'regard', 'relat', 'relationship',\n",
              "       'releas', 'religi', 'religion', 'remov', 'replac', 'report',\n",
              "       'republican', 'requir', 'research', 'resourc', 'respect',\n",
              "       'respons', 'rest', 'result', 'return', 'review', 'rich', 'rid',\n",
              "       'right', 'risk', 'role', 'room', 'rule', 'run', 'russia',\n",
              "       'russian', 'safe', 'said', 'salari', 'sale', 'save', 'say',\n",
              "       'school', 'scienc', 'scientif', 'scientist', 'scope', 'score',\n",
              "       'search', 'seat', 'second', 'secret', 'secur', 'see', 'seem',\n",
              "       'seen', 'select', 'self', 'sell', 'send', 'sens', 'sentenc',\n",
              "       'separ', 'seri', 'serv', 'servic', 'set', 'sever', 'sex', 'sexual',\n",
              "       'share', 'shoot', 'shop', 'short', 'show', 'side', 'sign',\n",
              "       'signific', 'similar', 'sinc', 'singl', 'sister', 'site', 'situat',\n",
              "       'size', 'skill', 'skin', 'sleep', 'small', 'smart', 'smoke',\n",
              "       'social', 'societi', 'softwar', 'solut', 'solv', 'someon',\n",
              "       'someth', 'sometim', 'son', 'song', 'sound', 'sourc', 'south',\n",
              "       'space', 'speak', 'special', 'specif', 'speed', 'spend', 'sport',\n",
              "       'stand', 'standard', 'star', 'start', 'startup', 'state', 'stay',\n",
              "       'step', 'still', 'stock', 'stop', 'store', 'stori', 'strategi',\n",
              "       'strong', 'structur', 'student', 'studi', 'stupid', 'style',\n",
              "       'subject', 'success', 'sudden', 'suffer', 'suggest', 'suicid',\n",
              "       'summer', 'support', 'sure', 'surviv', 'switch', 'system', 'take',\n",
              "       'taken', 'talk', 'tamil', 'tax', 'teach', 'teacher', 'team',\n",
              "       'tech', 'technic', 'techniqu', 'technolog', 'teenag', 'tell',\n",
              "       'term', 'test', 'text', 'themselv', 'theori', 'thing', 'think',\n",
              "       'though', 'thought', 'three', 'time', 'tip', 'today', 'togeth',\n",
              "       'told', 'tool', 'top', 'topic', 'total', 'toward', 'trade',\n",
              "       'train', 'transfer', 'travel', 'treat', 'treatment', 'tri', 'true',\n",
              "       'trump', 'trust', 'turn', 'tv', 'two', 'type', 'u.s.', 'uk',\n",
              "       'understand', 'unit', 'univers', 'upsc', 'us', 'usa', 'use',\n",
              "       'user', 'usual', 'valu', 'veri', 'video', 'view', 'visa', 'visit',\n",
              "       'vote', 'vs', 'walk', 'want', 'war', 'watch', 'water', 'way',\n",
              "       'weapon', 'wear', 'web', 'websit', 'week', 'weight', 'well',\n",
              "       'west', 'western', 'whi', 'white', 'whole', 'wife', 'win',\n",
              "       'window', 'wish', 'within', 'without', 'wo', 'woman', 'women',\n",
              "       'word', 'work', 'world', 'worst', 'worth', 'would', 'write',\n",
              "       'writer', 'written', 'wrong', 'x', 'year', 'yes', 'yet', 'young',\n",
              "       'youtub', '{', '}', '’', '“', '”'], dtype=object)"
            ]
          },
          "metadata": {},
          "execution_count": 98
        }
      ]
    },
    {
      "cell_type": "code",
      "source": [
        "%%time\n",
        "input = vectorizer.transform(sample_df.question_text)"
      ],
      "metadata": {
        "colab": {
          "base_uri": "https://localhost:8080/"
        },
        "id": "d2U7OfUf3got",
        "outputId": "e3a2e2a3-8785-4a03-e839-dd09e4691d41"
      },
      "execution_count": 99,
      "outputs": [
        {
          "output_type": "stream",
          "name": "stdout",
          "text": [
            "CPU times: user 31.5 s, sys: 79.3 ms, total: 31.6 s\n",
            "Wall time: 32.1 s\n"
          ]
        }
      ]
    },
    {
      "cell_type": "code",
      "source": [
        "input.shape"
      ],
      "metadata": {
        "colab": {
          "base_uri": "https://localhost:8080/"
        },
        "id": "DuCDMj3Z37Bp",
        "outputId": "cb7fc6ae-45f4-4abe-9085-3b127dbc1fa3"
      },
      "execution_count": 100,
      "outputs": [
        {
          "output_type": "execute_result",
          "data": {
            "text/plain": [
              "(100000, 1000)"
            ]
          },
          "metadata": {},
          "execution_count": 100
        }
      ]
    },
    {
      "cell_type": "code",
      "source": [
        "input"
      ],
      "metadata": {
        "colab": {
          "base_uri": "https://localhost:8080/"
        },
        "id": "OmPmhLEU4D-D",
        "outputId": "13d4debb-00cf-4c04-8118-4e15b7469eb4"
      },
      "execution_count": 101,
      "outputs": [
        {
          "output_type": "execute_result",
          "data": {
            "text/plain": [
              "<100000x1000 sparse matrix of type '<class 'numpy.int64'>'\n",
              "\twith 548298 stored elements in Compressed Sparse Row format>"
            ]
          },
          "metadata": {},
          "execution_count": 101
        }
      ]
    },
    {
      "cell_type": "code",
      "source": [
        "sample_df.question_text.values[0]"
      ],
      "metadata": {
        "colab": {
          "base_uri": "https://localhost:8080/",
          "height": 35
        },
        "id": "dACJhy2743yb",
        "outputId": "be014975-a04c-478d-9710-5b5c492ab75a"
      },
      "execution_count": 103,
      "outputs": [
        {
          "output_type": "execute_result",
          "data": {
            "text/plain": [
              "'What is the most effective classroom management skill/technique to create a good learning environment?'"
            ],
            "application/vnd.google.colaboratory.intrinsic+json": {
              "type": "string"
            }
          },
          "metadata": {},
          "execution_count": 103
        }
      ]
    },
    {
      "cell_type": "code",
      "source": [
        "input[0].toarray()"
      ],
      "metadata": {
        "colab": {
          "base_uri": "https://localhost:8080/"
        },
        "id": "iZQZrVbR4ch5",
        "outputId": "718b8b27-ed30-4df2-8068-a7afd1a60b0f"
      },
      "execution_count": 105,
      "outputs": [
        {
          "output_type": "execute_result",
          "data": {
            "text/plain": [
              "array([[0, 0, 0, 0, 0, 0, 0, 0, 0, 0, 0, 0, 0, 0, 0, 0, 0, 0, 0, 0, 0, 0,\n",
              "        0, 0, 0, 0, 0, 0, 0, 0, 1, 0, 0, 0, 0, 0, 0, 0, 0, 0, 0, 0, 0, 0,\n",
              "        0, 0, 0, 0, 0, 0, 0, 0, 0, 0, 0, 0, 0, 0, 0, 0, 0, 0, 0, 0, 0, 0,\n",
              "        0, 0, 0, 0, 0, 0, 0, 0, 0, 0, 0, 0, 0, 0, 0, 0, 0, 0, 0, 0, 0, 0,\n",
              "        0, 0, 0, 0, 0, 0, 0, 0, 0, 0, 0, 0, 0, 0, 0, 0, 0, 0, 0, 0, 0, 0,\n",
              "        0, 0, 0, 0, 0, 0, 0, 0, 0, 0, 0, 0, 0, 0, 0, 0, 0, 0, 0, 0, 0, 0,\n",
              "        0, 0, 0, 0, 0, 0, 0, 0, 0, 0, 0, 0, 0, 0, 0, 0, 0, 0, 0, 0, 0, 0,\n",
              "        0, 0, 0, 0, 0, 0, 0, 0, 0, 0, 0, 0, 0, 0, 0, 0, 0, 0, 0, 0, 0, 0,\n",
              "        0, 0, 0, 0, 0, 0, 0, 0, 0, 0, 0, 0, 0, 0, 0, 0, 0, 0, 0, 0, 0, 0,\n",
              "        0, 0, 0, 0, 0, 0, 0, 0, 0, 0, 0, 0, 0, 0, 0, 0, 0, 0, 0, 0, 0, 0,\n",
              "        0, 0, 0, 0, 0, 0, 0, 0, 0, 0, 0, 0, 0, 0, 0, 1, 0, 0, 0, 0, 0, 0,\n",
              "        0, 0, 0, 0, 0, 0, 0, 0, 0, 0, 0, 0, 0, 0, 0, 0, 0, 0, 0, 0, 0, 0,\n",
              "        0, 0, 0, 0, 0, 0, 0, 0, 0, 0, 0, 0, 0, 0, 0, 0, 0, 0, 0, 0, 0, 0,\n",
              "        0, 0, 0, 0, 0, 0, 0, 0, 0, 0, 0, 0, 0, 0, 1, 0, 0, 0, 0, 0, 0, 0,\n",
              "        0, 0, 0, 0, 0, 0, 0, 0, 0, 0, 0, 0, 0, 0, 0, 0, 0, 0, 0, 0, 0, 0,\n",
              "        0, 0, 0, 0, 0, 0, 0, 0, 0, 0, 0, 0, 0, 0, 0, 0, 0, 0, 0, 0, 0, 0,\n",
              "        0, 0, 0, 0, 0, 0, 0, 0, 0, 0, 0, 0, 0, 0, 0, 0, 0, 0, 0, 0, 0, 0,\n",
              "        0, 0, 0, 0, 0, 0, 0, 0, 0, 0, 0, 0, 0, 0, 0, 0, 0, 0, 0, 0, 0, 0,\n",
              "        0, 0, 0, 0, 0, 0, 1, 0, 0, 0, 0, 0, 0, 0, 0, 0, 0, 0, 0, 0, 0, 0,\n",
              "        0, 0, 0, 0, 0, 0, 0, 0, 0, 0, 0, 0, 0, 0, 0, 0, 0, 0, 0, 0, 0, 0,\n",
              "        0, 0, 0, 0, 0, 0, 0, 0, 0, 0, 0, 0, 0, 0, 0, 0, 0, 0, 0, 0, 0, 0,\n",
              "        0, 0, 0, 0, 0, 0, 0, 0, 0, 0, 0, 0, 0, 0, 0, 0, 0, 0, 0, 0, 0, 0,\n",
              "        0, 0, 0, 0, 0, 0, 0, 0, 0, 0, 0, 0, 0, 0, 0, 0, 0, 0, 0, 0, 0, 0,\n",
              "        0, 0, 0, 1, 0, 0, 0, 0, 0, 0, 0, 0, 0, 0, 0, 0, 0, 0, 0, 0, 0, 0,\n",
              "        0, 0, 0, 0, 0, 0, 0, 0, 0, 0, 0, 0, 0, 0, 0, 0, 0, 0, 0, 1, 0, 0,\n",
              "        0, 0, 0, 0, 0, 0, 0, 0, 0, 0, 0, 0, 0, 0, 0, 0, 0, 0, 0, 0, 0, 0,\n",
              "        0, 0, 0, 0, 0, 0, 0, 0, 0, 0, 0, 0, 0, 0, 0, 0, 0, 0, 0, 0, 0, 0,\n",
              "        0, 0, 0, 0, 0, 0, 0, 0, 0, 0, 0, 0, 0, 0, 0, 0, 0, 0, 0, 0, 0, 0,\n",
              "        0, 0, 0, 0, 0, 0, 0, 0, 0, 0, 0, 0, 0, 0, 0, 0, 0, 0, 0, 0, 0, 0,\n",
              "        0, 0, 0, 0, 0, 0, 0, 0, 0, 0, 0, 0, 0, 0, 0, 0, 0, 0, 0, 0, 0, 0,\n",
              "        0, 0, 0, 0, 0, 0, 0, 0, 0, 0, 0, 0, 0, 0, 0, 0, 0, 0, 0, 0, 0, 0,\n",
              "        0, 0, 0, 0, 0, 0, 0, 0, 0, 0, 0, 0, 0, 0, 0, 0, 0, 0, 0, 0, 0, 0,\n",
              "        0, 0, 0, 0, 0, 0, 0, 0, 0, 0, 0, 0, 0, 0, 0, 0, 0, 0, 0, 0, 0, 0,\n",
              "        0, 0, 0, 0, 0, 0, 0, 0, 0, 0, 0, 0, 0, 0, 0, 0, 0, 0, 0, 0, 0, 0,\n",
              "        0, 0, 0, 0, 0, 0, 0, 0, 0, 0, 0, 0, 0, 0, 0, 0, 0, 0, 0, 0, 0, 0,\n",
              "        0, 0, 0, 0, 0, 0, 0, 0, 0, 0, 0, 0, 0, 0, 0, 0, 0, 0, 0, 0, 0, 0,\n",
              "        0, 0, 0, 0, 0, 0, 0, 0, 0, 0, 0, 0, 0, 0, 0, 0, 0, 0, 0, 0, 0, 0,\n",
              "        0, 0, 0, 0, 0, 0, 0, 0, 0, 0, 0, 0, 0, 0, 0, 0, 0, 0, 0, 0, 0, 0,\n",
              "        0, 0, 0, 0, 0, 0, 0, 0, 0, 0, 0, 0, 0, 0, 0, 0, 0, 0, 0, 0, 0, 0,\n",
              "        0, 0, 0, 0, 0, 0, 0, 0, 0, 0, 0, 0, 0, 0, 0, 0, 0, 0, 0, 0, 0, 0,\n",
              "        0, 0, 0, 0, 0, 0, 0, 0, 0, 0, 0, 0, 0, 0, 0, 0, 0, 0, 0, 0, 0, 0,\n",
              "        0, 0, 0, 0, 0, 0, 0, 0, 0, 0, 0, 0, 0, 0, 0, 0, 0, 0, 0, 0, 0, 0,\n",
              "        0, 0, 0, 0, 0, 0, 0, 0, 0, 0, 0, 0, 0, 0, 0, 0, 0, 0, 0, 0, 0, 0,\n",
              "        0, 0, 0, 0, 0, 0, 0, 0, 0, 0, 0, 0, 0, 0, 0, 0, 0, 0, 0, 0, 0, 0,\n",
              "        0, 0, 0, 0, 0, 0, 0, 0, 0, 0, 0, 0, 0, 0, 0, 0, 0, 0, 0, 0, 0, 0,\n",
              "        0, 0, 0, 0, 0, 0, 0, 0, 0, 0]])"
            ]
          },
          "metadata": {},
          "execution_count": 105
        }
      ]
    },
    {
      "cell_type": "code",
      "source": [
        "test_df"
      ],
      "metadata": {
        "colab": {
          "base_uri": "https://localhost:8080/",
          "height": 424
        },
        "id": "Py9T3SNQ4kXl",
        "outputId": "541113f6-a6ba-412b-c14d-d7f8c3cb4664"
      },
      "execution_count": 106,
      "outputs": [
        {
          "output_type": "execute_result",
          "data": {
            "text/plain": [
              "                         qid  \\\n",
              "0       0000163e3ea7c7a74cd7   \n",
              "1       00002bd4fb5d505b9161   \n",
              "2       00007756b4a147d2b0b3   \n",
              "3       000086e4b7e1c7146103   \n",
              "4       0000c4c3fbe8785a3090   \n",
              "...                      ...   \n",
              "375801  ffff7fa746bd6d6197a9   \n",
              "375802  ffffa1be31c43046ab6b   \n",
              "375803  ffffae173b6ca6bfa563   \n",
              "375804  ffffb1f7f1a008620287   \n",
              "375805  fffff85473f4699474b0   \n",
              "\n",
              "                                            question_text  \n",
              "0       Why do so many women become so rude and arroga...  \n",
              "1       When should I apply for RV college of engineer...  \n",
              "2       What is it really like to be a nurse practitio...  \n",
              "3                                  Who are entrepreneurs?  \n",
              "4        Is education really making good people nowadays?  \n",
              "...                                                   ...  \n",
              "375801  How many countries listed in gold import in in...  \n",
              "375802  Is there an alternative to dresses on formal p...  \n",
              "375803  Where I can find best friendship quotes in Tel...  \n",
              "375804        What are the causes of refraction of light?  \n",
              "375805  Climate change is a worrying topic. How much t...  \n",
              "\n",
              "[375806 rows x 2 columns]"
            ],
            "text/html": [
              "\n",
              "  <div id=\"df-0b539a4d-f1f3-4163-9afc-59d32dbfac3d\">\n",
              "    <div class=\"colab-df-container\">\n",
              "      <div>\n",
              "<style scoped>\n",
              "    .dataframe tbody tr th:only-of-type {\n",
              "        vertical-align: middle;\n",
              "    }\n",
              "\n",
              "    .dataframe tbody tr th {\n",
              "        vertical-align: top;\n",
              "    }\n",
              "\n",
              "    .dataframe thead th {\n",
              "        text-align: right;\n",
              "    }\n",
              "</style>\n",
              "<table border=\"1\" class=\"dataframe\">\n",
              "  <thead>\n",
              "    <tr style=\"text-align: right;\">\n",
              "      <th></th>\n",
              "      <th>qid</th>\n",
              "      <th>question_text</th>\n",
              "    </tr>\n",
              "  </thead>\n",
              "  <tbody>\n",
              "    <tr>\n",
              "      <th>0</th>\n",
              "      <td>0000163e3ea7c7a74cd7</td>\n",
              "      <td>Why do so many women become so rude and arroga...</td>\n",
              "    </tr>\n",
              "    <tr>\n",
              "      <th>1</th>\n",
              "      <td>00002bd4fb5d505b9161</td>\n",
              "      <td>When should I apply for RV college of engineer...</td>\n",
              "    </tr>\n",
              "    <tr>\n",
              "      <th>2</th>\n",
              "      <td>00007756b4a147d2b0b3</td>\n",
              "      <td>What is it really like to be a nurse practitio...</td>\n",
              "    </tr>\n",
              "    <tr>\n",
              "      <th>3</th>\n",
              "      <td>000086e4b7e1c7146103</td>\n",
              "      <td>Who are entrepreneurs?</td>\n",
              "    </tr>\n",
              "    <tr>\n",
              "      <th>4</th>\n",
              "      <td>0000c4c3fbe8785a3090</td>\n",
              "      <td>Is education really making good people nowadays?</td>\n",
              "    </tr>\n",
              "    <tr>\n",
              "      <th>...</th>\n",
              "      <td>...</td>\n",
              "      <td>...</td>\n",
              "    </tr>\n",
              "    <tr>\n",
              "      <th>375801</th>\n",
              "      <td>ffff7fa746bd6d6197a9</td>\n",
              "      <td>How many countries listed in gold import in in...</td>\n",
              "    </tr>\n",
              "    <tr>\n",
              "      <th>375802</th>\n",
              "      <td>ffffa1be31c43046ab6b</td>\n",
              "      <td>Is there an alternative to dresses on formal p...</td>\n",
              "    </tr>\n",
              "    <tr>\n",
              "      <th>375803</th>\n",
              "      <td>ffffae173b6ca6bfa563</td>\n",
              "      <td>Where I can find best friendship quotes in Tel...</td>\n",
              "    </tr>\n",
              "    <tr>\n",
              "      <th>375804</th>\n",
              "      <td>ffffb1f7f1a008620287</td>\n",
              "      <td>What are the causes of refraction of light?</td>\n",
              "    </tr>\n",
              "    <tr>\n",
              "      <th>375805</th>\n",
              "      <td>fffff85473f4699474b0</td>\n",
              "      <td>Climate change is a worrying topic. How much t...</td>\n",
              "    </tr>\n",
              "  </tbody>\n",
              "</table>\n",
              "<p>375806 rows × 2 columns</p>\n",
              "</div>\n",
              "      <button class=\"colab-df-convert\" onclick=\"convertToInteractive('df-0b539a4d-f1f3-4163-9afc-59d32dbfac3d')\"\n",
              "              title=\"Convert this dataframe to an interactive table.\"\n",
              "              style=\"display:none;\">\n",
              "        \n",
              "  <svg xmlns=\"http://www.w3.org/2000/svg\" height=\"24px\"viewBox=\"0 0 24 24\"\n",
              "       width=\"24px\">\n",
              "    <path d=\"M0 0h24v24H0V0z\" fill=\"none\"/>\n",
              "    <path d=\"M18.56 5.44l.94 2.06.94-2.06 2.06-.94-2.06-.94-.94-2.06-.94 2.06-2.06.94zm-11 1L8.5 8.5l.94-2.06 2.06-.94-2.06-.94L8.5 2.5l-.94 2.06-2.06.94zm10 10l.94 2.06.94-2.06 2.06-.94-2.06-.94-.94-2.06-.94 2.06-2.06.94z\"/><path d=\"M17.41 7.96l-1.37-1.37c-.4-.4-.92-.59-1.43-.59-.52 0-1.04.2-1.43.59L10.3 9.45l-7.72 7.72c-.78.78-.78 2.05 0 2.83L4 21.41c.39.39.9.59 1.41.59.51 0 1.02-.2 1.41-.59l7.78-7.78 2.81-2.81c.8-.78.8-2.07 0-2.86zM5.41 20L4 18.59l7.72-7.72 1.47 1.35L5.41 20z\"/>\n",
              "  </svg>\n",
              "      </button>\n",
              "      \n",
              "  <style>\n",
              "    .colab-df-container {\n",
              "      display:flex;\n",
              "      flex-wrap:wrap;\n",
              "      gap: 12px;\n",
              "    }\n",
              "\n",
              "    .colab-df-convert {\n",
              "      background-color: #E8F0FE;\n",
              "      border: none;\n",
              "      border-radius: 50%;\n",
              "      cursor: pointer;\n",
              "      display: none;\n",
              "      fill: #1967D2;\n",
              "      height: 32px;\n",
              "      padding: 0 0 0 0;\n",
              "      width: 32px;\n",
              "    }\n",
              "\n",
              "    .colab-df-convert:hover {\n",
              "      background-color: #E2EBFA;\n",
              "      box-shadow: 0px 1px 2px rgba(60, 64, 67, 0.3), 0px 1px 3px 1px rgba(60, 64, 67, 0.15);\n",
              "      fill: #174EA6;\n",
              "    }\n",
              "\n",
              "    [theme=dark] .colab-df-convert {\n",
              "      background-color: #3B4455;\n",
              "      fill: #D2E3FC;\n",
              "    }\n",
              "\n",
              "    [theme=dark] .colab-df-convert:hover {\n",
              "      background-color: #434B5C;\n",
              "      box-shadow: 0px 1px 3px 1px rgba(0, 0, 0, 0.15);\n",
              "      filter: drop-shadow(0px 1px 2px rgba(0, 0, 0, 0.3));\n",
              "      fill: #FFFFFF;\n",
              "    }\n",
              "  </style>\n",
              "\n",
              "      <script>\n",
              "        const buttonEl =\n",
              "          document.querySelector('#df-0b539a4d-f1f3-4163-9afc-59d32dbfac3d button.colab-df-convert');\n",
              "        buttonEl.style.display =\n",
              "          google.colab.kernel.accessAllowed ? 'block' : 'none';\n",
              "\n",
              "        async function convertToInteractive(key) {\n",
              "          const element = document.querySelector('#df-0b539a4d-f1f3-4163-9afc-59d32dbfac3d');\n",
              "          const dataTable =\n",
              "            await google.colab.kernel.invokeFunction('convertToInteractive',\n",
              "                                                     [key], {});\n",
              "          if (!dataTable) return;\n",
              "\n",
              "          const docLinkHtml = 'Like what you see? Visit the ' +\n",
              "            '<a target=\"_blank\" href=https://colab.research.google.com/notebooks/data_table.ipynb>data table notebook</a>'\n",
              "            + ' to learn more about interactive tables.';\n",
              "          element.innerHTML = '';\n",
              "          dataTable['output_type'] = 'display_data';\n",
              "          await google.colab.output.renderOutput(dataTable, element);\n",
              "          const docLink = document.createElement('div');\n",
              "          docLink.innerHTML = docLinkHtml;\n",
              "          element.appendChild(docLink);\n",
              "        }\n",
              "      </script>\n",
              "    </div>\n",
              "  </div>\n",
              "  "
            ]
          },
          "metadata": {},
          "execution_count": 106
        }
      ]
    },
    {
      "cell_type": "code",
      "source": [
        "%%time \n",
        "test_inputs = vectorizer.transform(test_df.question_text)"
      ],
      "metadata": {
        "colab": {
          "base_uri": "https://localhost:8080/"
        },
        "id": "eUVwwodr6JOh",
        "outputId": "69c5d2d8-8b7b-4213-b20b-3b50fc68611c"
      },
      "execution_count": 107,
      "outputs": [
        {
          "output_type": "stream",
          "name": "stdout",
          "text": [
            "CPU times: user 1min 52s, sys: 344 ms, total: 1min 52s\n",
            "Wall time: 1min 55s\n"
          ]
        }
      ]
    },
    {
      "cell_type": "markdown",
      "source": [
        "## ML Models for Text Classification\n",
        "\n",
        "Outline:\n",
        "\n",
        "- Create a training & validation set\n",
        "- Train a logistic regression model\n",
        "- Make predictions on training, validation & test data"
      ],
      "metadata": {
        "id": "97BQsGug7Irc"
      }
    },
    {
      "cell_type": "markdown",
      "source": [
        "### Split into Training and Validation Set"
      ],
      "metadata": {
        "id": "3C7mGgE07Pxg"
      }
    },
    {
      "cell_type": "code",
      "source": [
        "sample_df"
      ],
      "metadata": {
        "colab": {
          "base_uri": "https://localhost:8080/",
          "height": 424
        },
        "id": "WZKCi3Oy6hcD",
        "outputId": "af0d2644-215e-4166-c61e-0c722c174879"
      },
      "execution_count": 108,
      "outputs": [
        {
          "output_type": "execute_result",
          "data": {
            "text/plain": [
              "                          qid  \\\n",
              "443046   56d324bb1e2c29f43b12   \n",
              "947549   b9ad893dc78c577f8a63   \n",
              "523769   6689ebaeeb65b209a412   \n",
              "949821   ba1e2c4a0fef09671516   \n",
              "1030397  c9ea2b69bf0d74626f46   \n",
              "...                       ...   \n",
              "998930   c3c03a307a29c69971b4   \n",
              "66641    0d119aba95ee6684f506   \n",
              "90024    11a46cd148a104b271cf   \n",
              "130113   1973e6e2111a0c93193a   \n",
              "1137     0037ed037520d82393c0   \n",
              "\n",
              "                                             question_text  target  \n",
              "443046   What is the most effective classroom managemen...       0  \n",
              "947549   Can I study abroad after 10th class from Bangl...       0  \n",
              "523769         How can I make friends as a college junior?       0  \n",
              "949821   How do I download free APK Minecraft: Pocket E...       0  \n",
              "1030397  Like Kuvera, is \"Groww\" also a free online inv...       0  \n",
              "...                                                    ...     ...  \n",
              "998930   How do I research list of reliable charcoal im...       0  \n",
              "66641    What are petroleum products, and what is petro...       0  \n",
              "90024    What are some services that will let you quick...       0  \n",
              "130113   What credit card processors do online marketpl...       0  \n",
              "1137          On which number system does a computer work?       0  \n",
              "\n",
              "[100000 rows x 3 columns]"
            ],
            "text/html": [
              "\n",
              "  <div id=\"df-1b6ae62f-f46b-49de-b3b7-fe419d305cc7\">\n",
              "    <div class=\"colab-df-container\">\n",
              "      <div>\n",
              "<style scoped>\n",
              "    .dataframe tbody tr th:only-of-type {\n",
              "        vertical-align: middle;\n",
              "    }\n",
              "\n",
              "    .dataframe tbody tr th {\n",
              "        vertical-align: top;\n",
              "    }\n",
              "\n",
              "    .dataframe thead th {\n",
              "        text-align: right;\n",
              "    }\n",
              "</style>\n",
              "<table border=\"1\" class=\"dataframe\">\n",
              "  <thead>\n",
              "    <tr style=\"text-align: right;\">\n",
              "      <th></th>\n",
              "      <th>qid</th>\n",
              "      <th>question_text</th>\n",
              "      <th>target</th>\n",
              "    </tr>\n",
              "  </thead>\n",
              "  <tbody>\n",
              "    <tr>\n",
              "      <th>443046</th>\n",
              "      <td>56d324bb1e2c29f43b12</td>\n",
              "      <td>What is the most effective classroom managemen...</td>\n",
              "      <td>0</td>\n",
              "    </tr>\n",
              "    <tr>\n",
              "      <th>947549</th>\n",
              "      <td>b9ad893dc78c577f8a63</td>\n",
              "      <td>Can I study abroad after 10th class from Bangl...</td>\n",
              "      <td>0</td>\n",
              "    </tr>\n",
              "    <tr>\n",
              "      <th>523769</th>\n",
              "      <td>6689ebaeeb65b209a412</td>\n",
              "      <td>How can I make friends as a college junior?</td>\n",
              "      <td>0</td>\n",
              "    </tr>\n",
              "    <tr>\n",
              "      <th>949821</th>\n",
              "      <td>ba1e2c4a0fef09671516</td>\n",
              "      <td>How do I download free APK Minecraft: Pocket E...</td>\n",
              "      <td>0</td>\n",
              "    </tr>\n",
              "    <tr>\n",
              "      <th>1030397</th>\n",
              "      <td>c9ea2b69bf0d74626f46</td>\n",
              "      <td>Like Kuvera, is \"Groww\" also a free online inv...</td>\n",
              "      <td>0</td>\n",
              "    </tr>\n",
              "    <tr>\n",
              "      <th>...</th>\n",
              "      <td>...</td>\n",
              "      <td>...</td>\n",
              "      <td>...</td>\n",
              "    </tr>\n",
              "    <tr>\n",
              "      <th>998930</th>\n",
              "      <td>c3c03a307a29c69971b4</td>\n",
              "      <td>How do I research list of reliable charcoal im...</td>\n",
              "      <td>0</td>\n",
              "    </tr>\n",
              "    <tr>\n",
              "      <th>66641</th>\n",
              "      <td>0d119aba95ee6684f506</td>\n",
              "      <td>What are petroleum products, and what is petro...</td>\n",
              "      <td>0</td>\n",
              "    </tr>\n",
              "    <tr>\n",
              "      <th>90024</th>\n",
              "      <td>11a46cd148a104b271cf</td>\n",
              "      <td>What are some services that will let you quick...</td>\n",
              "      <td>0</td>\n",
              "    </tr>\n",
              "    <tr>\n",
              "      <th>130113</th>\n",
              "      <td>1973e6e2111a0c93193a</td>\n",
              "      <td>What credit card processors do online marketpl...</td>\n",
              "      <td>0</td>\n",
              "    </tr>\n",
              "    <tr>\n",
              "      <th>1137</th>\n",
              "      <td>0037ed037520d82393c0</td>\n",
              "      <td>On which number system does a computer work?</td>\n",
              "      <td>0</td>\n",
              "    </tr>\n",
              "  </tbody>\n",
              "</table>\n",
              "<p>100000 rows × 3 columns</p>\n",
              "</div>\n",
              "      <button class=\"colab-df-convert\" onclick=\"convertToInteractive('df-1b6ae62f-f46b-49de-b3b7-fe419d305cc7')\"\n",
              "              title=\"Convert this dataframe to an interactive table.\"\n",
              "              style=\"display:none;\">\n",
              "        \n",
              "  <svg xmlns=\"http://www.w3.org/2000/svg\" height=\"24px\"viewBox=\"0 0 24 24\"\n",
              "       width=\"24px\">\n",
              "    <path d=\"M0 0h24v24H0V0z\" fill=\"none\"/>\n",
              "    <path d=\"M18.56 5.44l.94 2.06.94-2.06 2.06-.94-2.06-.94-.94-2.06-.94 2.06-2.06.94zm-11 1L8.5 8.5l.94-2.06 2.06-.94-2.06-.94L8.5 2.5l-.94 2.06-2.06.94zm10 10l.94 2.06.94-2.06 2.06-.94-2.06-.94-.94-2.06-.94 2.06-2.06.94z\"/><path d=\"M17.41 7.96l-1.37-1.37c-.4-.4-.92-.59-1.43-.59-.52 0-1.04.2-1.43.59L10.3 9.45l-7.72 7.72c-.78.78-.78 2.05 0 2.83L4 21.41c.39.39.9.59 1.41.59.51 0 1.02-.2 1.41-.59l7.78-7.78 2.81-2.81c.8-.78.8-2.07 0-2.86zM5.41 20L4 18.59l7.72-7.72 1.47 1.35L5.41 20z\"/>\n",
              "  </svg>\n",
              "      </button>\n",
              "      \n",
              "  <style>\n",
              "    .colab-df-container {\n",
              "      display:flex;\n",
              "      flex-wrap:wrap;\n",
              "      gap: 12px;\n",
              "    }\n",
              "\n",
              "    .colab-df-convert {\n",
              "      background-color: #E8F0FE;\n",
              "      border: none;\n",
              "      border-radius: 50%;\n",
              "      cursor: pointer;\n",
              "      display: none;\n",
              "      fill: #1967D2;\n",
              "      height: 32px;\n",
              "      padding: 0 0 0 0;\n",
              "      width: 32px;\n",
              "    }\n",
              "\n",
              "    .colab-df-convert:hover {\n",
              "      background-color: #E2EBFA;\n",
              "      box-shadow: 0px 1px 2px rgba(60, 64, 67, 0.3), 0px 1px 3px 1px rgba(60, 64, 67, 0.15);\n",
              "      fill: #174EA6;\n",
              "    }\n",
              "\n",
              "    [theme=dark] .colab-df-convert {\n",
              "      background-color: #3B4455;\n",
              "      fill: #D2E3FC;\n",
              "    }\n",
              "\n",
              "    [theme=dark] .colab-df-convert:hover {\n",
              "      background-color: #434B5C;\n",
              "      box-shadow: 0px 1px 3px 1px rgba(0, 0, 0, 0.15);\n",
              "      filter: drop-shadow(0px 1px 2px rgba(0, 0, 0, 0.3));\n",
              "      fill: #FFFFFF;\n",
              "    }\n",
              "  </style>\n",
              "\n",
              "      <script>\n",
              "        const buttonEl =\n",
              "          document.querySelector('#df-1b6ae62f-f46b-49de-b3b7-fe419d305cc7 button.colab-df-convert');\n",
              "        buttonEl.style.display =\n",
              "          google.colab.kernel.accessAllowed ? 'block' : 'none';\n",
              "\n",
              "        async function convertToInteractive(key) {\n",
              "          const element = document.querySelector('#df-1b6ae62f-f46b-49de-b3b7-fe419d305cc7');\n",
              "          const dataTable =\n",
              "            await google.colab.kernel.invokeFunction('convertToInteractive',\n",
              "                                                     [key], {});\n",
              "          if (!dataTable) return;\n",
              "\n",
              "          const docLinkHtml = 'Like what you see? Visit the ' +\n",
              "            '<a target=\"_blank\" href=https://colab.research.google.com/notebooks/data_table.ipynb>data table notebook</a>'\n",
              "            + ' to learn more about interactive tables.';\n",
              "          element.innerHTML = '';\n",
              "          dataTable['output_type'] = 'display_data';\n",
              "          await google.colab.output.renderOutput(dataTable, element);\n",
              "          const docLink = document.createElement('div');\n",
              "          docLink.innerHTML = docLinkHtml;\n",
              "          element.appendChild(docLink);\n",
              "        }\n",
              "      </script>\n",
              "    </div>\n",
              "  </div>\n",
              "  "
            ]
          },
          "metadata": {},
          "execution_count": 108
        }
      ]
    },
    {
      "cell_type": "code",
      "source": [
        "input.shape"
      ],
      "metadata": {
        "colab": {
          "base_uri": "https://localhost:8080/"
        },
        "id": "Cvr5Ar-27cJ1",
        "outputId": "6f47c8d7-4c83-4ecb-a515-80df8c1a3c85"
      },
      "execution_count": 109,
      "outputs": [
        {
          "output_type": "execute_result",
          "data": {
            "text/plain": [
              "(100000, 1000)"
            ]
          },
          "metadata": {},
          "execution_count": 109
        }
      ]
    },
    {
      "cell_type": "code",
      "source": [
        "from sklearn.model_selection import train_test_split"
      ],
      "metadata": {
        "id": "BnD3FxMG7lsc"
      },
      "execution_count": 110,
      "outputs": []
    },
    {
      "cell_type": "code",
      "source": [
        "train_input,val_input, train_target, val_targets = train_test_split(input, sample_df.target,\n",
        "                                                                    test_size = 0.3,random_state = 42)"
      ],
      "metadata": {
        "id": "mZ5P-kO57zQS"
      },
      "execution_count": 111,
      "outputs": []
    },
    {
      "cell_type": "code",
      "source": [
        "train_input.shape"
      ],
      "metadata": {
        "colab": {
          "base_uri": "https://localhost:8080/"
        },
        "id": "5J9swP2e8ntV",
        "outputId": "c4cc1d16-1fa2-49fb-b04c-9daafc7b0060"
      },
      "execution_count": 112,
      "outputs": [
        {
          "output_type": "execute_result",
          "data": {
            "text/plain": [
              "(70000, 1000)"
            ]
          },
          "metadata": {},
          "execution_count": 112
        }
      ]
    },
    {
      "cell_type": "code",
      "source": [
        "val_input.shape"
      ],
      "metadata": {
        "colab": {
          "base_uri": "https://localhost:8080/"
        },
        "id": "7FG5jH6k8qqK",
        "outputId": "12f9183c-2d5a-4089-caba-81b7512146bd"
      },
      "execution_count": 113,
      "outputs": [
        {
          "output_type": "execute_result",
          "data": {
            "text/plain": [
              "(30000, 1000)"
            ]
          },
          "metadata": {},
          "execution_count": 113
        }
      ]
    },
    {
      "cell_type": "code",
      "source": [
        "train_target.shape"
      ],
      "metadata": {
        "colab": {
          "base_uri": "https://localhost:8080/"
        },
        "id": "8CEdyf8Y8tWi",
        "outputId": "f03b971b-b275-45d4-e572-d344cc41a6fa"
      },
      "execution_count": 114,
      "outputs": [
        {
          "output_type": "execute_result",
          "data": {
            "text/plain": [
              "(70000,)"
            ]
          },
          "metadata": {},
          "execution_count": 114
        }
      ]
    },
    {
      "cell_type": "code",
      "source": [
        "val_targets.shape"
      ],
      "metadata": {
        "colab": {
          "base_uri": "https://localhost:8080/"
        },
        "id": "Xq3qTiSI87Fv",
        "outputId": "b9812039-138d-48e5-e293-8f63b63f5dea"
      },
      "execution_count": 115,
      "outputs": [
        {
          "output_type": "execute_result",
          "data": {
            "text/plain": [
              "(30000,)"
            ]
          },
          "metadata": {},
          "execution_count": 115
        }
      ]
    },
    {
      "cell_type": "markdown",
      "source": [
        "### Train Logistic Regression model"
      ],
      "metadata": {
        "id": "h8oQTjQU9J_S"
      }
    },
    {
      "cell_type": "code",
      "source": [
        "from sklearn.linear_model import LogisticRegression"
      ],
      "metadata": {
        "id": "yB5nY-Bx9Jhh"
      },
      "execution_count": 116,
      "outputs": []
    },
    {
      "cell_type": "code",
      "source": [
        "model = LogisticRegression(max_iter= 1000, solver = 'sag')"
      ],
      "metadata": {
        "id": "VJuVTXR59JcE"
      },
      "execution_count": 119,
      "outputs": []
    },
    {
      "cell_type": "code",
      "source": [
        "%%time\n",
        "model.fit(train_input, train_target)"
      ],
      "metadata": {
        "colab": {
          "base_uri": "https://localhost:8080/"
        },
        "id": "K-OcfhDZ8-RQ",
        "outputId": "94d480d6-a6c2-4d48-aca2-793a3c30caed"
      },
      "execution_count": 121,
      "outputs": [
        {
          "output_type": "stream",
          "name": "stdout",
          "text": [
            "CPU times: user 28.4 s, sys: 24.3 ms, total: 28.4 s\n",
            "Wall time: 28.3 s\n"
          ]
        },
        {
          "output_type": "stream",
          "name": "stderr",
          "text": [
            "/usr/local/lib/python3.8/dist-packages/sklearn/linear_model/_sag.py:352: ConvergenceWarning: The max_iter was reached which means the coef_ did not converge\n",
            "  warnings.warn(\n"
          ]
        },
        {
          "output_type": "execute_result",
          "data": {
            "text/plain": [
              "LogisticRegression(max_iter=1000, solver='sag')"
            ]
          },
          "metadata": {},
          "execution_count": 121
        }
      ]
    },
    {
      "cell_type": "markdown",
      "source": [
        "### Make predictions using the model"
      ],
      "metadata": {
        "id": "IWQxujCYJcAc"
      }
    },
    {
      "cell_type": "code",
      "source": [
        "model_prediction = model.predict(train_input)"
      ],
      "metadata": {
        "id": "E_zSSTOv9gxu"
      },
      "execution_count": 122,
      "outputs": []
    },
    {
      "cell_type": "code",
      "source": [
        "model_prediction"
      ],
      "metadata": {
        "colab": {
          "base_uri": "https://localhost:8080/"
        },
        "id": "scuffNZ_A1-_",
        "outputId": "f3fd082b-cc9e-4ef4-acda-2bd7371c19f5"
      },
      "execution_count": 123,
      "outputs": [
        {
          "output_type": "execute_result",
          "data": {
            "text/plain": [
              "array([0, 0, 0, ..., 0, 0, 0])"
            ]
          },
          "metadata": {},
          "execution_count": 123
        }
      ]
    },
    {
      "cell_type": "code",
      "source": [
        "pd.Series(model_prediction).value_counts()"
      ],
      "metadata": {
        "colab": {
          "base_uri": "https://localhost:8080/"
        },
        "id": "HZDTkerdA3fw",
        "outputId": "7ccf61d9-83ea-4e01-d479-74e48ff7bd1d"
      },
      "execution_count": 124,
      "outputs": [
        {
          "output_type": "execute_result",
          "data": {
            "text/plain": [
              "0    67957\n",
              "1     2043\n",
              "dtype: int64"
            ]
          },
          "metadata": {},
          "execution_count": 124
        }
      ]
    },
    {
      "cell_type": "code",
      "source": [
        "pd.Series(train_target).value_counts()"
      ],
      "metadata": {
        "colab": {
          "base_uri": "https://localhost:8080/"
        },
        "id": "80eiR9nNBB3i",
        "outputId": "5ef3d008-eba5-425f-fcd4-e5f7bee6cd68"
      },
      "execution_count": 127,
      "outputs": [
        {
          "output_type": "execute_result",
          "data": {
            "text/plain": [
              "0    65784\n",
              "1     4216\n",
              "Name: target, dtype: int64"
            ]
          },
          "metadata": {},
          "execution_count": 127
        }
      ]
    },
    {
      "cell_type": "code",
      "source": [
        "from sklearn.metrics import accuracy_score"
      ],
      "metadata": {
        "id": "pDnL6V-OBJr-"
      },
      "execution_count": 128,
      "outputs": []
    },
    {
      "cell_type": "code",
      "source": [
        "accuracy = accuracy_score(train_target,model_prediction)"
      ],
      "metadata": {
        "id": "1XFDggCaBmIb"
      },
      "execution_count": 129,
      "outputs": []
    },
    {
      "cell_type": "code",
      "source": [
        "accuracy"
      ],
      "metadata": {
        "colab": {
          "base_uri": "https://localhost:8080/"
        },
        "id": "ic8fd9nrB1m9",
        "outputId": "3819f53f-a88d-4944-fab8-6afb3efa195c"
      },
      "execution_count": 130,
      "outputs": [
        {
          "output_type": "execute_result",
          "data": {
            "text/plain": [
              "0.9504428571428571"
            ]
          },
          "metadata": {},
          "execution_count": 130
        }
      ]
    },
    {
      "cell_type": "code",
      "source": [
        "import numpy as np"
      ],
      "metadata": {
        "id": "qZEKIIx-CqvC"
      },
      "execution_count": 132,
      "outputs": []
    },
    {
      "cell_type": "code",
      "source": [
        "#accuracy if we keep all the predicted target to 0\n",
        "accuracy_score(train_target, np.zeros(len(train_target)))"
      ],
      "metadata": {
        "colab": {
          "base_uri": "https://localhost:8080/"
        },
        "id": "avHRhJYTB3uC",
        "outputId": "4a455b98-04c2-4852-b0c9-4e87f5206c05"
      },
      "execution_count": 134,
      "outputs": [
        {
          "output_type": "execute_result",
          "data": {
            "text/plain": [
              "0.9397714285714286"
            ]
          },
          "metadata": {},
          "execution_count": 134
        }
      ]
    },
    {
      "cell_type": "code",
      "source": [
        "from sklearn.metrics import f1_score"
      ],
      "metadata": {
        "id": "S0s65ynzCl83"
      },
      "execution_count": 135,
      "outputs": []
    },
    {
      "cell_type": "code",
      "source": [
        "f1_score(train_target,model_prediction)"
      ],
      "metadata": {
        "colab": {
          "base_uri": "https://localhost:8080/"
        },
        "id": "gnerzxzIHBtq",
        "outputId": "583e26ca-1b88-47be-a187-1ccd32d1c8ab"
      },
      "execution_count": 136,
      "outputs": [
        {
          "output_type": "execute_result",
          "data": {
            "text/plain": [
              "0.4457581083240134"
            ]
          },
          "metadata": {},
          "execution_count": 136
        }
      ]
    },
    {
      "cell_type": "code",
      "source": [
        "f1_score(train_target, np.zeros(len(train_target)))"
      ],
      "metadata": {
        "colab": {
          "base_uri": "https://localhost:8080/"
        },
        "id": "dwDKfQJQHGXk",
        "outputId": "0ab393a5-f71b-48c4-ee3c-a5007abdff99"
      },
      "execution_count": 137,
      "outputs": [
        {
          "output_type": "execute_result",
          "data": {
            "text/plain": [
              "0.0"
            ]
          },
          "metadata": {},
          "execution_count": 137
        }
      ]
    },
    {
      "cell_type": "code",
      "source": [
        "val_predic = model.predict(val_input)"
      ],
      "metadata": {
        "id": "Kl3ZmBuYHMNO"
      },
      "execution_count": 138,
      "outputs": []
    },
    {
      "cell_type": "code",
      "source": [
        "accuracy_score(val_targets, val_predic)"
      ],
      "metadata": {
        "colab": {
          "base_uri": "https://localhost:8080/"
        },
        "id": "sE_AjutPIwVC",
        "outputId": "80bf5c26-e2be-46bd-9a19-c2b25c4cd2d5"
      },
      "execution_count": 139,
      "outputs": [
        {
          "output_type": "execute_result",
          "data": {
            "text/plain": [
              "0.9467"
            ]
          },
          "metadata": {},
          "execution_count": 139
        }
      ]
    },
    {
      "cell_type": "code",
      "source": [
        "f1_score(val_targets, val_predic)"
      ],
      "metadata": {
        "colab": {
          "base_uri": "https://localhost:8080/"
        },
        "id": "89tv5JdFJBOF",
        "outputId": "64df9ece-e64e-4973-fb31-c6de7dbdd9b9"
      },
      "execution_count": 140,
      "outputs": [
        {
          "output_type": "execute_result",
          "data": {
            "text/plain": [
              "0.40843507214206437"
            ]
          },
          "metadata": {},
          "execution_count": 140
        }
      ]
    },
    {
      "cell_type": "code",
      "source": [
        "sincere_df.question_text.values[:10]"
      ],
      "metadata": {
        "colab": {
          "base_uri": "https://localhost:8080/"
        },
        "id": "6tZj6a6xJEMH",
        "outputId": "9718b246-65b5-4728-b2f6-1cb17e41f456"
      },
      "execution_count": 142,
      "outputs": [
        {
          "output_type": "execute_result",
          "data": {
            "text/plain": [
              "array(['How did Quebec nationalists see their province as a nation in the 1960s?',\n",
              "       'Do you have an adopted dog, how would you encourage people to adopt and not shop?',\n",
              "       'Why does velocity affect time? Does velocity affect space geometry?',\n",
              "       'How did Otto von Guericke used the Magdeburg hemispheres?',\n",
              "       'Can I convert montra helicon D to a mountain bike by just changing the tyres?',\n",
              "       'Is Gaza slowly becoming Auschwitz, Dachau or Treblinka for Palestinians?',\n",
              "       'Why does Quora automatically ban conservative opinions when reported, but does not do the same for liberal views?',\n",
              "       'Is it crazy if I wash or wipe my groceries off? Germs are everywhere.',\n",
              "       'Is there such a thing as dressing moderately, and if so, how is that different than dressing modestly?',\n",
              "       'Is it just me or have you ever been in this phase wherein you became ignorant to the people you once loved, completely disregarding their feelings/lives so you get to have something go your way and feel temporarily at ease. How did things change?'],\n",
              "      dtype=object)"
            ]
          },
          "metadata": {},
          "execution_count": 142
        }
      ]
    },
    {
      "cell_type": "code",
      "source": [
        "sincere_df.target.values[:10]"
      ],
      "metadata": {
        "colab": {
          "base_uri": "https://localhost:8080/"
        },
        "id": "1TtkdKu6Jljh",
        "outputId": "4d7fc189-8b29-4c81-acf2-e8540db73980"
      },
      "execution_count": 143,
      "outputs": [
        {
          "output_type": "execute_result",
          "data": {
            "text/plain": [
              "array([0, 0, 0, 0, 0, 0, 0, 0, 0, 0])"
            ]
          },
          "metadata": {},
          "execution_count": 143
        }
      ]
    },
    {
      "cell_type": "code",
      "source": [
        "model.predict(vectorizer.transform(sincere_df.question_text.values[:10]))"
      ],
      "metadata": {
        "colab": {
          "base_uri": "https://localhost:8080/"
        },
        "id": "TX4WEcZDJyo5",
        "outputId": "2913cda2-54cb-4d7c-f7f6-ea858608cd96"
      },
      "execution_count": 144,
      "outputs": [
        {
          "output_type": "execute_result",
          "data": {
            "text/plain": [
              "array([0, 0, 0, 0, 0, 0, 1, 0, 0, 0])"
            ]
          },
          "metadata": {},
          "execution_count": 144
        }
      ]
    },
    {
      "cell_type": "code",
      "source": [
        "insincere_df.question_text.values[:10]"
      ],
      "metadata": {
        "colab": {
          "base_uri": "https://localhost:8080/"
        },
        "id": "5GqNEI30KFZ8",
        "outputId": "4d0e3337-ea95-4022-fa40-c1c935a03c9f"
      },
      "execution_count": 145,
      "outputs": [
        {
          "output_type": "execute_result",
          "data": {
            "text/plain": [
              "array(['Has the United States become the largest dictatorship in the world?',\n",
              "       'Which babies are more sweeter to their parents? Dark skin babies or light skin babies?',\n",
              "       \"If blacks support school choice and mandatory sentencing for criminals why don't they vote Republican?\",\n",
              "       'I am gay boy and I love my cousin (boy). He is sexy, but I dont know what to do. He is hot, and I want to see his di**. What should I do?',\n",
              "       'Which races have the smallest penis?',\n",
              "       'Why do females find penises ugly?',\n",
              "       'How do I marry an American woman for a Green Card? How much do they charge?',\n",
              "       \"Why do Europeans say they're the superior race, when in fact it took them over 2,000 years until mid 19th century to surpass China's largest economy?\",\n",
              "       'Did Julius Caesar bring a tyrannosaurus rex on his campaigns to frighten the Celts into submission?',\n",
              "       \"In what manner has Republican backing of 'states rights' been hypocritical and what ways have they actually restricted the ability of states to make their own laws?\"],\n",
              "      dtype=object)"
            ]
          },
          "metadata": {},
          "execution_count": 145
        }
      ]
    },
    {
      "cell_type": "code",
      "source": [
        "insincere_df.target.values[:10]"
      ],
      "metadata": {
        "colab": {
          "base_uri": "https://localhost:8080/"
        },
        "id": "u2wNbfYJKf1Q",
        "outputId": "00eb4ba6-b7a7-4479-8d44-29c5b245cff9"
      },
      "execution_count": 146,
      "outputs": [
        {
          "output_type": "execute_result",
          "data": {
            "text/plain": [
              "array([1, 1, 1, 1, 1, 1, 1, 1, 1, 1])"
            ]
          },
          "metadata": {},
          "execution_count": 146
        }
      ]
    },
    {
      "cell_type": "code",
      "source": [
        "model.predict(vectorizer.transform(insincere_df.question_text[:10]))"
      ],
      "metadata": {
        "colab": {
          "base_uri": "https://localhost:8080/"
        },
        "id": "1XVQtXsCKmb-",
        "outputId": "da739ca2-2a0d-4b49-e5bf-0d623b787d35"
      },
      "execution_count": 147,
      "outputs": [
        {
          "output_type": "execute_result",
          "data": {
            "text/plain": [
              "array([0, 0, 1, 1, 0, 0, 0, 1, 0, 0])"
            ]
          },
          "metadata": {},
          "execution_count": 147
        }
      ]
    },
    {
      "cell_type": "code",
      "source": [
        "test_df"
      ],
      "metadata": {
        "colab": {
          "base_uri": "https://localhost:8080/",
          "height": 424
        },
        "id": "q8uz1fYbKwfv",
        "outputId": "9c77fae5-f5ba-40b2-e1d6-a1f3af0bb839"
      },
      "execution_count": 149,
      "outputs": [
        {
          "output_type": "execute_result",
          "data": {
            "text/plain": [
              "                         qid  \\\n",
              "0       0000163e3ea7c7a74cd7   \n",
              "1       00002bd4fb5d505b9161   \n",
              "2       00007756b4a147d2b0b3   \n",
              "3       000086e4b7e1c7146103   \n",
              "4       0000c4c3fbe8785a3090   \n",
              "...                      ...   \n",
              "375801  ffff7fa746bd6d6197a9   \n",
              "375802  ffffa1be31c43046ab6b   \n",
              "375803  ffffae173b6ca6bfa563   \n",
              "375804  ffffb1f7f1a008620287   \n",
              "375805  fffff85473f4699474b0   \n",
              "\n",
              "                                            question_text  \n",
              "0       Why do so many women become so rude and arroga...  \n",
              "1       When should I apply for RV college of engineer...  \n",
              "2       What is it really like to be a nurse practitio...  \n",
              "3                                  Who are entrepreneurs?  \n",
              "4        Is education really making good people nowadays?  \n",
              "...                                                   ...  \n",
              "375801  How many countries listed in gold import in in...  \n",
              "375802  Is there an alternative to dresses on formal p...  \n",
              "375803  Where I can find best friendship quotes in Tel...  \n",
              "375804        What are the causes of refraction of light?  \n",
              "375805  Climate change is a worrying topic. How much t...  \n",
              "\n",
              "[375806 rows x 2 columns]"
            ],
            "text/html": [
              "\n",
              "  <div id=\"df-7ec0e25b-9667-4c10-8744-9b78e3f9b326\">\n",
              "    <div class=\"colab-df-container\">\n",
              "      <div>\n",
              "<style scoped>\n",
              "    .dataframe tbody tr th:only-of-type {\n",
              "        vertical-align: middle;\n",
              "    }\n",
              "\n",
              "    .dataframe tbody tr th {\n",
              "        vertical-align: top;\n",
              "    }\n",
              "\n",
              "    .dataframe thead th {\n",
              "        text-align: right;\n",
              "    }\n",
              "</style>\n",
              "<table border=\"1\" class=\"dataframe\">\n",
              "  <thead>\n",
              "    <tr style=\"text-align: right;\">\n",
              "      <th></th>\n",
              "      <th>qid</th>\n",
              "      <th>question_text</th>\n",
              "    </tr>\n",
              "  </thead>\n",
              "  <tbody>\n",
              "    <tr>\n",
              "      <th>0</th>\n",
              "      <td>0000163e3ea7c7a74cd7</td>\n",
              "      <td>Why do so many women become so rude and arroga...</td>\n",
              "    </tr>\n",
              "    <tr>\n",
              "      <th>1</th>\n",
              "      <td>00002bd4fb5d505b9161</td>\n",
              "      <td>When should I apply for RV college of engineer...</td>\n",
              "    </tr>\n",
              "    <tr>\n",
              "      <th>2</th>\n",
              "      <td>00007756b4a147d2b0b3</td>\n",
              "      <td>What is it really like to be a nurse practitio...</td>\n",
              "    </tr>\n",
              "    <tr>\n",
              "      <th>3</th>\n",
              "      <td>000086e4b7e1c7146103</td>\n",
              "      <td>Who are entrepreneurs?</td>\n",
              "    </tr>\n",
              "    <tr>\n",
              "      <th>4</th>\n",
              "      <td>0000c4c3fbe8785a3090</td>\n",
              "      <td>Is education really making good people nowadays?</td>\n",
              "    </tr>\n",
              "    <tr>\n",
              "      <th>...</th>\n",
              "      <td>...</td>\n",
              "      <td>...</td>\n",
              "    </tr>\n",
              "    <tr>\n",
              "      <th>375801</th>\n",
              "      <td>ffff7fa746bd6d6197a9</td>\n",
              "      <td>How many countries listed in gold import in in...</td>\n",
              "    </tr>\n",
              "    <tr>\n",
              "      <th>375802</th>\n",
              "      <td>ffffa1be31c43046ab6b</td>\n",
              "      <td>Is there an alternative to dresses on formal p...</td>\n",
              "    </tr>\n",
              "    <tr>\n",
              "      <th>375803</th>\n",
              "      <td>ffffae173b6ca6bfa563</td>\n",
              "      <td>Where I can find best friendship quotes in Tel...</td>\n",
              "    </tr>\n",
              "    <tr>\n",
              "      <th>375804</th>\n",
              "      <td>ffffb1f7f1a008620287</td>\n",
              "      <td>What are the causes of refraction of light?</td>\n",
              "    </tr>\n",
              "    <tr>\n",
              "      <th>375805</th>\n",
              "      <td>fffff85473f4699474b0</td>\n",
              "      <td>Climate change is a worrying topic. How much t...</td>\n",
              "    </tr>\n",
              "  </tbody>\n",
              "</table>\n",
              "<p>375806 rows × 2 columns</p>\n",
              "</div>\n",
              "      <button class=\"colab-df-convert\" onclick=\"convertToInteractive('df-7ec0e25b-9667-4c10-8744-9b78e3f9b326')\"\n",
              "              title=\"Convert this dataframe to an interactive table.\"\n",
              "              style=\"display:none;\">\n",
              "        \n",
              "  <svg xmlns=\"http://www.w3.org/2000/svg\" height=\"24px\"viewBox=\"0 0 24 24\"\n",
              "       width=\"24px\">\n",
              "    <path d=\"M0 0h24v24H0V0z\" fill=\"none\"/>\n",
              "    <path d=\"M18.56 5.44l.94 2.06.94-2.06 2.06-.94-2.06-.94-.94-2.06-.94 2.06-2.06.94zm-11 1L8.5 8.5l.94-2.06 2.06-.94-2.06-.94L8.5 2.5l-.94 2.06-2.06.94zm10 10l.94 2.06.94-2.06 2.06-.94-2.06-.94-.94-2.06-.94 2.06-2.06.94z\"/><path d=\"M17.41 7.96l-1.37-1.37c-.4-.4-.92-.59-1.43-.59-.52 0-1.04.2-1.43.59L10.3 9.45l-7.72 7.72c-.78.78-.78 2.05 0 2.83L4 21.41c.39.39.9.59 1.41.59.51 0 1.02-.2 1.41-.59l7.78-7.78 2.81-2.81c.8-.78.8-2.07 0-2.86zM5.41 20L4 18.59l7.72-7.72 1.47 1.35L5.41 20z\"/>\n",
              "  </svg>\n",
              "      </button>\n",
              "      \n",
              "  <style>\n",
              "    .colab-df-container {\n",
              "      display:flex;\n",
              "      flex-wrap:wrap;\n",
              "      gap: 12px;\n",
              "    }\n",
              "\n",
              "    .colab-df-convert {\n",
              "      background-color: #E8F0FE;\n",
              "      border: none;\n",
              "      border-radius: 50%;\n",
              "      cursor: pointer;\n",
              "      display: none;\n",
              "      fill: #1967D2;\n",
              "      height: 32px;\n",
              "      padding: 0 0 0 0;\n",
              "      width: 32px;\n",
              "    }\n",
              "\n",
              "    .colab-df-convert:hover {\n",
              "      background-color: #E2EBFA;\n",
              "      box-shadow: 0px 1px 2px rgba(60, 64, 67, 0.3), 0px 1px 3px 1px rgba(60, 64, 67, 0.15);\n",
              "      fill: #174EA6;\n",
              "    }\n",
              "\n",
              "    [theme=dark] .colab-df-convert {\n",
              "      background-color: #3B4455;\n",
              "      fill: #D2E3FC;\n",
              "    }\n",
              "\n",
              "    [theme=dark] .colab-df-convert:hover {\n",
              "      background-color: #434B5C;\n",
              "      box-shadow: 0px 1px 3px 1px rgba(0, 0, 0, 0.15);\n",
              "      filter: drop-shadow(0px 1px 2px rgba(0, 0, 0, 0.3));\n",
              "      fill: #FFFFFF;\n",
              "    }\n",
              "  </style>\n",
              "\n",
              "      <script>\n",
              "        const buttonEl =\n",
              "          document.querySelector('#df-7ec0e25b-9667-4c10-8744-9b78e3f9b326 button.colab-df-convert');\n",
              "        buttonEl.style.display =\n",
              "          google.colab.kernel.accessAllowed ? 'block' : 'none';\n",
              "\n",
              "        async function convertToInteractive(key) {\n",
              "          const element = document.querySelector('#df-7ec0e25b-9667-4c10-8744-9b78e3f9b326');\n",
              "          const dataTable =\n",
              "            await google.colab.kernel.invokeFunction('convertToInteractive',\n",
              "                                                     [key], {});\n",
              "          if (!dataTable) return;\n",
              "\n",
              "          const docLinkHtml = 'Like what you see? Visit the ' +\n",
              "            '<a target=\"_blank\" href=https://colab.research.google.com/notebooks/data_table.ipynb>data table notebook</a>'\n",
              "            + ' to learn more about interactive tables.';\n",
              "          element.innerHTML = '';\n",
              "          dataTable['output_type'] = 'display_data';\n",
              "          await google.colab.output.renderOutput(dataTable, element);\n",
              "          const docLink = document.createElement('div');\n",
              "          docLink.innerHTML = docLinkHtml;\n",
              "          element.appendChild(docLink);\n",
              "        }\n",
              "      </script>\n",
              "    </div>\n",
              "  </div>\n",
              "  "
            ]
          },
          "metadata": {},
          "execution_count": 149
        }
      ]
    },
    {
      "cell_type": "code",
      "source": [
        "test_inputs.shape"
      ],
      "metadata": {
        "colab": {
          "base_uri": "https://localhost:8080/"
        },
        "id": "yQU1uJHXLWHR",
        "outputId": "7d203236-5785-49ac-8870-22e1660d5d82"
      },
      "execution_count": 151,
      "outputs": [
        {
          "output_type": "execute_result",
          "data": {
            "text/plain": [
              "(375806, 1000)"
            ]
          },
          "metadata": {},
          "execution_count": 151
        }
      ]
    },
    {
      "cell_type": "code",
      "source": [
        "test_preds = model.predict(test_inputs)"
      ],
      "metadata": {
        "id": "DD2i3jCyLj_T"
      },
      "execution_count": 152,
      "outputs": []
    },
    {
      "cell_type": "code",
      "source": [
        "sub_df"
      ],
      "metadata": {
        "colab": {
          "base_uri": "https://localhost:8080/",
          "height": 424
        },
        "id": "qT_2rqufMPgh",
        "outputId": "46b8198f-bffd-498b-95b6-84cd5058dd85"
      },
      "execution_count": 154,
      "outputs": [
        {
          "output_type": "execute_result",
          "data": {
            "text/plain": [
              "                         qid  prediction\n",
              "0       0000163e3ea7c7a74cd7           0\n",
              "1       00002bd4fb5d505b9161           0\n",
              "2       00007756b4a147d2b0b3           0\n",
              "3       000086e4b7e1c7146103           0\n",
              "4       0000c4c3fbe8785a3090           0\n",
              "...                      ...         ...\n",
              "375801  ffff7fa746bd6d6197a9           0\n",
              "375802  ffffa1be31c43046ab6b           0\n",
              "375803  ffffae173b6ca6bfa563           0\n",
              "375804  ffffb1f7f1a008620287           0\n",
              "375805  fffff85473f4699474b0           0\n",
              "\n",
              "[375806 rows x 2 columns]"
            ],
            "text/html": [
              "\n",
              "  <div id=\"df-348417df-e2ff-4eec-9c0c-c8d6b0ab5519\">\n",
              "    <div class=\"colab-df-container\">\n",
              "      <div>\n",
              "<style scoped>\n",
              "    .dataframe tbody tr th:only-of-type {\n",
              "        vertical-align: middle;\n",
              "    }\n",
              "\n",
              "    .dataframe tbody tr th {\n",
              "        vertical-align: top;\n",
              "    }\n",
              "\n",
              "    .dataframe thead th {\n",
              "        text-align: right;\n",
              "    }\n",
              "</style>\n",
              "<table border=\"1\" class=\"dataframe\">\n",
              "  <thead>\n",
              "    <tr style=\"text-align: right;\">\n",
              "      <th></th>\n",
              "      <th>qid</th>\n",
              "      <th>prediction</th>\n",
              "    </tr>\n",
              "  </thead>\n",
              "  <tbody>\n",
              "    <tr>\n",
              "      <th>0</th>\n",
              "      <td>0000163e3ea7c7a74cd7</td>\n",
              "      <td>0</td>\n",
              "    </tr>\n",
              "    <tr>\n",
              "      <th>1</th>\n",
              "      <td>00002bd4fb5d505b9161</td>\n",
              "      <td>0</td>\n",
              "    </tr>\n",
              "    <tr>\n",
              "      <th>2</th>\n",
              "      <td>00007756b4a147d2b0b3</td>\n",
              "      <td>0</td>\n",
              "    </tr>\n",
              "    <tr>\n",
              "      <th>3</th>\n",
              "      <td>000086e4b7e1c7146103</td>\n",
              "      <td>0</td>\n",
              "    </tr>\n",
              "    <tr>\n",
              "      <th>4</th>\n",
              "      <td>0000c4c3fbe8785a3090</td>\n",
              "      <td>0</td>\n",
              "    </tr>\n",
              "    <tr>\n",
              "      <th>...</th>\n",
              "      <td>...</td>\n",
              "      <td>...</td>\n",
              "    </tr>\n",
              "    <tr>\n",
              "      <th>375801</th>\n",
              "      <td>ffff7fa746bd6d6197a9</td>\n",
              "      <td>0</td>\n",
              "    </tr>\n",
              "    <tr>\n",
              "      <th>375802</th>\n",
              "      <td>ffffa1be31c43046ab6b</td>\n",
              "      <td>0</td>\n",
              "    </tr>\n",
              "    <tr>\n",
              "      <th>375803</th>\n",
              "      <td>ffffae173b6ca6bfa563</td>\n",
              "      <td>0</td>\n",
              "    </tr>\n",
              "    <tr>\n",
              "      <th>375804</th>\n",
              "      <td>ffffb1f7f1a008620287</td>\n",
              "      <td>0</td>\n",
              "    </tr>\n",
              "    <tr>\n",
              "      <th>375805</th>\n",
              "      <td>fffff85473f4699474b0</td>\n",
              "      <td>0</td>\n",
              "    </tr>\n",
              "  </tbody>\n",
              "</table>\n",
              "<p>375806 rows × 2 columns</p>\n",
              "</div>\n",
              "      <button class=\"colab-df-convert\" onclick=\"convertToInteractive('df-348417df-e2ff-4eec-9c0c-c8d6b0ab5519')\"\n",
              "              title=\"Convert this dataframe to an interactive table.\"\n",
              "              style=\"display:none;\">\n",
              "        \n",
              "  <svg xmlns=\"http://www.w3.org/2000/svg\" height=\"24px\"viewBox=\"0 0 24 24\"\n",
              "       width=\"24px\">\n",
              "    <path d=\"M0 0h24v24H0V0z\" fill=\"none\"/>\n",
              "    <path d=\"M18.56 5.44l.94 2.06.94-2.06 2.06-.94-2.06-.94-.94-2.06-.94 2.06-2.06.94zm-11 1L8.5 8.5l.94-2.06 2.06-.94-2.06-.94L8.5 2.5l-.94 2.06-2.06.94zm10 10l.94 2.06.94-2.06 2.06-.94-2.06-.94-.94-2.06-.94 2.06-2.06.94z\"/><path d=\"M17.41 7.96l-1.37-1.37c-.4-.4-.92-.59-1.43-.59-.52 0-1.04.2-1.43.59L10.3 9.45l-7.72 7.72c-.78.78-.78 2.05 0 2.83L4 21.41c.39.39.9.59 1.41.59.51 0 1.02-.2 1.41-.59l7.78-7.78 2.81-2.81c.8-.78.8-2.07 0-2.86zM5.41 20L4 18.59l7.72-7.72 1.47 1.35L5.41 20z\"/>\n",
              "  </svg>\n",
              "      </button>\n",
              "      \n",
              "  <style>\n",
              "    .colab-df-container {\n",
              "      display:flex;\n",
              "      flex-wrap:wrap;\n",
              "      gap: 12px;\n",
              "    }\n",
              "\n",
              "    .colab-df-convert {\n",
              "      background-color: #E8F0FE;\n",
              "      border: none;\n",
              "      border-radius: 50%;\n",
              "      cursor: pointer;\n",
              "      display: none;\n",
              "      fill: #1967D2;\n",
              "      height: 32px;\n",
              "      padding: 0 0 0 0;\n",
              "      width: 32px;\n",
              "    }\n",
              "\n",
              "    .colab-df-convert:hover {\n",
              "      background-color: #E2EBFA;\n",
              "      box-shadow: 0px 1px 2px rgba(60, 64, 67, 0.3), 0px 1px 3px 1px rgba(60, 64, 67, 0.15);\n",
              "      fill: #174EA6;\n",
              "    }\n",
              "\n",
              "    [theme=dark] .colab-df-convert {\n",
              "      background-color: #3B4455;\n",
              "      fill: #D2E3FC;\n",
              "    }\n",
              "\n",
              "    [theme=dark] .colab-df-convert:hover {\n",
              "      background-color: #434B5C;\n",
              "      box-shadow: 0px 1px 3px 1px rgba(0, 0, 0, 0.15);\n",
              "      filter: drop-shadow(0px 1px 2px rgba(0, 0, 0, 0.3));\n",
              "      fill: #FFFFFF;\n",
              "    }\n",
              "  </style>\n",
              "\n",
              "      <script>\n",
              "        const buttonEl =\n",
              "          document.querySelector('#df-348417df-e2ff-4eec-9c0c-c8d6b0ab5519 button.colab-df-convert');\n",
              "        buttonEl.style.display =\n",
              "          google.colab.kernel.accessAllowed ? 'block' : 'none';\n",
              "\n",
              "        async function convertToInteractive(key) {\n",
              "          const element = document.querySelector('#df-348417df-e2ff-4eec-9c0c-c8d6b0ab5519');\n",
              "          const dataTable =\n",
              "            await google.colab.kernel.invokeFunction('convertToInteractive',\n",
              "                                                     [key], {});\n",
              "          if (!dataTable) return;\n",
              "\n",
              "          const docLinkHtml = 'Like what you see? Visit the ' +\n",
              "            '<a target=\"_blank\" href=https://colab.research.google.com/notebooks/data_table.ipynb>data table notebook</a>'\n",
              "            + ' to learn more about interactive tables.';\n",
              "          element.innerHTML = '';\n",
              "          dataTable['output_type'] = 'display_data';\n",
              "          await google.colab.output.renderOutput(dataTable, element);\n",
              "          const docLink = document.createElement('div');\n",
              "          docLink.innerHTML = docLinkHtml;\n",
              "          element.appendChild(docLink);\n",
              "        }\n",
              "      </script>\n",
              "    </div>\n",
              "  </div>\n",
              "  "
            ]
          },
          "metadata": {},
          "execution_count": 154
        }
      ]
    },
    {
      "cell_type": "code",
      "source": [
        "sub_df.prediction = test_preds"
      ],
      "metadata": {
        "id": "rsPTe4hoMiFD"
      },
      "execution_count": 155,
      "outputs": []
    },
    {
      "cell_type": "code",
      "source": [
        "sub_df.prediction.value_counts()"
      ],
      "metadata": {
        "colab": {
          "base_uri": "https://localhost:8080/"
        },
        "id": "HyXvlyL2NAjz",
        "outputId": "b0411cde-a1dc-460b-f3a8-1073563e4c8e"
      },
      "execution_count": 157,
      "outputs": [
        {
          "output_type": "execute_result",
          "data": {
            "text/plain": [
              "0    364964\n",
              "1     10842\n",
              "Name: prediction, dtype: int64"
            ]
          },
          "metadata": {},
          "execution_count": 157
        }
      ]
    },
    {
      "cell_type": "code",
      "source": [
        "sub_df.to_csv(\"Submission_file.csv\")"
      ],
      "metadata": {
        "id": "2iRQ5RB6NE9S"
      },
      "execution_count": 158,
      "outputs": []
    },
    {
      "cell_type": "code",
      "source": [
        "!head Submission_file.csv"
      ],
      "metadata": {
        "colab": {
          "base_uri": "https://localhost:8080/"
        },
        "id": "2O-4ahQuNnZH",
        "outputId": "b7d0ce33-d487-4de1-897b-02a2d276b375"
      },
      "execution_count": 160,
      "outputs": [
        {
          "output_type": "stream",
          "name": "stdout",
          "text": [
            ",qid,prediction\n",
            "0,0000163e3ea7c7a74cd7,0\n",
            "1,00002bd4fb5d505b9161,0\n",
            "2,00007756b4a147d2b0b3,0\n",
            "3,000086e4b7e1c7146103,0\n",
            "4,0000c4c3fbe8785a3090,0\n",
            "5,000101884c19f3515c1a,0\n",
            "6,00010f62537781f44a47,0\n",
            "7,00012afbd27452239059,0\n",
            "8,00014894849d00ba98a9,0\n"
          ]
        }
      ]
    },
    {
      "cell_type": "code",
      "source": [],
      "metadata": {
        "id": "jUoAFhFQNwKV"
      },
      "execution_count": null,
      "outputs": []
    }
  ]
}